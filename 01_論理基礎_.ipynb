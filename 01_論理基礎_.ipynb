{
 "cells": [
  {
   "cell_type": "raw",
   "id": "36699bd2-81ac-4394-a396-d7dde6a5e36e",
   "metadata": {},
   "source": [
    "ビット (bit/比特) ：コンピュータが処理する​​最小のデータ単位​​。2進数の1桁（0 または 1）\n",
    "バイト (byte/字节)： ​​8ビット​​で構成される基本単位​\n",
    "1 byte = 8 bits"
   ]
  },
  {
   "cell_type": "raw",
   "id": "6039d0a4-461c-49fb-a0fc-08b37f92b693",
   "metadata": {},
   "source": [
    "データ単位 10進法 (SI規格 / 国際単位系) ネットワーク速度、ハードディスク容量（メーカー表記）、伝送速度​​​"
   ]
  },
  {
   "cell_type": "markdown",
   "id": "780f4a4c-235a-4f11-961a-7f57e4200e03",
   "metadata": {},
   "source": [
    "| 単位名称         | 記号 | バイト換算           | 累乗表記     |\n",
    "| :--------------- | :--- | :------------------- | :----------- |\n",
    "| Kilobyte         | kB   | 1,000 B              | 10<sup>3</sup> B  |\n",
    "| Megabyte         | MB   | 1,000,000 B          | 10<sup>6</sup> B  |\n",
    "| Gigabyte         | GB   | 1,000,000,000 B      | 10<sup>9</sup> B  |\n",
    "| Terabyte         | TB   | 1,000,000,000,000 B  | 10<sup>12</sup> B |"
   ]
  },
  {
   "cell_type": "raw",
   "id": "5f955562-4672-4173-8d9d-0b9762b89172",
   "metadata": {},
   "source": [
    "2進法 (IEC規格) ​​OSやメモリの管理、ソフトウェアの表示​"
   ]
  },
  {
   "cell_type": "markdown",
   "id": "f78f541f-6bb8-4dc1-a11e-16c09530f495",
   "metadata": {},
   "source": [
    "| 単位名称         | 記号 | バイト換算             | 累乗表記     |\n",
    "| :--------------- | :--- | :--------------------- | :----------- |\n",
    "| Kibibyte         | KiB  | 1,024 B                | 2<sup>10</sup> B |\n",
    "| Mebibyte         | MiB  | 1,048,576 B            | 2<sup>20</sup> B |\n",
    "| Gibibyte         | GiB  | 1,073,741,824 B        | 2<sup>30</sup> B |\n",
    "| Tebibyte         | TiB  | 1,099,511,627,776 B    | 2<sup>40</sup> B |"
   ]
  },
  {
   "cell_type": "raw",
   "id": "18991415-4da8-48cc-9eb2-636ce57a6429",
   "metadata": {},
   "source": [
    "ハードディスクの​​標称容量​​（SI単位）とOSでの​​実効容量​​（IEC単位）の差の原因"
   ]
  },
  {
   "cell_type": "markdown",
   "id": "ae218422-56b6-42d6-a383-b3e58f04d5d7",
   "metadata": {},
   "source": [
    "| 日本語   | 英語    | 記号 | 10進数表記         | 累乗表記        |\n",
    "| :------- | :------ | :--- | :----------------- | :-------------- |\n",
    "| テラ     | Tera    | T    | 1,000,000,000,000 | 10<sup>12</sup> |\n",
    "| ギガ     | Giga    | G    | 1,000,000,000     | 10<sup>9</sup>  |\n",
    "| メガ     | Mega    | M    | 1,000,000         | 10<sup>6</sup>  |\n",
    "| キロ     | Kilo    | k    | 1,000             | 10<sup>3</sup>  |\n",
    "| (基準)   | (Base)  | -    | 1                 | 10<sup>0</sup>  |\n",
    "| ミリ     | Milli   | m    | 0.001             | 10<sup>-3</sup> |\n",
    "| マイクロ | Micro   | μ    | 0.000001          | 10<sup>-6</sup> |\n",
    "| ナノ     | Nano    | n    | 0.000000001       | 10<sup>-9</sup> |\n",
    "| ピコ     | Pico    | p    | 0.000000000001    | 10<sup>-12</sup> |"
   ]
  },
  {
   "cell_type": "markdown",
   "id": "f040c70a-9b79-4a94-b439-667052ba1b97",
   "metadata": {},
   "source": [
    "| 進数 | 基数 | 使用する数字 | 用途 |\n",
    "| :--- | :--- | :--- | :--- |\n",
    "| **10進数** (Decimal) | 10 | 0,1,2,3,4,5,6,7,8,9 | 日常生活、一般的な計算 |\n",
    "| **2進数** (Binary) | 2 | 0,1 | コンピュータの内部処理（全てのデータの根本） |\n",
    "| **16進数** (Hexadecimal) | 16 | 0-9, A(10),B(11),C(12),D(13),E(14),F(15) | 2進数を簡潔に表現（メモリアドレス、色コード等） |"
   ]
  },
  {
   "cell_type": "raw",
   "id": "1d3c12c6-9041-4907-ae48-b30714b8fd49",
   "metadata": {},
   "source": [
    "有限小数 (Terminating decimal)​​ 小数部の桁数が有限で終わる小数。\n",
    "無限小数 (Infinite decimal)​​ 小数部が無限に続く小数。\n",
    "\n",
    "​​分類​​:\n",
    "​​循環小数 (Repeating decimal / Recurring decimal)​​ ある桁から​​同じ数字の列が無限に繰り返される​​小数。\n",
    "例: 1/3 = 0.333..., 1/7 = 0.142857142857...\n",
    "​​非循環小数 (Non-repeating decimal)​​ 規則性なく無限に続く小数。\n",
    "例: 円周率 π = 3.14159265..., 自然対数の底 e"
   ]
  },
  {
   "cell_type": "raw",
   "id": "ebfea479-90d8-4f05-a3ad-90e4e27bc63c",
   "metadata": {},
   "source": [
    "基数 (Base / きすう)​​: 桁上がりの基準となる数。\n",
    "•10進数の基数は 10\n",
    "•2進数の基数は 2\n",
    "•16進数の基数は 16"
   ]
  },
  {
   "cell_type": "raw",
   "id": "90345b15-652b-47a7-a93c-abf1651d4e45",
   "metadata": {},
   "source": [
    "​​桁の重み (Place Value / けたのおもみ)​​: 各桁が表す実際の大きさ。​​基数のn乗​​で決まる。\n",
    "•10進数の重み: ... 10^3, 10^2, 10^1, 10^0, 10^-1, 10^-2 ...\n",
    "•2進数の重み: ... 2^3, 2^2, 2^1, 2^0, 2^-1, 2^-2 ..."
   ]
  },
  {
   "cell_type": "raw",
   "id": "e6960747-097f-4019-ad68-8dd1427e49ea",
   "metadata": {},
   "source": [
    "指数 (Exponentiation / しすう) の理解​-​​同じ数をかけ合わせる回数​​を表す数。a^n と表記する。"
   ]
  },
  {
   "cell_type": "raw",
   "id": "e4ffbd12-a526-4152-a58d-6820d743c550",
   "metadata": {},
   "source": [
    "2進数 → 10進数への変換 (Binary to Decimal)​\n",
    "重み付け和 (Weighted Sum)​​ の計算。各桁の数字 (0 または 1) に、その桁の ​​重み (2のn乗)​​ を掛け、全てを合算する"
   ]
  },
  {
   "cell_type": "code",
   "execution_count": 5,
   "id": "0576e802-4682-4bde-8267-36b7321e5c47",
   "metadata": {},
   "outputs": [
    {
     "name": "stdout",
     "output_type": "stream",
     "text": [
      "==================================================\n",
      "输入二进制字符串: 101001101.101\n",
      "转换过程：\n",
      "\n",
      "整数部分计算:\n",
      "1 × 2^8 = 256\n",
      "0 × 2^7 = 0\n",
      "1 × 2^6 = 64\n",
      "0 × 2^5 = 0\n",
      "0 × 2^4 = 0\n",
      "1 × 2^3 = 8\n",
      "1 × 2^2 = 4\n",
      "0 × 2^1 = 0\n",
      "1 × 2^0 = 1\n",
      "\n",
      "小数部分计算:\n",
      "1 × 2^-1 = 0.5\n",
      "0 × 2^-2 = 0.0\n",
      "1 × 2^-3 = 0.125\n",
      "\n",
      "总和公式:\n",
      "256 + 0 + 64 + 0 + 0 + 8 + 4 + 0 + 1 + 0.5 + 0.0 + 0.125 = 333.625\n",
      "\n",
      "最终结果: 101001101.101₂ = 333.625₁₀\n",
      "==================================================\n"
     ]
    }
   ],
   "source": [
    "def binary_to_decimal_detailed(bin_str):\n",
    "    \"\"\"\n",
    "    将二进制字符串转换为十进制数，并详细输出每一步的计算过程。\n",
    "    \"\"\"\n",
    "    # 检查输入是否有效\n",
    "    if not all(c in '01.' for c in bin_str):\n",
    "        print(\"错误：输入必须只包含0、1和小数点（.）\")\n",
    "        return\n",
    "    \n",
    "    # 分离整数部分和小数部分\n",
    "    if '.' in bin_str:\n",
    "        integer_part, fractional_part = bin_str.split('.')\n",
    "    else:\n",
    "        integer_part = bin_str\n",
    "        fractional_part = ''\n",
    "    \n",
    "    print(f\"输入二进制字符串: {bin_str}\")\n",
    "    print(\"转换过程：\")\n",
    "    \n",
    "    total = 0.0\n",
    "    steps = []  # 存储每一步的详细描述和值\n",
    "    \n",
    "    # 处理整数部分\n",
    "    if integer_part:\n",
    "        print(\"\\n整数部分计算:\")\n",
    "        int_length = len(integer_part)\n",
    "        for i, digit in enumerate(integer_part):\n",
    "            power = int_length - i - 1  # 指数从高位到低位递减\n",
    "            value = int(digit) * (2 ** power)\n",
    "            total += value\n",
    "            step_desc = f\"{digit} × 2^{power} = {value}\"\n",
    "            steps.append(step_desc)\n",
    "            print(step_desc)\n",
    "    else:\n",
    "        print(\"\\n整数部分为空，跳过计算。\")\n",
    "    \n",
    "    # 处理小数部分\n",
    "    if fractional_part:\n",
    "        print(\"\\n小数部分计算:\")\n",
    "        for i, digit in enumerate(fractional_part):\n",
    "            power = -(i + 1)  # 指数从-1开始递减\n",
    "            value = int(digit) * (2 ** power)\n",
    "            total += value\n",
    "            step_desc = f\"{digit} × 2^{power} = {value}\"\n",
    "            steps.append(step_desc)\n",
    "            print(step_desc)\n",
    "    else:\n",
    "        print(\"\\n小数部分为空，跳过计算。\")\n",
    "    \n",
    "    # 输出总和公式\n",
    "    print(\"\\n总和公式:\")\n",
    "    formula = \" + \".join([step.split(' = ')[1] for step in steps])\n",
    "    print(formula + f\" = {total}\")\n",
    "    \n",
    "    print(f\"\\n最终结果: {bin_str}₂ = {total}₁₀\")\n",
    "    return total\n",
    "\n",
    "# 示例使用\n",
    "if __name__ == \"__main__\":\n",
    "    # 测试几个例子\n",
    "    examples = [\"101001101.101\"]\n",
    "    for example in examples:\n",
    "        print(\"=\"*50)\n",
    "        binary_to_decimal_detailed(example)\n",
    "        print(\"=\"*50)"
   ]
  },
  {
   "cell_type": "raw",
   "id": "77d7e6f1-98e9-4672-81f0-4c4f33e999cf",
   "metadata": {},
   "source": [
    "10進数 → 16進数 への変換 (Decimal to Hexadecimal)​\n",
    "整数部と小数部を分離し、それぞれに対して基数（16）で除算／乗算を行う。​\n",
    "​​整数部​​: 16で​​割り続け​​、その​​余り​​を記録する。（​​除算・余り法​​）\n",
    "小数部​​: 16で​​掛け続け​​、その​​整数部分​​を記録する。（​​乗算・整数法​​）\n",
    "​​整数部分转换原理​​：通过连续除以16并取余数，从最低位（最右边）开始逐步提取十六进制位。因为除以16相当于将数分解为16的幂次组合\n",
    "小数部分转换原理​​：通过连续乘以16并取整数部分，从最高位（小数点后第一位）开始逐步提取十六进制位。因为乘以16相当于将小数部分提升到整数位"
   ]
  },
  {
   "cell_type": "code",
   "execution_count": 8,
   "id": "37f61e4f-608b-41bd-bd03-dd27cfe4ceea",
   "metadata": {},
   "outputs": [
    {
     "name": "stdout",
     "output_type": "stream",
     "text": [
      "変換元: 10283\n",
      "\n",
      "=== 整数部の計算 ===\n",
      "ステップ1: 642 * 16 + 11 [→ B]\n",
      "ステップ2: 40 * 16 + 2 [→ 2]\n",
      "ステップ3: 2 * 16 + 8 [→ 8]\n",
      "ステップ4: 0 * 16 + 2 [→ 2]\n",
      "\n",
      "=== 小数部の計算 ===\n",
      "\n",
      "変換結果: 10283₁₀ = 282B₁₆\n"
     ]
    },
    {
     "data": {
      "text/plain": [
       "'282B'"
      ]
     },
     "execution_count": 8,
     "metadata": {},
     "output_type": "execute_result"
    }
   ],
   "source": [
    "# 【実践計算】10進数 → 16進数 変換（詳細版）\n",
    "def decimal_to_hex_detailed(decimal_num, precision=6):\n",
    "    \"\"\"\n",
    "    10進数を16進数に変換し、その過程を詳細に表示する関数。\n",
    "    \"\"\"\n",
    "    # 整数部と小数部を分離\n",
    "    integer_part = int(decimal_num)\n",
    "    fractional_part = decimal_num - integer_part\n",
    "\n",
    "    print(f\"変換元: {decimal_num}\")\n",
    "    hex_digits = \"0123456789ABCDEF\" # 16進数の桁リスト\n",
    "    result_int = [] # 整数部の結果格納用リスト\n",
    "    result_frac = [] # 小数部の結果格納用リスト\n",
    "\n",
    "    # --- 整数部の変換プロセス ---\n",
    "    print(\"\\n=== 整数部の計算 ===\")\n",
    "    n = integer_part\n",
    "    if n == 0:\n",
    "        result_int.append('0')\n",
    "    else:\n",
    "        step_count = 0\n",
    "        while n > 0:\n",
    "            step_count += 1\n",
    "            remainder = n % 16\n",
    "            n //= 16\n",
    "            hex_digit = hex_digits[remainder]\n",
    "            result_int.insert(0, hex_digit) # 結果をリストの先頭に追加\n",
    "            print(f\"ステップ{step_count}: {n} * 16 + {remainder} [→ {hex_digit}]\")\n",
    "\n",
    "    # --- 小数部の変換プロセス ---\n",
    "    print(\"\\n=== 小数部の計算 ===\")\n",
    "    f = fractional_part\n",
    "    step_count = 0\n",
    "    while f > 0 and step_count < precision:\n",
    "        step_count += 1\n",
    "        f *= 16\n",
    "        integer_component = int(f)\n",
    "        f -= integer_component\n",
    "        hex_digit = hex_digits[integer_component]\n",
    "        result_frac.append(hex_digit)\n",
    "        print(f\"ステップ{step_count}: {fractional_part:.6f} * 16 = {f:.6f} → 整数部分: {integer_component} [→ {hex_digit}], 新しい小数部分: {f:.6f}\")\n",
    "\n",
    "    # 結果の結合と表示\n",
    "    hex_str = ''.join(result_int)\n",
    "    if result_frac:\n",
    "        hex_str += '.' + ''.join(result_frac)\n",
    "    print(f\"\\n変換結果: {decimal_num}₁₀ = {hex_str}₁₆\")\n",
    "    return hex_str\n",
    "\n",
    "# 例の実行\n",
    "decimal_to_hex_detailed(10283)"
   ]
  },
  {
   "cell_type": "raw",
   "id": "c50594bc-19c0-400d-b0e3-6baa9d475810",
   "metadata": {},
   "source": [
    "2進数 → 16進数 への変換 (Binary to Hexadecimal)​\n",
    "​​16 = 2⁴​​ という数学的な関係 2進数を​​4桁ごとに区切って​​、それぞれを16進数の1桁に変換\n",
    "\n",
    "1.グループ分け​​: 2進数の整数部は​​小数点から左へ​​、小数部は​​小数点から右へ​​向かって、​​4桁ずつ​​グループに分けます。\n",
    "2.端数の処理​​: 最も左端（整数部）や最も右端（小数部）で4桁に満たないグループは、​​ゼロで埋めます​​。\n",
    "3.変換​​: 各4ビットのグループを、上の対応表を使って16進数の1桁に変換します。\n",
    "4.結合​​: 変換された16進数の桁を、元の順序で結合します。"
   ]
  },
  {
   "cell_type": "markdown",
   "id": "f16b9e93-cc0d-47fb-ac07-147fe1e8ac70",
   "metadata": {},
   "source": [
    "| 2進数 (4ビット) | 10進数 | 16進数 |\n",
    "| :-------------- | :----- | :----- |\n",
    "| 0000            | 0      | 0      |\n",
    "| 0001            | 1      | 1      |\n",
    "| 0010            | 2      | 2      |\n",
    "| 0011            | 3      | 3      |\n",
    "| 0100            | 4      | 4      |\n",
    "| 0101            | 5      | 5      |\n",
    "| 0110            | 6      | 6      |\n",
    "| 0111            | 7      | 7      |\n",
    "| 1000            | 8      | 8      |\n",
    "| 1001            | 9      | 9      |\n",
    "| 1010            | 10     | A      |\n",
    "| 1011            | 11     | B      |\n",
    "| 1100            | 12     | C      |\n",
    "| 1101            | 13     | D      |\n",
    "| 1110            | 14     | E      |\n",
    "| 1111            | 15     | F      |"
   ]
  },
  {
   "cell_type": "code",
   "execution_count": 9,
   "id": "8988f4d1-f96c-4619-ba47-b7da50d46429",
   "metadata": {},
   "outputs": [
    {
     "name": "stdout",
     "output_type": "stream",
     "text": [
      "入力: 1101011100.10111\n",
      "\n",
      "1. 整数部のグループ化と変換:\n",
      "   グループ: ['0011', '0101', '1100']\n",
      "   0011 -> 3\n",
      "   0101 -> 5\n",
      "   1100 -> C\n",
      "\n",
      "2. 小数部のグループ化と変換:\n",
      "   グループ: ['1011', '1000']\n",
      "   1011 -> B\n",
      "   1000 -> 8\n",
      "\n",
      "最終結果: 1101011100.10111₂ = 35C.B8₁₆\n"
     ]
    },
    {
     "data": {
      "text/plain": [
       "'35C.B8'"
      ]
     },
     "execution_count": 9,
     "metadata": {},
     "output_type": "execute_result"
    }
   ],
   "source": [
    "# 【実践計算】2進数 → 16進数 変換（グループ化の可視化）\n",
    "def binary_to_hex_visual(bin_str):\n",
    "    \"\"\"\n",
    "    2進数文字列を16進数に変換し、グループ化の過程を詳細に表示する。\n",
    "    \"\"\"\n",
    "    # 対応表の定義\n",
    "    bin_to_hex_dict = {\n",
    "        '0000': '0', '0001': '1', '0010': '2', '0011': '3',\n",
    "        '0100': '4', '0101': '5', '0110': '6', '0111': '7',\n",
    "        '1000': '8', '1001': '9', '1010': 'A', '1011': 'B',\n",
    "        '1100': 'C', '1101': 'D', '1110': 'E', '1111': 'F'\n",
    "    }\n",
    "\n",
    "    # 整数部と小数部に分割\n",
    "    if '.' in bin_str:\n",
    "        integer_part, fractional_part = bin_str.split('.')\n",
    "    else:\n",
    "        integer_part, fractional_part = bin_str, ''\n",
    "\n",
    "    print(f\"入力: {bin_str}\")\n",
    "    hex_result = []\n",
    "\n",
    "    # --- 整数部の処理 ---\n",
    "    print(\"\\n1. 整数部のグループ化と変換:\")\n",
    "    # 整数部を4桁ごとのグループに分割（左端はゼロ埋め）\n",
    "    int_length = len(integer_part)\n",
    "    # 4の倍数になるまで左側をゼロ埋め\n",
    "    padded_int = integer_part.zfill((int_length + 3) // 4 * 4)\n",
    "    # 4桁ずつに分割\n",
    "    int_groups = [padded_int[i:i+4] for i in range(0, len(padded_int), 4)]\n",
    "    print(f\"   グループ: {int_groups}\")\n",
    "\n",
    "    for group in int_groups:\n",
    "        hex_digit = bin_to_hex_dict[group]\n",
    "        hex_result.append(hex_digit)\n",
    "        print(f\"   {group} -> {hex_digit}\")\n",
    "\n",
    "    # --- 小数部の処理 ---\n",
    "    if fractional_part:\n",
    "        hex_result.append('.') # 小数点を追加\n",
    "        print(\"\\n2. 小数部のグループ化と変換:\")\n",
    "        # 小数部を4桁ごとのグループに分割（右端はゼロ埋め）\n",
    "        frac_length = len(fractional_part)\n",
    "        padded_frac = fractional_part.ljust((frac_length + 3) // 4 * 4, '0')\n",
    "        frac_groups = [padded_frac[i:i+4] for i in range(0, len(padded_frac), 4)]\n",
    "        print(f\"   グループ: {frac_groups}\")\n",
    "\n",
    "        for group in frac_groups:\n",
    "            hex_digit = bin_to_hex_dict[group]\n",
    "            hex_result.append(hex_digit)\n",
    "            print(f\"   {group} -> {hex_digit}\")\n",
    "\n",
    "    # 結果を結合して表示\n",
    "    final_hex = ''.join(hex_result)\n",
    "    # 小数部の末尾の不要な'0'を削除（オプション）\n",
    "    if '.' in final_hex:\n",
    "        final_hex = final_hex.rstrip('0').rstrip('.')\n",
    "    print(f\"\\n最終結果: {bin_str}₂ = {final_hex}₁₆\")\n",
    "    return final_hex\n",
    "\n",
    "# 例の実行\n",
    "binary_to_hex_visual(\"1101011100.10111\")"
   ]
  },
  {
   "cell_type": "raw",
   "id": "99066756-4bf3-43a5-ae15-abc6605ab74d",
   "metadata": {},
   "source": [
    "16進数 → 10進数 への変換 (Hexadecimal to Decimal)​\n",
    "重み付け和 (Weighted Sum)​​ の計算。各桁の数字に、その桁の ​​重み (16のn乗)​​ を掛け、全てを合算する。"
   ]
  },
  {
   "cell_type": "raw",
   "id": "7aed42ac-2a4d-4689-85c7-a19c67ddf4d2",
   "metadata": {},
   "source": [
    "16の累乗"
   ]
  },
  {
   "cell_type": "markdown",
   "id": "b844d541-e8c1-4fd5-a2de-411dfdd0a06c",
   "metadata": {},
   "source": [
    "| n   | 16^n (整数)       | 16^-n (小数)          |\n",
    "|:----|------------------:|----------------------:|\n",
    "| 0   | 1                 | 1                     |\n",
    "| 1   | 16                | 0.0625                |\n",
    "| 2   | 256               | 0.00390625            |\n",
    "| 3   | 4096              | 0.000244140625        |\n",
    "| 4   | 65536             | 0.0000152587890625    |"
   ]
  },
  {
   "cell_type": "code",
   "execution_count": 13,
   "id": "a7ca313f-a140-45fa-a2ba-ffe9eb470c53",
   "metadata": {},
   "outputs": [
    {
     "name": "stdout",
     "output_type": "stream",
     "text": [
      "変換元: 7C2A.F84\n",
      "\n",
      "=== 整数部の計算 ===\n",
      "'7'(7) × 16^3 (4096) = 28672\n",
      "'C'(12) × 16^2 (256) = 3072\n",
      "'2'(2) × 16^1 (16) = 32\n",
      "'A'(10) × 16^0 (1) = 10\n",
      "\n",
      "=== 小数部の計算 ===\n",
      "'F'(15) × 16^-1 (0.06250000) = 0.93750000\n",
      "'8'(8) × 16^-2 (0.00390625) = 0.03125000\n",
      "'4'(4) × 16^-3 (0.00024414) = 0.00097656\n",
      "\n",
      "総和: 31786.9697265625\n",
      "変換結果: 7C2A.F84₁₆ = 31786.9697265625₁₀\n"
     ]
    },
    {
     "data": {
      "text/plain": [
       "31786.9697265625"
      ]
     },
     "execution_count": 13,
     "metadata": {},
     "output_type": "execute_result"
    }
   ],
   "source": [
    "# 【実践計算】16進数 → 10進数 変換（詳細版）\n",
    "def hex_to_decimal_detailed(hex_str):\n",
    "    \"\"\"\n",
    "    16進数字符列を10進数に変換し、その過程を詳細に表示する関数。\n",
    "    \"\"\"\n",
    "    # 16進数から10進数への文字変換辞書\n",
    "    hex_map = {'0':0, '1':1, '2':2, '3':3, '4':4, '5':5, '6':6, '7':7,\n",
    "               '8':8, '9':9, 'A':10, 'B':11, 'C':12, 'D':13, 'E':14, 'F':15,\n",
    "               'a':10, 'b':11, 'c':12, 'd':13, 'e':14, 'f':15}\n",
    "\n",
    "    # 整数部と小数部に分割\n",
    "    if '.' in hex_str:\n",
    "        integer_part, fractional_part = hex_str.split('.')\n",
    "    else:\n",
    "        integer_part = hex_str\n",
    "        fractional_part = ''\n",
    "\n",
    "    print(f\"変換元: {hex_str}\")\n",
    "    total = 0.0\n",
    "    steps = []  # 計算ステップを記録\n",
    "\n",
    "    # --- 整数部の処理 ---\n",
    "    print(\"\\n=== 整数部の計算 ===\")\n",
    "    int_length = len(integer_part)\n",
    "    for i, char in enumerate(integer_part):\n",
    "        digit_value = hex_map[char] # 文字を数値に変換 (e.g., 'A' -> 10)\n",
    "        power = int_length - i - 1   # 指数を計算 (左から)\n",
    "        weight = 16 ** power         # 重みを計算 (16^power)\n",
    "        product = digit_value * weight # 数字と重みの積\n",
    "        total += product\n",
    "\n",
    "        # ステップの詳細を記録と表示\n",
    "        step_desc = f\"'{char}'({digit_value}) × 16^{power} ({weight}) = {product}\"\n",
    "        steps.append(step_desc)\n",
    "        print(step_desc)\n",
    "\n",
    "    # --- 小数部の処理 ---\n",
    "    if fractional_part:\n",
    "        print(\"\\n=== 小数部の計算 ===\")\n",
    "        for i, char in enumerate(fractional_part, start=1):\n",
    "            digit_value = hex_map[char]\n",
    "            power = -i               # 指数を計算 (-1, -2, ...)\n",
    "            weight = 16 ** power     # 重みを計算 (16^-power)\n",
    "            product = digit_value * weight\n",
    "            total += product\n",
    "\n",
    "            # ステップの詳細を記録と表示\n",
    "            step_desc = f\"'{char}'({digit_value}) × 16^{power} ({weight:.8f}) = {product:.8f}\"\n",
    "            steps.append(step_desc)\n",
    "            print(step_desc)\n",
    "\n",
    "    # 結果を表示\n",
    "    print(f\"\\n総和: {total}\")\n",
    "    print(f\"変換結果: {hex_str}₁₆ = {total}₁₀\")\n",
    "    return total\n",
    "\n",
    "# 例の実行\n",
    "hex_to_decimal_detailed(\"7C2A.F84\")"
   ]
  },
  {
   "cell_type": "raw",
   "id": "b1d7179f-65a4-4de9-8e68-8290f3e5bd85",
   "metadata": {},
   "source": [
    "10進数 → 2進数 への変換 (Decimal to Binary)​\n",
    "\n",
    "整数部の変換: 除算・余り法​\n",
    "小数部の変換: 乗算・整数法​"
   ]
  },
  {
   "cell_type": "code",
   "execution_count": 14,
   "id": "ec7d2f83-69ee-491c-996e-1016b0783596",
   "metadata": {},
   "outputs": [
    {
     "name": "stdout",
     "output_type": "stream",
     "text": [
      "変換元: 13.625\n",
      "\n",
      "=== 整数部の変換 ===\n",
      "ステップ1: 13 ÷ 2 = 6 ... 余り 1\n",
      "ステップ2: 6 ÷ 2 = 3 ... 余り 0\n",
      "ステップ3: 3 ÷ 2 = 1 ... 余り 1\n",
      "ステップ4: 1 ÷ 2 = 0 ... 余り 1\n",
      "\n",
      "=== 小数部の変換 ===\n",
      "ステップ1: 0.25000000 × 2 = 1.25000000 → 整数部分 1\n",
      "ステップ2: 0.50000000 × 2 = 0.50000000 → 整数部分 0\n",
      "ステップ3: 0.00000000 × 2 = 1.00000000 → 整数部分 1\n",
      "\n",
      "変換結果: 13.625₁₀ = 1101.101₂\n"
     ]
    },
    {
     "data": {
      "text/plain": [
       "'1101.101'"
      ]
     },
     "execution_count": 14,
     "metadata": {},
     "output_type": "execute_result"
    }
   ],
   "source": [
    "def decimal_to_binary_detailed(decimal_num, precision=8):\n",
    "    \"\"\"\n",
    "    10進数を2進数に変換し、詳細なプロセスを表示する\n",
    "    \"\"\"\n",
    "    # 整数部と小数部を分離\n",
    "    integer_part = int(decimal_num)\n",
    "    fractional_part = decimal_num - integer_part\n",
    "    \n",
    "    print(f\"変換元: {decimal_num}\")\n",
    "    binary_int = []  # 整数部の2進数\n",
    "    binary_frac = [] # 小数部の2進数\n",
    "    \n",
    "    # === 整数部の変換プロセス ===\n",
    "    print(\"\\n=== 整数部の変換 ===\")\n",
    "    n = integer_part\n",
    "    step = 1\n",
    "    while n > 0:\n",
    "        quotient = n // 2\n",
    "        remainder = n % 2\n",
    "        binary_int.insert(0, str(remainder))  # 先頭に追加（逆順保存）\n",
    "        \n",
    "        print(f\"ステップ{step}: {n} ÷ 2 = {quotient} ... 余り {remainder}\")\n",
    "        n = quotient\n",
    "        step += 1\n",
    "    \n",
    "    # 整数部が0の場合の処理\n",
    "    if not binary_int:\n",
    "        binary_int = ['0']\n",
    "    \n",
    "    # === 小数部の変換プロセス ===\n",
    "    print(\"\\n=== 小数部の変換 ===\")\n",
    "    f = fractional_part\n",
    "    step = 1\n",
    "    while f > 0 and len(binary_frac) < precision:\n",
    "        product = f * 2\n",
    "        integer_part_product = int(product)\n",
    "        f = product - integer_part_product\n",
    "        \n",
    "        binary_frac.append(str(integer_part_product))\n",
    "        print(f\"ステップ{step}: {f:.8f} × 2 = {product:.8f} → 整数部分 {integer_part_product}\")\n",
    "        step += 1\n",
    "    \n",
    "    # 結果の組み立て\n",
    "    binary_str = ''.join(binary_int)\n",
    "    if binary_frac:\n",
    "        binary_str += '.' + ''.join(binary_frac)\n",
    "    \n",
    "    print(f\"\\n変換結果: {decimal_num}₁₀ = {binary_str}₂\")\n",
    "    return binary_str\n",
    "\n",
    "# 実行例\n",
    "decimal_to_binary_detailed(13.625)"
   ]
  },
  {
   "cell_type": "raw",
   "id": "f5110680-67a3-4911-81aa-fb1bb18a38a2",
   "metadata": {},
   "source": [
    "16進数 → 2進数 への変換 (Hexadecimal to Binary)​\n",
    "\n",
    "1桁の16進数が4桁の2進数に完全に対応する​​"
   ]
  },
  {
   "cell_type": "code",
   "execution_count": 15,
   "id": "0ce096fe-ffab-439f-9b8c-5640dc12ea39",
   "metadata": {},
   "outputs": [
    {
     "name": "stdout",
     "output_type": "stream",
     "text": [
      "変換元: 3A.7C₁₆\n",
      "\n",
      "=== 整数部の変換 ===\n",
      "  3 → 0011\n",
      "  A → 1010\n",
      "\n",
      "=== 小数部の変換 ===\n",
      "  7 → 0111\n",
      "  C → 1100\n",
      "\n",
      "=== 変換過程 ===\n",
      "'3' → 0011 -> 'A' → 1010 -> '7' → 0111 -> 'C' → 1100\n",
      "\n",
      "生の2進数: 00111010.01111100\n",
      "最適化後: 111010.011111\n",
      "\n",
      "最終結果: 3A.7C₁₆ = 111010.011111₂\n"
     ]
    },
    {
     "data": {
      "text/plain": [
       "'111010.011111'"
      ]
     },
     "execution_count": 15,
     "metadata": {},
     "output_type": "execute_result"
    }
   ],
   "source": [
    "# 【実践計算】16進数 → 2進数 変換（詳細版）\n",
    "def hex_to_binary_detailed(hex_str):\n",
    "    \"\"\"\n",
    "    16進数を2進数に変換し、詳細なプロセスを表示する関数\n",
    "    \"\"\"\n",
    "    # 対応表\n",
    "    hex_to_bin_dict = {\n",
    "        '0': '0000', '1': '0001', '2': '0010', '3': '0011',\n",
    "        '4': '0100', '5': '0101', '6': '0110', '7': '0111',\n",
    "        '8': '1000', '9': '1001', 'A': '1010', 'B': '1011',\n",
    "        'C': '1100', 'D': '1101', 'E': '1110', 'F': '1111',\n",
    "        'a': '1010', 'b': '1011', 'c': '1100', 'd': '1101',\n",
    "        'e': '1110', 'f': '1111'\n",
    "    }\n",
    "    \n",
    "    print(f\"変換元: {hex_str}₁₆\")\n",
    "    \n",
    "    # 整数部と小数部に分割\n",
    "    if '.' in hex_str:\n",
    "        integer_part, fractional_part = hex_str.split('.')\n",
    "    else:\n",
    "        integer_part, fractional_part = hex_str, ''\n",
    "    \n",
    "    binary_result = []\n",
    "    steps = []\n",
    "    \n",
    "    # --- 整数部の変換 ---\n",
    "    print(\"\\n=== 整数部の変換 ===\")\n",
    "    for i, char in enumerate(integer_part):\n",
    "        bin_digits = hex_to_bin_dict[char]\n",
    "        binary_result.append(bin_digits)\n",
    "        steps.append(f\"'{char}' → {bin_digits}\")\n",
    "        print(f\"  {char} → {bin_digits}\")\n",
    "    \n",
    "    # 小数部がある場合は小数点を追加\n",
    "    if fractional_part:\n",
    "        binary_result.append('.')\n",
    "        print(\"\\n=== 小数部の変換 ===\")\n",
    "        for i, char in enumerate(fractional_part):\n",
    "            bin_digits = hex_to_bin_dict[char]\n",
    "            binary_result.append(bin_digits)\n",
    "            steps.append(f\"'{char}' → {bin_digits}\")\n",
    "            print(f\"  {char} → {bin_digits}\")\n",
    "    \n",
    "    # 結果を結合\n",
    "    raw_binary = ''.join(binary_result)\n",
    "    \n",
    "    # 不要な0を除去\n",
    "    # 整数部の先頭の0を除去\n",
    "    if '.' in raw_binary:\n",
    "        int_part, frac_part = raw_binary.split('.')\n",
    "        int_part = int_part.lstrip('0') or '0'  # 全て0の場合は'0'を残す\n",
    "        # 小数部の末尾の0を除去\n",
    "        frac_part = frac_part.rstrip('0')\n",
    "        final_binary = f\"{int_part}.{frac_part}\" if frac_part else int_part\n",
    "    else:\n",
    "        final_binary = raw_binary.lstrip('0') or '0'\n",
    "    \n",
    "    # 変換過程と結果を表示\n",
    "    print(\"\\n=== 変換過程 ===\")\n",
    "    print(\" -> \".join(steps))\n",
    "    print(f\"\\n生の2進数: {raw_binary}\")\n",
    "    print(f\"最適化後: {final_binary}\")\n",
    "    print(f\"\\n最終結果: {hex_str}₁₆ = {final_binary}₂\")\n",
    "    return final_binary\n",
    "\n",
    "# 例の実行\n",
    "hex_to_binary_detailed(\"3A.7C\")"
   ]
  },
  {
   "cell_type": "raw",
   "id": "e429c7b6-5ba0-4681-99fa-240ddddd0593",
   "metadata": {},
   "source": [
    "負の数の2進数表現 (Negative Binary Representation)​"
   ]
  },
  {
   "cell_type": "markdown",
   "id": "b34d2bde-8b23-47e6-86b8-62eb94825210",
   "metadata": {},
   "source": [
    "| 表現方法       | 日本語         | 中国語   | 核心原理                                                                 |\n",
    "|:---------------|:---------------|:---------|:-------------------------------------------------------------------------|\n",
    "| 絶対値表現     | 絶対値表現     | 原码     | 先頭1ビットを符号（0:正, 1:負）、残りを絶対値で表現                         |\n",
    "| 1の補数表現    | 1の補数表現    | 反码     | 正数のビットを全て反転（0↔1）して負数を表現                                |\n",
    "| 2の補数表現    | 2の補数表現    | 补码     | 正数のビットを全て反転し、さらに1を加算して負数を表現                       |"
   ]
  },
  {
   "cell_type": "raw",
   "id": "259b849a-0742-4a04-83b0-e88d41da74ca",
   "metadata": {},
   "source": [
    "1の補数表現 (反码 / Ones' Complement)​\n",
    "1.正の数: 通常のバイナリ表現（絶対値表現と同じ）\n",
    "2.負の数​​: 対応する正の数の​​全ビットを反転​​（0と1を入れ替え）する\n",
    "正数的反码是其本身，负数的反码是其对应正数​​按位取反​​。\n",
    "\n",
    "2の補数表現 (补码 / Two's Complement)​\n",
    "1.正の数: 通常のバイナリ表現（絶対値表現と同じ）\n",
    "2.負の数​​: 対応する正の数の​​全ビットを反転し、さらに1を加算​​する\n",
    "正数的补码是其本身，负数的补码是其对应正数​​按位取反后加1​​。\n",
    "•+1 = 00000001\n",
    "•-1的反码是 11111110，​​再加1​​ -> 11111111"
   ]
  },
  {
   "cell_type": "raw",
   "id": "908f3cb3-9bf9-45fb-9d01-6e1f7f8b9834",
   "metadata": {},
   "source": [
    "加算と減算 (Addition & Subtraction)​\n",
    "加算 (Addition) - ​10進数と同様に、​​最下位ビットから計算​​し、桁上がりを処理します。\n",
    "減算 (Subtraction)​ - 10進数と同様に、​​最下位ビットから計算​​し、桁借りを処理します。\n",
    "乗算と除算 (Multiplication & Division)​\n",
    "乗算 (Multiplication)​ - 被乗数 × 乗数 は、​​被乗数を乗数ビット分だけ左シフト​​して​​加算​​することと等価。\n",
    "除算 (Division)​ - 被除数 ÷ 除数 は、​​被除数を除数ビット分だけ右シフト​​して​​減算​​することと等価。"
   ]
  },
  {
   "cell_type": "raw",
   "id": "6af9175b-d3f3-40c4-a5dd-7eb85346e0b5",
   "metadata": {},
   "source": [
    "シフト演算 (Shift Operations)​\n",
    "シフト演算はビット列を左右に移動させる操作で、​​論理シフト​​と​​算術シフト\n",
    "\n",
    "論理シフト (Logical Shift)​ - 符号ビットを​​考慮しない​​シフト演算。空いたビットには常に0が入ります。"
   ]
  },
  {
   "cell_type": "markdown",
   "id": "b9c3569d-0654-483d-9569-c43509f48b0c",
   "metadata": {},
   "source": [
    "| 操作     | ルール                     | 具体例 (8ビット)          |\n",
    "|:---------|:---------------------------|:--------------------------|\n",
    "| 左シフト | はみ出たビットは捨て、右端に0を埋める | 00101100 << 2 → 10110000  |\n",
    "| 右シフト | はみ出たビットは捨て、左端に0を埋める | 00101100 >> 2 → 00001011  |"
   ]
  },
  {
   "cell_type": "raw",
   "id": "64df8716-3159-4122-9c9d-2e2a03100302",
   "metadata": {},
   "source": [
    "算術シフト (Arithmetic Shift)​ - 符号ビット（最上位ビット, MSB）を​​考慮する​​シフト演算。符号ビットは固定し、空いたビットの埋め方が異なります。"
   ]
  },
  {
   "cell_type": "markdown",
   "id": "fcc935c3-b186-4d1c-b2ac-e16a98dbdbe9",
   "metadata": {},
   "source": [
    "| 操作     | ルール                                       | 具体例 (8ビット)          |\n",
    "|:---------|:---------------------------------------------|:--------------------------|\n",
    "| 左シフト | はみ出たビットは捨て、右端に0を埋める<br>(論理シフトと同じ) | 10101100 << 2 → 10110000  |\n",
    "| 右シフト | はみ出たビットは捨て、左端に符号ビットと同じ値を埋める     | 10101100 >> 2 → 11101011  |"
   ]
  },
  {
   "cell_type": "raw",
   "id": "bb141471-dd2f-4409-9d2e-6f8351ad3733",
   "metadata": {},
   "source": [
    "集合と論理演算 (Set Theory and Logical Operations)​\n",
    "集合とベン図 (Sets and Venn Diagrams)​\n",
    "集合​​: はっきりと区別できる条件でグループ分けされたものの集まり\n",
    "表記法​​: A={1,2,3,4,5}\n",
    "ベン図 (Venn Diagram)​：集合の関係を視覚的に表した"
   ]
  },
  {
   "cell_type": "markdown",
   "id": "3089b8d7-aff6-4fa6-8152-691f7e92d67d",
   "metadata": {},
   "source": [
    "| 記号 | 名称           | 意味                     |\n",
    "|:-----|:---------------|:-------------------------|\n",
    "| ∩    | かつ (AND)     | 積集合 (共通部分)        |\n",
    "| ∪    | または (OR)    | 和集合                   |\n",
    "| ⊂    | ではない (NOT) | 補集合                   |\n",
    "| ∈    | 属する         | 要素が集合に含まれる     |"
   ]
  },
  {
   "cell_type": "raw",
   "id": "76328476-25a4-4986-8aa6-203432801a17",
   "metadata": {},
   "source": [
    "論理演算の基礎 (Fundamentals of Logical Operations)​\n",
    "​​四則演算​​: たし算、ひき算、かけ算、わり算（+, -, ×, ÷）\n",
    "論理演算​​: AND, OR, XOR, NOT の4種類"
   ]
  },
  {
   "cell_type": "raw",
   "id": "9a49dff9-d418-4cb2-b9a0-be0002d95a89",
   "metadata": {},
   "source": [
    "AND演算 (論理積) - AとBの両方が「1」の場合にのみ結果が「1」になる​\n",
    "記号: ・ （ドット）"
   ]
  },
  {
   "cell_type": "markdown",
   "id": "2c9daa2d-5f5c-41df-b94a-7ad817831dfe",
   "metadata": {},
   "source": [
    "| A | B | A AND B |\n",
    "|:-:|:-:|:-------:|\n",
    "| 0 | 0 |    0    |\n",
    "| 0 | 1 |    0    |\n",
    "| 1 | 0 |    0    |\n",
    "| 1 | 1 |    1    |"
   ]
  },
  {
   "cell_type": "raw",
   "id": "a498b699-d675-4761-b267-9642a2984b05",
   "metadata": {},
   "source": [
    "OR演算 (論理和)​ - AとBの少なくとも一方が「1」の場合に結果が「1」になる\n",
    "記号: +"
   ]
  },
  {
   "cell_type": "markdown",
   "id": "3720f43c-9dcb-4ed8-957a-f6f0ed0699f7",
   "metadata": {},
   "source": [
    "| A | B | A OR B |\n",
    "|:-:|:-:|:------:|\n",
    "| 0 | 0 |   0    |\n",
    "| 0 | 1 |   1    |\n",
    "| 1 | 0 |   1    |\n",
    "| 1 | 1 |   1    |"
   ]
  },
  {
   "cell_type": "markdown",
   "id": "bf2f56e8-1231-4af2-8d6c-da6e368543d3",
   "metadata": {},
   "source": [
    "XOR演算 (排他的論理和)​ - AとBが異なる場合に「1」、同じ場合に「0」になる\n",
    "記号: ⊕"
   ]
  },
  {
   "cell_type": "markdown",
   "id": "b4c4417f-df28-4acd-b1a6-b30eef82cc5e",
   "metadata": {},
   "source": [
    "| A | B | A XOR B |\n",
    "|:-:|:-:|:-------:|\n",
    "| 0 | 0 |    0    |\n",
    "| 0 | 1 |    1    |\n",
    "| 1 | 0 |    1    |\n",
    "| 1 | 1 |    0    |"
   ]
  },
  {
   "cell_type": "raw",
   "id": "fa821810-6c7a-4b37-b577-ab4b36a1df09",
   "metadata": {},
   "source": [
    "NOT演算 (否定)​ - 入力の反対が出力になる\n",
    "記号: ¬"
   ]
  },
  {
   "cell_type": "markdown",
   "id": "a98bf558-0482-4467-8b87-47de48389b71",
   "metadata": {},
   "source": [
    "| A | NOT A |\r\n",
    "|:-:|:-----:|\r\n",
    "| 0 |   1   |\r\n",
    "| 1 |   0   |"
   ]
  },
  {
   "cell_type": "raw",
   "id": "312c4d11-7315-42ea-bc09-184d1060b726",
   "metadata": {},
   "source": [
    "NAND演算 (否定論理積 / NOT AND)​\n",
    "計算方法​​: AND演算の結果を​​反転​​させる\n",
    "記号​​: ⊼ または ↑"
   ]
  },
  {
   "cell_type": "markdown",
   "id": "07a367a2-3fba-4a7d-8001-e94a926050c2",
   "metadata": {},
   "source": [
    "| A | B | A AND B | A NAND B |\n",
    "|:-:|:-:|:-------:|:--------:|\n",
    "| 0 | 0 |    0    |     1    |\n",
    "| 0 | 1 |    0    |     1    |\n",
    "| 1 | 0 |    0    |     1    |\n",
    "| 1 | 1 |    1    |     0    |"
   ]
  },
  {
   "cell_type": "markdown",
   "id": "11f457b2-6c4e-4ad9-8762-80a127bacacc",
   "metadata": {},
   "source": [
    "NOR演算 (否定論理和 / NOT OR)​\n",
    "計算方法​​: OR演算の結果を​​反転​​させる\n",
    "号​​: ⊽ または ↓"
   ]
  },
  {
   "cell_type": "markdown",
   "id": "410d0d52-b5e3-43af-adef-070c6445c900",
   "metadata": {},
   "source": [
    "| A | B | A OR B | A NOR B |\r\n",
    "|:-:|:-:|:------:|:-------:|\r\n",
    "| 0 | 0 |   0    |    1    |\r\n",
    "| 0 | 1 |   1    |    0    |\r\n",
    "| 1 | 0 |   1    |    0    |\r\n",
    "| 1 | 1 |   1    |    0    |"
   ]
  },
  {
   "cell_type": "raw",
   "id": "662bbe7c-fc10-420f-a2b9-e579fee40900",
   "metadata": {},
   "source": [
    "優先順位の基本ルール​"
   ]
  },
  {
   "cell_type": "markdown",
   "id": "97968e08-3eaa-45a2-abf8-457c9a3de7d2",
   "metadata": {},
   "source": [
    "| 優先順位 | 演算子      | 名称   | 説明                             |\r\n",
    "|:---------|:------------|:-------|:---------------------------------|\r\n",
    "| 最高     | ( )         | 括弧   | 括弧内の式を最優先で評価           |\r\n",
    "| 高       | NOT (¬)     | 否定   | 単項演算子。対象を反転             |\r\n",
    "| 中       | AND (・)    | 論理積 | 両方の条件が真の場合に真           |\r\n",
    "| 低       | OR (+)      | 論理和 | どちらかの条件が真の場合に真       |"
   ]
  },
  {
   "cell_type": "raw",
   "id": "71ac0815-8c2a-4547-8c57-45e7a4b63ae8",
   "metadata": {},
   "source": [
    "論理回路 - 論理演算を行う電子部品\n",
    "表現方法​​: 紙面上では論理演算記号を使用して表現"
   ]
  },
  {
   "cell_type": "raw",
   "id": "07fa8959-c968-447c-bd65-0aeea5a78c83",
   "metadata": {},
   "source": [
    "加算回路 - 2進数の加算を行う論理回路\n",
    "半加算器 (Half Adder)​\n",
    "​​機能​​: 下の位からの桁上がりを​​考慮しない​​加算回路\n",
    "入力​​: 2つ（加算する2つのビット）\n",
    "​​出力​​: 和（SUM）と桁上がり（CARRY）\n",
    "処理パターン​​: 2進数の加算4パターンのみ"
   ]
  },
  {
   "cell_type": "markdown",
   "id": "88f1b732-0d29-454a-94cb-fd7c8d658dbd",
   "metadata": {},
   "source": [
    "| A | B | SUM | CARRY |\n",
    "|:-:|:-:|:---:|:-----:|\n",
    "| 0 | 0 |  0  |   0   |\n",
    "| 0 | 1 |  1  |   0   |\n",
    "| 1 | 0 |  1  |   0   |\n",
    "| 1 | 1 |  0  |   1   |"
   ]
  },
  {
   "cell_type": "raw",
   "id": "dcfb741e-1e89-43f8-ba61-8feaced46665",
   "metadata": {},
   "source": [
    "全加算器 (Full Adder)​\n",
    "機能​​: 下の位からの桁上がりを​​考慮する​​加算回路\n",
    "入力​​: 3つ（加算する2つのビット + 下位からの桁上がり）\n",
    "出力​​: 和（SUM）と桁上がり（CARRY）\n",
    "処理パターン​​: 3つの2進数加算の8パターン"
   ]
  },
  {
   "cell_type": "markdown",
   "id": "ea30287b-2fc5-4fc2-a5d4-46eae58abb27",
   "metadata": {},
   "source": [
    "| A | B | C_in | SUM | C_out |\n",
    "|:-:|:-:|:----:|:---:|:-----:|\n",
    "| 0 | 0 |  0   |  0  |   0   |\n",
    "| 0 | 0 |  1   |  1  |   0   |\n",
    "| 0 | 1 |  0   |  1  |   0   |\n",
    "| 0 | 1 |  1   |  0  |   1   |\n",
    "| 1 | 0 |  0   |  1  |   0   |\n",
    "| 1 | 0 |  1   |  0  |   1   |\n",
    "| 1 | 1 |  0   |  0  |   1   |\n",
    "| 1 | 1 |  1   |  1  |   1   |"
   ]
  },
  {
   "cell_type": "raw",
   "id": "aebe92f4-221d-4015-bd2d-504bf5411031",
   "metadata": {},
   "source": [
    "計算式の表記法"
   ]
  },
  {
   "cell_type": "markdown",
   "id": "3166e23a-3ecc-4c35-9dca-5df825e1f91a",
   "metadata": {},
   "source": [
    "| 表記法   | 日本語                 | 英語                      | 特徴                                             |\n",
    "|:---------|:-----------------------|:--------------------------|:-------------------------------------------------|\n",
    "| 中置記法 | 中置記法<br>(ちゅうちきほう) | Infix Notation            | 演算子がオペランドの間に位置する<br>人間が日常的に使用する表記法 |\n",
    "| 前置記法 | 前置記法<br>(ぜんちきほう) | Prefix Notation<br>(Polish Notation) | 演算子がオペランドの前に位置する<br>括弧が不要になる利点がある |\n",
    "| 後置記法 | 後置記法<br>(こうちきほう) | Postfix Notation<br>(Reverse Polish Notation) | 演算子がオペランドの後に位置する<br>計算機での処理が容易 |"
   ]
  },
  {
   "cell_type": "raw",
   "id": "9a1525ee-8c18-4622-bf01-f4582dbda26b",
   "metadata": {},
   "source": [
    "モデル化 (Modeling)​ - 現実世界にある複雑なものを​​単純化​​してわかりやすくすること\n",
    "\n",
    "オートマトン (Automaton)​\n",
    "概念​​: 機能を「​​入力​​」「​​状態​​」「​​出力​​」の3要素で表すシステムのモデル\n",
    "\n",
    "状態遷移表 (State Transition Table)​\n",
    "•状態遷移​​: 時間や動作によって、初期状態から最終状態への移り変わり\n",
    "•受理状態 (Accepting State)​​: 最終的な状態（処理の完了を表す）"
   ]
  },
  {
   "cell_type": "raw",
   "id": "a67fd40d-b92d-4a20-9538-5392278316ab",
   "metadata": {},
   "source": [
    "AI関連"
   ]
  },
  {
   "cell_type": "raw",
   "id": "9306480b-dab8-4ebc-b7b0-708178c9fadd",
   "metadata": {},
   "source": [
    "機械学習とは​ - 人間が持つ学習能力をコンピュータに再現する技術\n",
    "\n",
    "教師あり学習 (Supervised Learning / 监督学习)​ - 入力データと正解データをセットにしてコンピュータに与える\n",
    "分類問題​​: スパムメールフィルタリング、画像認識、医療診断\n",
    "回帰問題​​: 株価予測、需要予測、不動産価格推定\n",
    "\n",
    "教師なし学習 (Unsupervised Learning / 无监督学习)​ - 入力データのみをコンピュータに与える（正解データなし）\n",
    "クラスタリング​​: 顧客セグメンテーション、異常検出\n",
    "​​次元削減​​: データ可視化、特徴量抽出"
   ]
  },
  {
   "cell_type": "markdown",
   "id": "c1d66b62-d0cd-48fa-aebf-6ee07093ddc1",
   "metadata": {},
   "source": [
    "| 用語             | 日本語         | 英语                  | 中国語   | 説明                                                                       |\n",
    "|:-----------------|:---------------|:----------------------|:---------|:---------------------------------------------------------------------------|\n",
    "| AI               | 人工知能       | Artificial Intelligence | 人工智能 | 人間の知的なふるまいを、コンピュータに再現する技術                           |\n",
    "| 機械学習         | 機械学習       | Machine Learning      | 机器学习 | 人間が持つ学習能力を、コンピュータに再現する技術。AI技術の1つ                 |\n",
    "| ニューラルネットワーク | 神経ネットワーク | Neural Network        | 神经网络 | 人間の脳の中にある神経回路が信号をやり取りする仕組みをコンピュータに再現する技術 |\n",
    "| ディープラーニング   | 深層学習       | Deep Learning         | 深度学习 | ニューラルネットワークを何重にも重ねた構造を持つ機械学習                     |"
   ]
  },
  {
   "cell_type": "code",
   "execution_count": null,
   "id": "ffa6b3ec-14e8-4ace-b236-ff8eeac63ddc",
   "metadata": {},
   "outputs": [],
   "source": []
  }
 ],
 "metadata": {
  "kernelspec": {
   "display_name": "Python 3 (ipykernel)",
   "language": "python",
   "name": "python3"
  },
  "language_info": {
   "codemirror_mode": {
    "name": "ipython",
    "version": 3
   },
   "file_extension": ".py",
   "mimetype": "text/x-python",
   "name": "python",
   "nbconvert_exporter": "python",
   "pygments_lexer": "ipython3",
   "version": "3.11.6"
  }
 },
 "nbformat": 4,
 "nbformat_minor": 5
}
