{
 "cells": [
  {
   "cell_type": "markdown",
   "id": "02f44863-666b-4a35-8629-e55b4bb38022",
   "metadata": {},
   "source": [
    "---"
   ]
  },
  {
   "cell_type": "markdown",
   "id": "6cbb09ff-42a4-4ec1-9a7a-b3f3d924dc86",
   "metadata": {},
   "source": [
    "# 第3章 コンピュータの構成要素"
   ]
  },
  {
   "cell_type": "markdown",
   "id": "ececdca2-7a69-40fc-ad96-f8489417c8a9",
   "metadata": {},
   "source": [
    "---"
   ]
  },
  {
   "cell_type": "markdown",
   "id": "6d0ff770-181e-4d1e-b88f-2eaa26c5815c",
   "metadata": {},
   "source": [
    "## CPUの性能評価指標 (CPU Performance Evaluation Metrics)"
   ]
  },
  {
   "cell_type": "markdown",
   "id": "bab3520a-6031-4e83-9480-08f1ac32cd72",
   "metadata": {},
   "source": [
    "* **CPU (Central Processing Unit / 中央处理单元)**"
   ]
  },
  {
   "cell_type": "markdown",
   "id": "6420ba24-d55a-471e-bc4f-9f75113dfa05",
   "metadata": {},
   "source": [
    "### クロック周波数 (Clock Frequency / 时钟频率)"
   ]
  },
  {
   "cell_type": "markdown",
   "id": "8937dd0b-6d2b-45c7-9e05-f71d52272cea",
   "metadata": {},
   "source": [
    "* 定義: CPUの動作速度を表す指標。\n",
    "* 単位: Hz (ヘルツ)"
   ]
  },
  {
   "cell_type": "markdown",
   "id": "4f73aeee-717a-496d-a47d-31cd2248271e",
   "metadata": {},
   "source": [
    "### クロック数 (Clock Cycles / 时钟周期数)"
   ]
  },
  {
   "cell_type": "markdown",
   "id": "3e1f74f6-48f9-48a4-9f7e-d32068014d5a",
   "metadata": {},
   "source": [
    "* 定義: 命令の処理にかかるCPUの「手間」を表す。発振器がテンポを刻む回数。\n",
    "* 1クロック = 発振器が1回分のテンポを刻むこと。\n",
    "* 計算:\n",
    "  1秒間に実行できる命令数 = クロック周波数 (Hz) ÷ 1命令に必要なクロック数\n"
   ]
  },
  {
   "cell_type": "markdown",
   "id": "d896f923-053a-4eac-8d7e-ab91d9b7a44d",
   "metadata": {},
   "source": [
    "### MIPS (Million Instructions Per Second)"
   ]
  },
  {
   "cell_type": "markdown",
   "id": "7b8b77bb-e82f-49a7-8afe-95260240b5d4",
   "metadata": {},
   "source": [
    "* 定義: CPUが1秒間に実行できる命令数を**百万単位**で表す性能指標。\n",
    "* 例: 2 MIPS = 1秒間に200万個の命令を実行できる。"
   ]
  },
  {
   "cell_type": "markdown",
   "id": "ba3ef33e-6af4-4398-811d-9679533df2db",
   "metadata": {},
   "source": [
    "### コア (Core / 核心)"
   ]
  },
  {
   "cell_type": "markdown",
   "id": "3a93d76c-28d8-4f51-a488-f18409bdb462",
   "metadata": {},
   "source": [
    "* 定義: CPU内部にある演算を行う装置。"
   ]
  },
  {
   "cell_type": "markdown",
   "id": "6d9e054f-4aa8-4918-8872-bf2d59ee7205",
   "metadata": {},
   "source": [
    "| 用語      | コア数 | 特徴                  |\n",
    "| ------- | --- | ------------------- |\n",
    "| シングルコア  | 1   | 旧来の基本形態             |\n",
    "| デュアルコア  | 2   | マルチタスク性能の向上         |\n",
    "| クアッドコア  | 4   | より高度な並列処理が可能        |\n",
    "| オクタコアなど | 8\\~ | 高性能サーバー・ワークステーション向け |"
   ]
  },
  {
   "cell_type": "markdown",
   "id": "00acfe8a-d167-4e8e-b206-d10d8ffb5bfb",
   "metadata": {},
   "source": [
    "---"
   ]
  },
  {
   "cell_type": "markdown",
   "id": "8348bac1-5f65-4cc7-b18b-34653f67e343",
   "metadata": {},
   "source": [
    "## 主記憶装置 (Main Memory / 主存储器)"
   ]
  },
  {
   "cell_type": "markdown",
   "id": "27cacb3a-932e-4ff5-a9e6-7edc9d01b9fe",
   "metadata": {},
   "source": [
    "* **役割**: 「命令」と「データ」を格納する。\n",
    "* **構造**: 内部は区画ごとに分けられ、各区画には **アドレス (Address / 地址)** が割り振られる。"
   ]
  },
  {
   "cell_type": "markdown",
   "id": "e7a416c1-b96f-4c6b-b458-114ea99fd241",
   "metadata": {},
   "source": [
    "---"
   ]
  },
  {
   "cell_type": "markdown",
   "id": "06859420-19d4-4990-a5e1-f666e2014de0",
   "metadata": {},
   "source": [
    "## 命令の構成 (Instruction Structure / 指令结构)"
   ]
  },
  {
   "cell_type": "markdown",
   "id": "2576d283-bbe7-4b24-a31a-ece3c1cab107",
   "metadata": {},
   "source": [
    "| 部分                    | 内容       | 役割           | 例                     |\n",
    "| --------------------- | -------- | ------------ | --------------------- |\n",
    "| 命令部 (Operation Code)  | 何をするか    | 実行操作を指定      | 取り出せ(Load), 加算せよ(Add) |\n",
    "| アドレス部 (Address Field) | どこから/どこへ | データ格納アドレスを指定 | 4番地                   |\n"
   ]
  },
  {
   "cell_type": "markdown",
   "id": "3f4cf3df-296f-42e3-a8aa-0d6922305911",
   "metadata": {},
   "source": [
    "---"
   ]
  },
  {
   "cell_type": "markdown",
   "id": "a59a56dc-80be-4f50-87a2-bb17f82254b6",
   "metadata": {},
   "source": [
    "## レジスタの種類と役割 (Registers)"
   ]
  },
  {
   "cell_type": "markdown",
   "id": "eaef9029-e2a3-40ff-a044-fb7e14adcbe5",
   "metadata": {},
   "source": [
    "* レジスタ: CPU内部の超高速小型記憶領域。\n",
    "* 目的: 命令やデータを一時的に格納し処理を高速化する。"
   ]
  },
  {
   "cell_type": "markdown",
   "id": "c439deca-fed9-40a7-8f28-902ae6a894a6",
   "metadata": {},
   "source": [
    "---\n"
   ]
  },
  {
   "cell_type": "markdown",
   "id": "6c1bcc0f-3de5-43f0-a75a-51331eb5b873",
   "metadata": {},
   "source": [
    "## CPUの命令処理サイクル (Instruction Cycle)"
   ]
  },
  {
   "cell_type": "markdown",
   "id": "d6de7839-e12c-4ecb-a7f6-3c352716f8f8",
   "metadata": {},
   "source": [
    "1. **命令の取出し (Fetch)**\n",
    "\n",
    "   * プログラムカウンタ(PC) が指すアドレスから命令を主記憶から取り出し、命令レジスタ(IR) に格納。\n",
    "\n",
    "2. **プログラムカウンタの更新 (Update PC)**\n",
    "\n",
    "   * PCを +1（命令長に依存）し、次の命令のアドレスを指示。\n",
    "\n",
    "3. **命令の解読 (Decode)**\n",
    "\n",
    "   * 命令レジスタの内容を命令デコーダで解読。\n",
    "\n",
    "4. **データ取出し & 実行 (Execute)**\n",
    "\n",
    "   * 命令のアドレス部からデータを主記憶から取り出し、処理実行。\n",
    "\n",
    "5. **結果の格納 (Store)**\n",
    "\n",
    "   * 結果を汎用レジスタに格納。"
   ]
  },
  {
   "cell_type": "markdown",
   "id": "f1e3b239-e76e-4abc-9f3d-4d166ce72743",
   "metadata": {},
   "source": [
    "---"
   ]
  },
  {
   "cell_type": "markdown",
   "id": "2ebe3074-3eb3-41b5-bc25-e48db634e00e",
   "metadata": {},
   "source": [
    "## アドレス指定方式 (Addressing Modes)"
   ]
  },
  {
   "cell_type": "markdown",
   "id": "c32edc73-4515-42b2-96a9-0b95597ed9d0",
   "metadata": {},
   "source": [
    "### 直接アドレス指定 (Direct Addressing)"
   ]
  },
  {
   "cell_type": "markdown",
   "id": "dc0dc4aa-a3e3-4c2d-bbc8-daf5d0b87670",
   "metadata": {},
   "source": [
    "* **仕組み**: 命令のアドレス部に有効アドレスが直接格納。\n",
    "* **特徴**:\n",
    "\n",
    "  * 高速（主記憶アクセス1回）。\n",
    "  * 表現可能範囲はアドレス部のビット幅に制限。\n",
    "* 指令中的地址字段存放的就是数据的​​绝对物理地址​​。它只需要 ​​1 次内存访问（Memory Access）​​ 就能拿到数据。内存访问（相对于CPU内部操作）是非常耗时的，减少次数能极大提升性能。假设指令中的地址字段是 16 位（2字节），那么它最多只能表示 2^16 = 65536个不同的地址。这意味着你的程序和数据​​只能放在内存的前 64KB 空间内​​。"
   ]
  },
  {
   "cell_type": "markdown",
   "id": "68d6f938-c651-4479-9b33-b7e2d246ba0a",
   "metadata": {},
   "source": [
    "### 間接アドレス指定 (Indirect Addressing)"
   ]
  },
  {
   "cell_type": "markdown",
   "id": "9d59d57b-e533-47de-9449-66645be07562",
   "metadata": {},
   "source": [
    "* **仕組み**: 命令のアドレス部が指す場所に、有効アドレスが格納。\n",
    "* **処理フロー**:\n",
    "\n",
    "  1. 命令部アドレスを読み取る (例: 20番地)。\n",
    "  2. 20番地にアクセスし、そこにある値を取得 (例: 25番地)。\n",
    "  3. 25番地にアクセスし、データを取得。\n",
    "* **特徴**:\n",
    "\n",
    "  * メリット: 大きなアドレス空間を扱える。\n",
    "  * デメリット: 遅い（アクセス2回必要）。\n",
    "* 指令中的地址字段存放的是一个​​指针的地址​​，而不是数据本身的地址。它需要 ​​2 次内存访问​​才能拿到最终数据。这比直接寻址慢了一倍。“指针”本身是一个存储在内存中的值，它的长度（例如 32 位或 64 位）可以和CPU的字长一样，而不是受限于指令中短短的地址字段。通过一个 32 位的指针，可以访问 2^32 = 4GB的地址空间，即使指令本身的地址字段只有 16 位。在程序运行时，​​我们可以改变指针所指向的内容​​。这意味着同一条指令，在不同时刻可以操作完全不同位置的数据。这是实现​​数组、链表、指针、函数调用（栈帧）、动态内存分配（堆）​​ 等高级功能的硬件基础。没有间接寻址，几乎不可能编写复杂的软件。"
   ]
  },
  {
   "cell_type": "markdown",
   "id": "a5913dc2-cc81-4197-9569-2f4968bf0507",
   "metadata": {},
   "source": [
    "| 方式 | アドレス部の内容        | 主記憶アクセス回数 | 速度 | 指定範囲       |\n",
    "| -- | --------------- | --------- | -- | ---------- |\n",
    "| 直接 | 有効アドレス          | 1回        | 高速 | アドレス部ビット幅  |\n",
    "| 間接 | 有効アドレスが書かれたアドレス | 2回        | 低速 | 主記憶サイズまで拡大 |"
   ]
  },
  {
   "cell_type": "markdown",
   "id": "1645dd72-a06a-4112-a78e-87ee2eaae602",
   "metadata": {},
   "source": [
    "---"
   ]
  },
  {
   "cell_type": "markdown",
   "id": "f0f05381-53b7-4193-baaa-bf95b135d4f2",
   "metadata": {},
   "source": [
    "## 割込み (Interrupts / 中断)"
   ]
  },
  {
   "cell_type": "markdown",
   "id": "b59912e3-5d58-4d4c-9dc8-277643902e58",
   "metadata": {},
   "source": [
    "* **定義**: 実行中プログラムを一時中断し、優先度の高い処理を実行。\n",
    "* **目的**:\n",
    "\n",
    "  1. 効率化（I/O処理完了などを即座に処理）。\n",
    "  2. 例外処理（ゼロ除算・ハードウェア異常など）。"
   ]
  },
  {
   "cell_type": "markdown",
   "id": "e15da63c-434d-48e5-a658-ca753d9c7f9d",
   "metadata": {},
   "source": [
    "### 割込み発生時のCPU動作"
   ]
  },
  {
   "cell_type": "markdown",
   "id": "d0cc0c81-11a4-43e6-97f3-f69d0c1d7a68",
   "metadata": {},
   "source": [
    "1. **退避**: PCの値をスタック等に保存。\n",
    "2. **切替**: 割込み処理ルーチンの先頭アドレスをPCに設定。\n",
    "3. **実行**: 割込み処理を実行。\n",
    "4. **復帰**: 保存していたPCを戻し、元のプログラム再開。"
   ]
  },
  {
   "cell_type": "markdown",
   "id": "d89fc453-f1ef-436e-9fc1-b15b829ba680",
   "metadata": {},
   "source": [
    "### 割込みの分類"
   ]
  },
  {
   "cell_type": "markdown",
   "id": "695f2451-2c48-4af2-810f-9d74d284940d",
   "metadata": {},
   "source": [
    "| 大分類              | 発生原因        | 具体例                                 |\n",
    "| ---------------- | ----------- | ----------------------------------- |\n",
    "| 内部割込み (Internal) | 実行中のプログラム自身 | プログラム割込み（ゼロ除算）、スーパーバイザーコール、ページフォールト |\n",
    "| 外部割込み (External) | 外部要因        | タイマ割込み、I/O完了、電源異常、コンソール操作           |"
   ]
  },
  {
   "cell_type": "markdown",
   "id": "e8c1659c-6c26-41ac-9636-a5abf965f193",
   "metadata": {},
   "source": [
    "---"
   ]
  },
  {
   "cell_type": "markdown",
   "id": "78a3e959-1934-4f6a-bbf5-8275e7fc230d",
   "metadata": {},
   "source": [
    "## 記憶装置の大分類 (Storage Categories)"
   ]
  },
  {
   "cell_type": "markdown",
   "id": "b2c743d0-c769-4eb3-9760-bc494017a221",
   "metadata": {},
   "source": [
    "* **主記憶装置 (Main Memory / 主存储器)**: 揮発性、プログラム・データを一時保持 (例: DRAM)。\n",
    "* **補助記憶装置 (Secondary Storage / 辅助存储器)**: 非揮発性、永続保存 (例: HDD, SSD, USB)。\n",
    "* **キャッシュメモリ (Cache / 高速缓存)**: CPUと主記憶の速度差を埋める、最速だが容量小 (例: SRAM)。"
   ]
  },
  {
   "cell_type": "markdown",
   "id": "762f93f6-9129-4b76-95e4-adba675d20bf",
   "metadata": {},
   "source": [
    "| 種類     | 英語                | 中文    | 主な役割       | 例        |\n",
    "| ------ | ----------------- | ----- | ---------- | -------- |\n",
    "| 主記憶装置  | Main Memory       | 主存储器  | CPUが直接アクセス | DRAM     |\n",
    "| 補助記憶装置 | Secondary Storage | 辅助存储器 | 永続的保存      | HDD, SSD |\n",
    "| キャッシュ  | Cache Memory      | 高速缓存  | 高速アクセス     | SRAM     |"
   ]
  },
  {
   "cell_type": "markdown",
   "id": "15324289-c5ad-4057-a334-ed292f3185ee",
   "metadata": {},
   "source": [
    "---"
   ]
  },
  {
   "cell_type": "markdown",
   "id": "f34c579c-4a23-4b8d-9fb0-a3c235d67fe5",
   "metadata": {},
   "source": [
    "## キャッシュの性能指標"
   ]
  },
  {
   "cell_type": "markdown",
   "id": "b902884e-d5b2-4633-aa77-11a57c12d7a2",
   "metadata": {},
   "source": [
    "### ヒット率 (Hit Rate)"
   ]
  },
  {
   "cell_type": "markdown",
   "id": "6e34b3a8-1096-492d-ad4e-9c8f6d04a014",
   "metadata": {},
   "source": [
    "* 定義: CPUが必要データをキャッシュ内で見つける確率。\n",
    "* 計算:\n",
    "\n",
    "  ```\n",
    "  ヒット率 = (キャッシュヒット回数 ÷ 全アクセス回数) × 100 (%)\n",
    "  ```"
   ]
  },
  {
   "cell_type": "markdown",
   "id": "a6ba64e0-2910-4547-a765-3b4eb062295f",
   "metadata": {},
   "source": [
    "### 実効アクセス時間 (Effective Access Time)"
   ]
  },
  {
   "cell_type": "markdown",
   "id": "39ec0e10-4b34-468a-98b6-b57d83187708",
   "metadata": {},
   "source": [
    "* 定義: キャッシュ導入後の平均アクセス時間。\n",
    "* 式:\n",
    "\n",
    "  ```\n",
    "  実効アクセス時間 = (キャッシュ時間 × ヒット率) + (主記憶時間 × (1 - ヒット率))\n",
    "  ```"
   ]
  },
  {
   "cell_type": "markdown",
   "id": "9e59a18e-9673-47c7-ac1b-ccb70019c5bc",
   "metadata": {},
   "source": [
    "---"
   ]
  },
  {
   "cell_type": "markdown",
   "id": "1b69a3ae-8e8e-4af8-a534-8eff51aaefca",
   "metadata": {},
   "source": [
    "## メモリインタリーブ (Memory Interleave)"
   ]
  },
  {
   "cell_type": "markdown",
   "id": "1ccb83c7-b706-480c-a055-476cb67842b2",
   "metadata": {},
   "source": [
    "* **目的**: 主記憶アクセスを高速化。\n",
    "* **仕組み**: 主記憶を複数バンクに分割し、並列アクセス。\n",
    "* 中文说明: **低位交错 (Low-Order Interleaving)**：内存地址低位决定Bank编号，使连续地址分散到不同Bank → 提升吞吐量。\n"
   ]
  },
  {
   "cell_type": "markdown",
   "id": "a95758ec-10ef-4c21-b0a7-7c12b511f9fe",
   "metadata": {},
   "source": [
    "---"
   ]
  },
  {
   "cell_type": "markdown",
   "id": "4a83a7c9-8f38-4b34-9d1d-d0504d99bb84",
   "metadata": {},
   "source": [
    "## データ書き込み方式 (Write Policies)"
   ]
  },
  {
   "cell_type": "markdown",
   "id": "c02ebfd3-8af2-4017-af35-d948ce423d47",
   "metadata": {},
   "source": [
    "### ライトスルー (Write-Through)"
   ]
  },
  {
   "cell_type": "markdown",
   "id": "dfbca6c5-ff70-41e6-b63f-28ca5a184070",
   "metadata": {},
   "source": [
    "* 仕組み: CPUが書き込む際、キャッシュと主記憶両方に即時反映。\n",
    "* 中文说明: **每次写操作同时更新Cache和主内存**。"
   ]
  },
  {
   "cell_type": "code",
   "execution_count": null,
   "id": "201aefcc-9e20-4829-bff8-7172e93c9d61",
   "metadata": {},
   "outputs": [],
   "source": [
    "### ライトバック (Write-Back)"
   ]
  }
 ],
 "metadata": {
  "kernelspec": {
   "display_name": "Python 3 (ipykernel)",
   "language": "python",
   "name": "python3"
  },
  "language_info": {
   "codemirror_mode": {
    "name": "ipython",
    "version": 3
   },
   "file_extension": ".py",
   "mimetype": "text/x-python",
   "name": "python",
   "nbconvert_exporter": "python",
   "pygments_lexer": "ipython3",
   "version": "3.11.6"
  }
 },
 "nbformat": 4,
 "nbformat_minor": 5
}
