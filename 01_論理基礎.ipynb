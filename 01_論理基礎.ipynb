{
 "cells": [
  {
   "cell_type": "markdown",
   "id": "da228287-4e64-4be5-90dd-dec6c78dd08a",
   "metadata": {},
   "source": [
    "---"
   ]
  },
  {
   "cell_type": "markdown",
   "id": "20e9cd38-462c-4556-826f-9137908f0370",
   "metadata": {},
   "source": [
    "# 第1章 論理基礎"
   ]
  },
  {
   "cell_type": "markdown",
   "id": "4f38bbac-fb85-461c-9b3c-c73f28889471",
   "metadata": {},
   "source": [
    "---"
   ]
  },
  {
   "cell_type": "markdown",
   "id": "7e44402f-5c85-4d43-a553-e73b601b6b9f",
   "metadata": {},
   "source": [
    "## データ単位と進数"
   ]
  },
  {
   "cell_type": "markdown",
   "id": "1860383a-a31e-4088-8dcb-f3de0dd875fd",
   "metadata": {},
   "source": [
    "### ビット (bit / 比特)"
   ]
  },
  {
   "cell_type": "markdown",
   "id": "adeb9b92-0d01-45b1-8d46-9896b016fc6a",
   "metadata": {},
   "source": [
    "* コンピュータが処理する最小のデータ単位\n",
    "* 2進数の1桁（0 または 1）"
   ]
  },
  {
   "cell_type": "markdown",
   "id": "a50a8943-54ab-4c13-81ef-f341d2d13bcd",
   "metadata": {},
   "source": [
    "### バイト (byte / 字节)"
   ]
  },
  {
   "cell_type": "markdown",
   "id": "04e53389-68e7-4ea8-85e4-d6ed0fd410b8",
   "metadata": {},
   "source": [
    "* 8ビットで構成される基本単位\n",
    "* 1 byte = 8 bits"
   ]
  },
  {
   "cell_type": "markdown",
   "id": "5b94ffe9-9692-47b3-b7f2-99a29e2bcd44",
   "metadata": {},
   "source": [
    "---"
   ]
  },
  {
   "cell_type": "markdown",
   "id": "5f3fffbf-280e-4f49-8f2e-af933fcee5a1",
   "metadata": {},
   "source": [
    "## データ単位"
   ]
  },
  {
   "cell_type": "markdown",
   "id": "19f1fc28-cef2-43a3-9c0f-90dd3403713b",
   "metadata": {},
   "source": [
    "### 10進法（SI 規格 / 国際単位系）"
   ]
  },
  {
   "cell_type": "markdown",
   "id": "cb6dfc46-e734-4807-b0bd-da701e185980",
   "metadata": {},
   "source": [
    "利用例：ネットワーク速度、ハードディスク容量（メーカー表記）、伝送速度\n"
   ]
  },
  {
   "cell_type": "markdown",
   "id": "0ae20147-32d1-434e-8e63-e571146fee65",
   "metadata": {},
   "source": [
    "| 単位名称         | 記号 | バイト換算           | 累乗表記     |\n",
    "| :--------------- | :--- | :------------------- | :----------- |\n",
    "| Kilobyte         | kB   | 1,000 B              | 10<sup>3</sup> B  |\n",
    "| Megabyte         | MB   | 1,000,000 B          | 10<sup>6</sup> B  |\n",
    "| Gigabyte         | GB   | 1,000,000,000 B      | 10<sup>9</sup> B  |\n",
    "| Terabyte         | TB   | 1,000,000,000,000 B  | 10<sup>12</sup> B |"
   ]
  },
  {
   "cell_type": "markdown",
   "id": "71d82cc1-9567-41de-88d6-3fb88574e216",
   "metadata": {},
   "source": [
    "### 2進法（IEC 規格）"
   ]
  },
  {
   "cell_type": "markdown",
   "id": "70a9dcfe-b6b5-4e8a-bfd7-db08a9c39efd",
   "metadata": {},
   "source": [
    "利用例：OSやメモリの管理、ソフトウェアの表示"
   ]
  },
  {
   "cell_type": "markdown",
   "id": "597e94d5-7390-4223-bf43-d22e7c239034",
   "metadata": {},
   "source": [
    "| 単位名称         | 記号 | バイト換算             | 累乗表記     |\n",
    "| :--------------- | :--- | :--------------------- | :----------- |\n",
    "| Kibibyte         | KiB  | 1,024 B                | 2<sup>10</sup> B |\n",
    "| Mebibyte         | MiB  | 1,048,576 B            | 2<sup>20</sup> B |\n",
    "| Gibibyte         | GiB  | 1,073,741,824 B        | 2<sup>30</sup> B |\n",
    "| Tebibyte         | TiB  | 1,099,511,627,776 B    | 2<sup>40</sup> B |"
   ]
  },
  {
   "cell_type": "markdown",
   "id": "1713b89b-274d-4365-80e1-83ca4a8014a2",
   "metadata": {},
   "source": [
    "> **補足（なぜ差が出る？）**\n",
    "> ハードディスクなどの**標称容量**は SI（10進）で表記され、OS 表示の**実効容量**は IEC（2進）で計算されるため、数値がずれる。"
   ]
  },
  {
   "cell_type": "markdown",
   "id": "3a67bdab-2ad1-44fc-9031-eeb129cc8776",
   "metadata": {},
   "source": [
    "---"
   ]
  },
  {
   "cell_type": "markdown",
   "id": "2bce944d-a963-4a21-a414-ab9f7d78171a",
   "metadata": {},
   "source": [
    "## SI 接頭語（10進）"
   ]
  },
  {
   "cell_type": "markdown",
   "id": "d2674997-b979-4a23-993a-c2741a0ade43",
   "metadata": {},
   "source": [
    "| 日本語   | 英語    | 記号 | 10進数表記         | 累乗表記        |\n",
    "| :------- | :------ | :--- | :----------------- | :-------------- |\n",
    "| テラ     | Tera    | T    | 1,000,000,000,000 | 10<sup>12</sup> |\n",
    "| ギガ     | Giga    | G    | 1,000,000,000     | 10<sup>9</sup>  |\n",
    "| メガ     | Mega    | M    | 1,000,000         | 10<sup>6</sup>  |\n",
    "| キロ     | Kilo    | k    | 1,000             | 10<sup>3</sup>  |\n",
    "| (基準)   | (Base)  | -    | 1                 | 10<sup>0</sup>  |\n",
    "| ミリ     | Milli   | m    | 0.001             | 10<sup>-3</sup> |\n",
    "| マイクロ | Micro   | μ    | 0.000001          | 10<sup>-6</sup> |\n",
    "| ナノ     | Nano    | n    | 0.000000001       | 10<sup>-9</sup> |\n",
    "| ピコ     | Pico    | p    | 0.000000000001    | 10<sup>-12</sup> |"
   ]
  },
  {
   "cell_type": "markdown",
   "id": "0400c0fe-83bf-4fd4-bcb8-37a922a5d003",
   "metadata": {},
   "source": [
    "---"
   ]
  },
  {
   "cell_type": "markdown",
   "id": "39d51515-020b-4c7b-b862-63d8708bcd5d",
   "metadata": {},
   "source": [
    "## 進数の基礎"
   ]
  },
  {
   "cell_type": "markdown",
   "id": "4ed7fbe9-637f-4909-9dac-02cc1153e0e0",
   "metadata": {},
   "source": [
    "| 進数 | 基数 | 使用する数字 | 用途 |\n",
    "| :--- | :--- | :--- | :--- |\n",
    "| **10進数** (Decimal) | 10 | 0,1,2,3,4,5,6,7,8,9 | 日常生活、一般的な計算 |\n",
    "| **2進数** (Binary) | 2 | 0,1 | コンピュータの内部処理（全てのデータの根本） |\n",
    "| **16進数** (Hexadecimal) | 16 | 0-9, A(10),B(11),C(12),D(13),E(14),F(15) | 2進数を簡潔に表現（メモリアドレス、色コード等） |"
   ]
  },
  {
   "cell_type": "markdown",
   "id": "6a280fd0-0c79-49ae-9ce0-e383baa20f65",
   "metadata": {},
   "source": [
    "### 小数の種類"
   ]
  },
  {
   "cell_type": "markdown",
   "id": "c23440d9-8fea-4af9-b69e-d865c12f22f4",
   "metadata": {},
   "source": [
    "* **有限小数 (Terminating decimal)**：小数部の桁数が有限で終わる小数\n",
    "* **無限小数 (Infinite decimal)**：小数部が無限に続く小数"
   ]
  },
  {
   "cell_type": "markdown",
   "id": "d3bd813e-825e-4b0a-85e2-50ee5f266578",
   "metadata": {},
   "source": [
    "* **循環小数 (Repeating/Recurring)**：ある桁から同じ数字列が繰り返される（例：$1/3=0.\\overline{3}$、$1/7=0.\\overline{142857}$）\n",
    "* **非循環小数 (Non-repeating)**：規則性なく無限に続く（例：$\\pi, e$）"
   ]
  },
  {
   "cell_type": "markdown",
   "id": "46812fdd-f3f4-4de1-989a-e15abf1a59e0",
   "metadata": {},
   "source": [
    "### 基数 (Base)"
   ]
  },
  {
   "cell_type": "markdown",
   "id": "17ac4860-ae46-4243-a81b-daf73d0c1a12",
   "metadata": {},
   "source": [
    "* 桁上がりの基準となる数\n",
    "* 10進の基数は 10、2進は 2、16進は 16"
   ]
  },
  {
   "cell_type": "markdown",
   "id": "fa3ea34f-fc0a-4d53-bd8b-017cd969380d",
   "metadata": {},
   "source": [
    "### 桁の重み (Place Value)"
   ]
  },
  {
   "cell_type": "markdown",
   "id": "f8a985e3-7f27-4e34-8a12-329561af0722",
   "metadata": {},
   "source": [
    "* 各桁が表す実際の大きさは**基数の $n$ 乗**で決まる\n",
    "* 10進：… $10^3,10^2,10^1,10^0,10^{-1},10^{-2}$ …\n",
    "* 2進：… $2^3,2^2,2^1,2^0,2^{-1},2^{-2}$ …"
   ]
  },
  {
   "cell_type": "markdown",
   "id": "69635a25-89bc-41b1-8ac1-44da9d622c23",
   "metadata": {},
   "source": [
    "### 指数 (Exponentiation)"
   ]
  },
  {
   "cell_type": "markdown",
   "id": "5cefe7e2-790b-4544-96e8-f1e41c882c4f",
   "metadata": {},
   "source": [
    "* 同じ数を掛け合わせる回数を表す数。$a^n$ と表記"
   ]
  },
  {
   "cell_type": "markdown",
   "id": "54c9e6cc-1369-4db2-8914-a57fcba10210",
   "metadata": {},
   "source": [
    "---"
   ]
  },
  {
   "cell_type": "markdown",
   "id": "4330b3ca-71bd-479e-8036-04cbf93507cc",
   "metadata": {},
   "source": [
    "## 変換アルゴリズム（概要・原理のみ）"
   ]
  },
  {
   "cell_type": "markdown",
   "id": "5fa7eadf-9284-4de0-8462-7ee9fca90d77",
   "metadata": {},
   "source": [
    "### 2進 → 10進（重み付け和）"
   ]
  },
  {
   "cell_type": "markdown",
   "id": "14eb63db-750b-4e8e-ae07-f7fd81b33c88",
   "metadata": {},
   "source": [
    "* 各桁の値（0/1）× その桁の重み（$2^n$）を**合計**する"
   ]
  },
  {
   "cell_type": "code",
   "execution_count": 2,
   "id": "2e941d4d-aff5-4347-9c9a-db57429287d1",
   "metadata": {},
   "outputs": [
    {
     "name": "stdout",
     "output_type": "stream",
     "text": [
      "==================================================\n",
      "输入二进制字符串: 101001101.101\n",
      "转换过程：\n",
      "\n",
      "整数部分计算:\n",
      "1 × 2^8 = 256\n",
      "0 × 2^7 = 0\n",
      "1 × 2^6 = 64\n",
      "0 × 2^5 = 0\n",
      "0 × 2^4 = 0\n",
      "1 × 2^3 = 8\n",
      "1 × 2^2 = 4\n",
      "0 × 2^1 = 0\n",
      "1 × 2^0 = 1\n",
      "\n",
      "小数部分计算:\n",
      "1 × 2^-1 = 0.5\n",
      "0 × 2^-2 = 0.0\n",
      "1 × 2^-3 = 0.125\n",
      "\n",
      "总和公式:\n",
      "256 + 0 + 64 + 0 + 0 + 8 + 4 + 0 + 1 + 0.5 + 0.0 + 0.125 = 333.625\n",
      "\n",
      "最终结果: 101001101.101₂ = 333.625₁₀\n",
      "==================================================\n"
     ]
    }
   ],
   "source": [
    "def binary_to_decimal_detailed(bin_str):\n",
    "    \"\"\"\n",
    "    将二进制字符串转换为十进制数，并详细输出每一步的计算过程。\n",
    "    \"\"\"\n",
    "    # 检查输入是否有效\n",
    "    if not all(c in '01.' for c in bin_str):\n",
    "        print(\"错误：输入必须只包含0、1和小数点（.）\")\n",
    "        return\n",
    "    \n",
    "    # 分离整数部分和小数部分\n",
    "    if '.' in bin_str:\n",
    "        integer_part, fractional_part = bin_str.split('.')\n",
    "    else:\n",
    "        integer_part = bin_str\n",
    "        fractional_part = ''\n",
    "    \n",
    "    print(f\"输入二进制字符串: {bin_str}\")\n",
    "    print(\"转换过程：\")\n",
    "    \n",
    "    total = 0.0\n",
    "    steps = []  # 存储每一步的详细描述和值\n",
    "    \n",
    "    # 处理整数部分\n",
    "    if integer_part:\n",
    "        print(\"\\n整数部分计算:\")\n",
    "        int_length = len(integer_part)\n",
    "        for i, digit in enumerate(integer_part):\n",
    "            power = int_length - i - 1  # 指数从高位到低位递减\n",
    "            value = int(digit) * (2 ** power)\n",
    "            total += value\n",
    "            step_desc = f\"{digit} × 2^{power} = {value}\"\n",
    "            steps.append(step_desc)\n",
    "            print(step_desc)\n",
    "    else:\n",
    "        print(\"\\n整数部分为空，跳过计算。\")\n",
    "    \n",
    "    # 处理小数部分\n",
    "    if fractional_part:\n",
    "        print(\"\\n小数部分计算:\")\n",
    "        for i, digit in enumerate(fractional_part):\n",
    "            power = -(i + 1)  # 指数从-1开始递减\n",
    "            value = int(digit) * (2 ** power)\n",
    "            total += value\n",
    "            step_desc = f\"{digit} × 2^{power} = {value}\"\n",
    "            steps.append(step_desc)\n",
    "            print(step_desc)\n",
    "    else:\n",
    "        print(\"\\n小数部分为空，跳过计算。\")\n",
    "    \n",
    "    # 输出总和公式\n",
    "    print(\"\\n总和公式:\")\n",
    "    formula = \" + \".join([step.split(' = ')[1] for step in steps])\n",
    "    print(formula + f\" = {total}\")\n",
    "    \n",
    "    print(f\"\\n最终结果: {bin_str}₂ = {total}₁₀\")\n",
    "    return total\n",
    "\n",
    "# 示例使用\n",
    "if __name__ == \"__main__\":\n",
    "    # 测试几个例子\n",
    "    examples = [\"101001101.101\"]\n",
    "    for example in examples:\n",
    "        print(\"=\"*50)\n",
    "        binary_to_decimal_detailed(example)\n",
    "        print(\"=\"*50)"
   ]
  },
  {
   "cell_type": "markdown",
   "id": "8dc63f81-1b37-4f9d-8af1-edcd43a2b276",
   "metadata": {},
   "source": [
    "### 10進 → 16進"
   ]
  },
  {
   "cell_type": "markdown",
   "id": "d1e5af72-6ade-4114-872d-354478b83357",
   "metadata": {},
   "source": [
    "* **整数部**：16で**割り続け**余りを記録（除算・余り法）\n",
    "* **小数部**：16で**掛け続け**整数部分を記録（乗算・整数法）"
   ]
  },
  {
   "cell_type": "code",
   "execution_count": 3,
   "id": "7a262d11-83ac-4a6c-bfe3-80f2f7b8513f",
   "metadata": {},
   "outputs": [
    {
     "name": "stdout",
     "output_type": "stream",
     "text": [
      "変換元: 10283\n",
      "\n",
      "=== 整数部の計算 ===\n",
      "ステップ1: 642 * 16 + 11 [→ B]\n",
      "ステップ2: 40 * 16 + 2 [→ 2]\n",
      "ステップ3: 2 * 16 + 8 [→ 8]\n",
      "ステップ4: 0 * 16 + 2 [→ 2]\n",
      "\n",
      "=== 小数部の計算 ===\n",
      "\n",
      "変換結果: 10283₁₀ = 282B₁₆\n"
     ]
    },
    {
     "data": {
      "text/plain": [
       "'282B'"
      ]
     },
     "execution_count": 3,
     "metadata": {},
     "output_type": "execute_result"
    }
   ],
   "source": [
    "# 【実践計算】10進数 → 16進数 変換（詳細版）\n",
    "def decimal_to_hex_detailed(decimal_num, precision=6):\n",
    "    \"\"\"\n",
    "    10進数を16進数に変換し、その過程を詳細に表示する関数。\n",
    "    \"\"\"\n",
    "    # 整数部と小数部を分離\n",
    "    integer_part = int(decimal_num)\n",
    "    fractional_part = decimal_num - integer_part\n",
    "\n",
    "    print(f\"変換元: {decimal_num}\")\n",
    "    hex_digits = \"0123456789ABCDEF\" # 16進数の桁リスト\n",
    "    result_int = [] # 整数部の結果格納用リスト\n",
    "    result_frac = [] # 小数部の結果格納用リスト\n",
    "\n",
    "    # --- 整数部の変換プロセス ---\n",
    "    print(\"\\n=== 整数部の計算 ===\")\n",
    "    n = integer_part\n",
    "    if n == 0:\n",
    "        result_int.append('0')\n",
    "    else:\n",
    "        step_count = 0\n",
    "        while n > 0:\n",
    "            step_count += 1\n",
    "            remainder = n % 16\n",
    "            n //= 16\n",
    "            hex_digit = hex_digits[remainder]\n",
    "            result_int.insert(0, hex_digit) # 結果をリストの先頭に追加\n",
    "            print(f\"ステップ{step_count}: {n} * 16 + {remainder} [→ {hex_digit}]\")\n",
    "\n",
    "    # --- 小数部の変換プロセス ---\n",
    "    print(\"\\n=== 小数部の計算 ===\")\n",
    "    f = fractional_part\n",
    "    step_count = 0\n",
    "    while f > 0 and step_count < precision:\n",
    "        step_count += 1\n",
    "        f *= 16\n",
    "        integer_component = int(f)\n",
    "        f -= integer_component\n",
    "        hex_digit = hex_digits[integer_component]\n",
    "        result_frac.append(hex_digit)\n",
    "        print(f\"ステップ{step_count}: {fractional_part:.6f} * 16 = {f:.6f} → 整数部分: {integer_component} [→ {hex_digit}], 新しい小数部分: {f:.6f}\")\n",
    "\n",
    "    # 結果の結合と表示\n",
    "    hex_str = ''.join(result_int)\n",
    "    if result_frac:\n",
    "        hex_str += '.' + ''.join(result_frac)\n",
    "    print(f\"\\n変換結果: {decimal_num}₁₀ = {hex_str}₁₆\")\n",
    "    return hex_str\n",
    "\n",
    "# 例の実行\n",
    "decimal_to_hex_detailed(10283)"
   ]
  },
  {
   "cell_type": "markdown",
   "id": "1054fe1a-6f60-41d7-a0e2-a49478043fa8",
   "metadata": {},
   "source": [
    "### 2進 → 16進"
   ]
  },
  {
   "cell_type": "markdown",
   "id": "3915bb3f-d442-4ca1-be1c-f2bf7ea0e9af",
   "metadata": {},
   "source": [
    "* $16 = 2^4$ を利用：**4ビットずつ**区切って各グループを1桁の16進に変換\n",
    "* 不足する端はゼロ埋め"
   ]
  },
  {
   "cell_type": "markdown",
   "id": "f5b5a54e-e278-422f-8127-56e70d17f9c3",
   "metadata": {},
   "source": [
    "| 2進数 (4ビット) | 10進数 | 16進数 |\n",
    "| :-------------- | :----- | :----- |\n",
    "| 0000            | 0      | 0      |\n",
    "| 0001            | 1      | 1      |\n",
    "| 0010            | 2      | 2      |\n",
    "| 0011            | 3      | 3      |\n",
    "| 0100            | 4      | 4      |\n",
    "| 0101            | 5      | 5      |\n",
    "| 0110            | 6      | 6      |\n",
    "| 0111            | 7      | 7      |\n",
    "| 1000            | 8      | 8      |\n",
    "| 1001            | 9      | 9      |\n",
    "| 1010            | 10     | A      |\n",
    "| 1011            | 11     | B      |\n",
    "| 1100            | 12     | C      |\n",
    "| 1101            | 13     | D      |\n",
    "| 1110            | 14     | E      |\n",
    "| 1111            | 15     | F      |"
   ]
  },
  {
   "cell_type": "code",
   "execution_count": 4,
   "id": "4894c937-f41a-4f79-b6aa-8481d7eddbdd",
   "metadata": {},
   "outputs": [
    {
     "name": "stdout",
     "output_type": "stream",
     "text": [
      "入力: 1101011100.10111\n",
      "\n",
      "1. 整数部のグループ化と変換:\n",
      "   グループ: ['0011', '0101', '1100']\n",
      "   0011 -> 3\n",
      "   0101 -> 5\n",
      "   1100 -> C\n",
      "\n",
      "2. 小数部のグループ化と変換:\n",
      "   グループ: ['1011', '1000']\n",
      "   1011 -> B\n",
      "   1000 -> 8\n",
      "\n",
      "最終結果: 1101011100.10111₂ = 35C.B8₁₆\n"
     ]
    },
    {
     "data": {
      "text/plain": [
       "'35C.B8'"
      ]
     },
     "execution_count": 4,
     "metadata": {},
     "output_type": "execute_result"
    }
   ],
   "source": [
    "# 【実践計算】2進数 → 16進数 変換（グループ化の可視化）\n",
    "def binary_to_hex_visual(bin_str):\n",
    "    \"\"\"\n",
    "    2進数文字列を16進数に変換し、グループ化の過程を詳細に表示する。\n",
    "    \"\"\"\n",
    "    # 対応表の定義\n",
    "    bin_to_hex_dict = {\n",
    "        '0000': '0', '0001': '1', '0010': '2', '0011': '3',\n",
    "        '0100': '4', '0101': '5', '0110': '6', '0111': '7',\n",
    "        '1000': '8', '1001': '9', '1010': 'A', '1011': 'B',\n",
    "        '1100': 'C', '1101': 'D', '1110': 'E', '1111': 'F'\n",
    "    }\n",
    "\n",
    "    # 整数部と小数部に分割\n",
    "    if '.' in bin_str:\n",
    "        integer_part, fractional_part = bin_str.split('.')\n",
    "    else:\n",
    "        integer_part, fractional_part = bin_str, ''\n",
    "\n",
    "    print(f\"入力: {bin_str}\")\n",
    "    hex_result = []\n",
    "\n",
    "    # --- 整数部の処理 ---\n",
    "    print(\"\\n1. 整数部のグループ化と変換:\")\n",
    "    # 整数部を4桁ごとのグループに分割（左端はゼロ埋め）\n",
    "    int_length = len(integer_part)\n",
    "    # 4の倍数になるまで左側をゼロ埋め\n",
    "    padded_int = integer_part.zfill((int_length + 3) // 4 * 4)\n",
    "    # 4桁ずつに分割\n",
    "    int_groups = [padded_int[i:i+4] for i in range(0, len(padded_int), 4)]\n",
    "    print(f\"   グループ: {int_groups}\")\n",
    "\n",
    "    for group in int_groups:\n",
    "        hex_digit = bin_to_hex_dict[group]\n",
    "        hex_result.append(hex_digit)\n",
    "        print(f\"   {group} -> {hex_digit}\")\n",
    "\n",
    "    # --- 小数部の処理 ---\n",
    "    if fractional_part:\n",
    "        hex_result.append('.') # 小数点を追加\n",
    "        print(\"\\n2. 小数部のグループ化と変換:\")\n",
    "        # 小数部を4桁ごとのグループに分割（右端はゼロ埋め）\n",
    "        frac_length = len(fractional_part)\n",
    "        padded_frac = fractional_part.ljust((frac_length + 3) // 4 * 4, '0')\n",
    "        frac_groups = [padded_frac[i:i+4] for i in range(0, len(padded_frac), 4)]\n",
    "        print(f\"   グループ: {frac_groups}\")\n",
    "\n",
    "        for group in frac_groups:\n",
    "            hex_digit = bin_to_hex_dict[group]\n",
    "            hex_result.append(hex_digit)\n",
    "            print(f\"   {group} -> {hex_digit}\")\n",
    "\n",
    "    # 結果を結合して表示\n",
    "    final_hex = ''.join(hex_result)\n",
    "    # 小数部の末尾の不要な'0'を削除（オプション）\n",
    "    if '.' in final_hex:\n",
    "        final_hex = final_hex.rstrip('0').rstrip('.')\n",
    "    print(f\"\\n最終結果: {bin_str}₂ = {final_hex}₁₆\")\n",
    "    return final_hex\n",
    "\n",
    "# 例の実行\n",
    "binary_to_hex_visual(\"1101011100.10111\")"
   ]
  },
  {
   "cell_type": "markdown",
   "id": "02ef65e0-02fb-4b24-915d-ec664175a2cc",
   "metadata": {},
   "source": [
    "### 16進 → 10進（重み付け和）"
   ]
  },
  {
   "cell_type": "markdown",
   "id": "0efc6336-d950-4eec-b3d7-371f7e40f051",
   "metadata": {},
   "source": [
    "* 各桁の 16進値 × 重み（$16^n$）を**合計**"
   ]
  },
  {
   "cell_type": "markdown",
   "id": "486fef07-a6c1-4f78-9313-3785b4999468",
   "metadata": {},
   "source": [
    "* #### 参考：16 の累乗"
   ]
  },
  {
   "cell_type": "markdown",
   "id": "06f0dc83-990a-4e1e-8b01-825d46370d82",
   "metadata": {},
   "source": [
    "| n   | 16^n (整数)       | 16^-n (小数)          |\n",
    "|:----|------------------:|----------------------:|\n",
    "| 0   | 1                 | 1                     |\n",
    "| 1   | 16                | 0.0625                |\n",
    "| 2   | 256               | 0.00390625            |\n",
    "| 3   | 4096              | 0.000244140625        |\n",
    "| 4   | 65536             | 0.0000152587890625    |"
   ]
  },
  {
   "cell_type": "code",
   "execution_count": 5,
   "id": "b597b7ec-9681-472e-bdac-14042840876c",
   "metadata": {},
   "outputs": [
    {
     "name": "stdout",
     "output_type": "stream",
     "text": [
      "変換元: 7C2A.F84\n",
      "\n",
      "=== 整数部の計算 ===\n",
      "'7'(7) × 16^3 (4096) = 28672\n",
      "'C'(12) × 16^2 (256) = 3072\n",
      "'2'(2) × 16^1 (16) = 32\n",
      "'A'(10) × 16^0 (1) = 10\n",
      "\n",
      "=== 小数部の計算 ===\n",
      "'F'(15) × 16^-1 (0.06250000) = 0.93750000\n",
      "'8'(8) × 16^-2 (0.00390625) = 0.03125000\n",
      "'4'(4) × 16^-3 (0.00024414) = 0.00097656\n",
      "\n",
      "総和: 31786.9697265625\n",
      "変換結果: 7C2A.F84₁₆ = 31786.9697265625₁₀\n"
     ]
    },
    {
     "data": {
      "text/plain": [
       "31786.9697265625"
      ]
     },
     "execution_count": 5,
     "metadata": {},
     "output_type": "execute_result"
    }
   ],
   "source": [
    "# 【実践計算】16進数 → 10進数 変換（詳細版）\n",
    "def hex_to_decimal_detailed(hex_str):\n",
    "    \"\"\"\n",
    "    16進数字符列を10進数に変換し、その過程を詳細に表示する関数。\n",
    "    \"\"\"\n",
    "    # 16進数から10進数への文字変換辞書\n",
    "    hex_map = {'0':0, '1':1, '2':2, '3':3, '4':4, '5':5, '6':6, '7':7,\n",
    "               '8':8, '9':9, 'A':10, 'B':11, 'C':12, 'D':13, 'E':14, 'F':15,\n",
    "               'a':10, 'b':11, 'c':12, 'd':13, 'e':14, 'f':15}\n",
    "\n",
    "    # 整数部と小数部に分割\n",
    "    if '.' in hex_str:\n",
    "        integer_part, fractional_part = hex_str.split('.')\n",
    "    else:\n",
    "        integer_part = hex_str\n",
    "        fractional_part = ''\n",
    "\n",
    "    print(f\"変換元: {hex_str}\")\n",
    "    total = 0.0\n",
    "    steps = []  # 計算ステップを記録\n",
    "\n",
    "    # --- 整数部の処理 ---\n",
    "    print(\"\\n=== 整数部の計算 ===\")\n",
    "    int_length = len(integer_part)\n",
    "    for i, char in enumerate(integer_part):\n",
    "        digit_value = hex_map[char] # 文字を数値に変換 (e.g., 'A' -> 10)\n",
    "        power = int_length - i - 1   # 指数を計算 (左から)\n",
    "        weight = 16 ** power         # 重みを計算 (16^power)\n",
    "        product = digit_value * weight # 数字と重みの積\n",
    "        total += product\n",
    "\n",
    "        # ステップの詳細を記録と表示\n",
    "        step_desc = f\"'{char}'({digit_value}) × 16^{power} ({weight}) = {product}\"\n",
    "        steps.append(step_desc)\n",
    "        print(step_desc)\n",
    "\n",
    "    # --- 小数部の処理 ---\n",
    "    if fractional_part:\n",
    "        print(\"\\n=== 小数部の計算 ===\")\n",
    "        for i, char in enumerate(fractional_part, start=1):\n",
    "            digit_value = hex_map[char]\n",
    "            power = -i               # 指数を計算 (-1, -2, ...)\n",
    "            weight = 16 ** power     # 重みを計算 (16^-power)\n",
    "            product = digit_value * weight\n",
    "            total += product\n",
    "\n",
    "            # ステップの詳細を記録と表示\n",
    "            step_desc = f\"'{char}'({digit_value}) × 16^{power} ({weight:.8f}) = {product:.8f}\"\n",
    "            steps.append(step_desc)\n",
    "            print(step_desc)\n",
    "\n",
    "    # 結果を表示\n",
    "    print(f\"\\n総和: {total}\")\n",
    "    print(f\"変換結果: {hex_str}₁₆ = {total}₁₀\")\n",
    "    return total\n",
    "\n",
    "# 例の実行\n",
    "hex_to_decimal_detailed(\"7C2A.F84\")"
   ]
  },
  {
   "cell_type": "markdown",
   "id": "bc599163-8054-4802-9db3-3aef700cf0e9",
   "metadata": {},
   "source": [
    "| 2進数 (4ビット) | 10進数 | 16進数 |\n",
    "| :-------------- | :----- | :----- |\n",
    "| 0000            | 0      | 0      |\n",
    "| 0001            | 1      | 1      |\n",
    "| 0010            | 2      | 2      |\n",
    "| 0011            | 3      | 3      |\n",
    "| 0100            | 4      | 4      |\n",
    "| 0101            | 5      | 5      |\n",
    "| 0110            | 6      | 6      |\n",
    "| 0111            | 7      | 7      |\n",
    "| 1000            | 8      | 8      |\n",
    "| 1001            | 9      | 9      |\n",
    "| 1010            | 10     | A      |\n",
    "| 1011            | 11     | B      |\n",
    "| 1100            | 12     | C      |\n",
    "| 1101            | 13     | D      |\n",
    "| 1110            | 14     | E      |\n",
    "| 1111            | 15     | F      |"
   ]
  },
  {
   "cell_type": "markdown",
   "id": "fc2e7c80-1c6a-48d4-8cb8-4485fa6556e1",
   "metadata": {},
   "source": [
    "### 10進 → 2進\n",
    "\r\n"
   ]
  },
  {
   "cell_type": "markdown",
   "id": "9e57418a-9c8b-4f69-8aa2-6a28280fe5ef",
   "metadata": {},
   "source": [
    "* **整数部**：2で割って**商と余り**を繰り返し、余りを下位から並べる\n",
    "* **小数部**：2を掛けて**整数部分**を並べる"
   ]
  },
  {
   "cell_type": "code",
   "execution_count": 6,
   "id": "914e2a00-06a2-42c4-8c45-1fb1a25a14db",
   "metadata": {},
   "outputs": [
    {
     "name": "stdout",
     "output_type": "stream",
     "text": [
      "変換元: 13.625\n",
      "\n",
      "=== 整数部の変換 ===\n",
      "ステップ1: 13 ÷ 2 = 6 ... 余り 1\n",
      "ステップ2: 6 ÷ 2 = 3 ... 余り 0\n",
      "ステップ3: 3 ÷ 2 = 1 ... 余り 1\n",
      "ステップ4: 1 ÷ 2 = 0 ... 余り 1\n",
      "\n",
      "=== 小数部の変換 ===\n",
      "ステップ1: 0.25000000 × 2 = 1.25000000 → 整数部分 1\n",
      "ステップ2: 0.50000000 × 2 = 0.50000000 → 整数部分 0\n",
      "ステップ3: 0.00000000 × 2 = 1.00000000 → 整数部分 1\n",
      "\n",
      "変換結果: 13.625₁₀ = 1101.101₂\n"
     ]
    },
    {
     "data": {
      "text/plain": [
       "'1101.101'"
      ]
     },
     "execution_count": 6,
     "metadata": {},
     "output_type": "execute_result"
    }
   ],
   "source": [
    "def decimal_to_binary_detailed(decimal_num, precision=8):\n",
    "    \"\"\"\n",
    "    10進数を2進数に変換し、詳細なプロセスを表示する\n",
    "    \"\"\"\n",
    "    # 整数部と小数部を分離\n",
    "    integer_part = int(decimal_num)\n",
    "    fractional_part = decimal_num - integer_part\n",
    "    \n",
    "    print(f\"変換元: {decimal_num}\")\n",
    "    binary_int = []  # 整数部の2進数\n",
    "    binary_frac = [] # 小数部の2進数\n",
    "    \n",
    "    # === 整数部の変換プロセス ===\n",
    "    print(\"\\n=== 整数部の変換 ===\")\n",
    "    n = integer_part\n",
    "    step = 1\n",
    "    while n > 0:\n",
    "        quotient = n // 2\n",
    "        remainder = n % 2\n",
    "        binary_int.insert(0, str(remainder))  # 先頭に追加（逆順保存）\n",
    "        \n",
    "        print(f\"ステップ{step}: {n} ÷ 2 = {quotient} ... 余り {remainder}\")\n",
    "        n = quotient\n",
    "        step += 1\n",
    "    \n",
    "    # 整数部が0の場合の処理\n",
    "    if not binary_int:\n",
    "        binary_int = ['0']\n",
    "    \n",
    "    # === 小数部の変換プロセス ===\n",
    "    print(\"\\n=== 小数部の変換 ===\")\n",
    "    f = fractional_part\n",
    "    step = 1\n",
    "    while f > 0 and len(binary_frac) < precision:\n",
    "        product = f * 2\n",
    "        integer_part_product = int(product)\n",
    "        f = product - integer_part_product\n",
    "        \n",
    "        binary_frac.append(str(integer_part_product))\n",
    "        print(f\"ステップ{step}: {f:.8f} × 2 = {product:.8f} → 整数部分 {integer_part_product}\")\n",
    "        step += 1\n",
    "    \n",
    "    # 結果の組み立て\n",
    "    binary_str = ''.join(binary_int)\n",
    "    if binary_frac:\n",
    "        binary_str += '.' + ''.join(binary_frac)\n",
    "    \n",
    "    print(f\"\\n変換結果: {decimal_num}₁₀ = {binary_str}₂\")\n",
    "    return binary_str\n",
    "\n",
    "# 実行例\n",
    "decimal_to_binary_detailed(13.625)"
   ]
  },
  {
   "cell_type": "markdown",
   "id": "f6837e1e-6e69-4a9c-80d0-820eac61e0cb",
   "metadata": {},
   "source": [
    "### 16進 → 2進"
   ]
  },
  {
   "cell_type": "markdown",
   "id": "83838484-e1c9-4024-b612-43739e6d71e9",
   "metadata": {},
   "source": [
    "* 1桁の 16進が**4桁の 2進**に**完全対応**（対応表で直置換）"
   ]
  },
  {
   "cell_type": "code",
   "execution_count": 7,
   "id": "cf06eebb-d9b8-459c-b673-6a8f6271c295",
   "metadata": {},
   "outputs": [
    {
     "name": "stdout",
     "output_type": "stream",
     "text": [
      "変換元: 3A.7C₁₆\n",
      "\n",
      "=== 整数部の変換 ===\n",
      "  3 → 0011\n",
      "  A → 1010\n",
      "\n",
      "=== 小数部の変換 ===\n",
      "  7 → 0111\n",
      "  C → 1100\n",
      "\n",
      "=== 変換過程 ===\n",
      "'3' → 0011 -> 'A' → 1010 -> '7' → 0111 -> 'C' → 1100\n",
      "\n",
      "生の2進数: 00111010.01111100\n",
      "最適化後: 111010.011111\n",
      "\n",
      "最終結果: 3A.7C₁₆ = 111010.011111₂\n"
     ]
    },
    {
     "data": {
      "text/plain": [
       "'111010.011111'"
      ]
     },
     "execution_count": 7,
     "metadata": {},
     "output_type": "execute_result"
    }
   ],
   "source": [
    "# 【実践計算】16進数 → 2進数 変換（詳細版）\n",
    "def hex_to_binary_detailed(hex_str):\n",
    "    \"\"\"\n",
    "    16進数を2進数に変換し、詳細なプロセスを表示する関数\n",
    "    \"\"\"\n",
    "    # 対応表\n",
    "    hex_to_bin_dict = {\n",
    "        '0': '0000', '1': '0001', '2': '0010', '3': '0011',\n",
    "        '4': '0100', '5': '0101', '6': '0110', '7': '0111',\n",
    "        '8': '1000', '9': '1001', 'A': '1010', 'B': '1011',\n",
    "        'C': '1100', 'D': '1101', 'E': '1110', 'F': '1111',\n",
    "        'a': '1010', 'b': '1011', 'c': '1100', 'd': '1101',\n",
    "        'e': '1110', 'f': '1111'\n",
    "    }\n",
    "    \n",
    "    print(f\"変換元: {hex_str}₁₆\")\n",
    "    \n",
    "    # 整数部と小数部に分割\n",
    "    if '.' in hex_str:\n",
    "        integer_part, fractional_part = hex_str.split('.')\n",
    "    else:\n",
    "        integer_part, fractional_part = hex_str, ''\n",
    "    \n",
    "    binary_result = []\n",
    "    steps = []\n",
    "    \n",
    "    # --- 整数部の変換 ---\n",
    "    print(\"\\n=== 整数部の変換 ===\")\n",
    "    for i, char in enumerate(integer_part):\n",
    "        bin_digits = hex_to_bin_dict[char]\n",
    "        binary_result.append(bin_digits)\n",
    "        steps.append(f\"'{char}' → {bin_digits}\")\n",
    "        print(f\"  {char} → {bin_digits}\")\n",
    "    \n",
    "    # 小数部がある場合は小数点を追加\n",
    "    if fractional_part:\n",
    "        binary_result.append('.')\n",
    "        print(\"\\n=== 小数部の変換 ===\")\n",
    "        for i, char in enumerate(fractional_part):\n",
    "            bin_digits = hex_to_bin_dict[char]\n",
    "            binary_result.append(bin_digits)\n",
    "            steps.append(f\"'{char}' → {bin_digits}\")\n",
    "            print(f\"  {char} → {bin_digits}\")\n",
    "    \n",
    "    # 結果を結合\n",
    "    raw_binary = ''.join(binary_result)\n",
    "    \n",
    "    # 不要な0を除去\n",
    "    # 整数部の先頭の0を除去\n",
    "    if '.' in raw_binary:\n",
    "        int_part, frac_part = raw_binary.split('.')\n",
    "        int_part = int_part.lstrip('0') or '0'  # 全て0の場合は'0'を残す\n",
    "        # 小数部の末尾の0を除去\n",
    "        frac_part = frac_part.rstrip('0')\n",
    "        final_binary = f\"{int_part}.{frac_part}\" if frac_part else int_part\n",
    "    else:\n",
    "        final_binary = raw_binary.lstrip('0') or '0'\n",
    "    \n",
    "    # 変換過程と結果を表示\n",
    "    print(\"\\n=== 変換過程 ===\")\n",
    "    print(\" -> \".join(steps))\n",
    "    print(f\"\\n生の2進数: {raw_binary}\")\n",
    "    print(f\"最適化後: {final_binary}\")\n",
    "    print(f\"\\n最終結果: {hex_str}₁₆ = {final_binary}₂\")\n",
    "    return final_binary\n",
    "\n",
    "# 例の実行\n",
    "hex_to_binary_detailed(\"3A.7C\")"
   ]
  },
  {
   "cell_type": "markdown",
   "id": "3b416648-4d92-4d45-861e-d829241b8f04",
   "metadata": {},
   "source": [
    "---"
   ]
  },
  {
   "cell_type": "markdown",
   "id": "8a4f9116-fdff-4956-8151-0366c6b56742",
   "metadata": {},
   "source": [
    "## 符号付き整数の表現"
   ]
  },
  {
   "cell_type": "markdown",
   "id": "fd57b290-73d2-4e09-a2cc-3f56dd45014a",
   "metadata": {},
   "source": [
    "| 表現方法       | 日本語         | 中国語   | 核心原理                                                                 |\n",
    "|:---------------|:---------------|:---------|:-------------------------------------------------------------------------|\n",
    "| 絶対値表現     | 絶対値表現     | 原码     | 先頭1ビットを符号（0:正, 1:負）、残りを絶対値で表現                         |\n",
    "| 1の補数表現    | 1の補数表現    | 反码     | 正数のビットを全て反転（0↔1）して負数を表現                                |\n",
    "| 2の補数表現    | 2の補数表現    | 补码     | 正数のビットを全て反転し、さらに1を加算して負数を表現                       |"
   ]
  },
  {
   "cell_type": "markdown",
   "id": "1d36a988-8efd-43f6-91b0-27e2c0bacc16",
   "metadata": {},
   "source": [
    "> 例：$+1=00000001$、$-1$ の反码は `11111110`、さらに `+1` で补码 `11111111`"
   ]
  },
  {
   "cell_type": "markdown",
   "id": "3a2ca0c6-9bbd-429e-b5bc-c48a337110d8",
   "metadata": {},
   "source": [
    "---"
   ]
  },
  {
   "cell_type": "markdown",
   "id": "dbad420d-1a7d-4234-b4c5-48f45a02b9f6",
   "metadata": {},
   "source": [
    "## 四則とビット演算の概要"
   ]
  },
  {
   "cell_type": "markdown",
   "id": "755eee25-48bb-40b8-bf81-2a8c9d4c5f9d",
   "metadata": {},
   "source": [
    "### 加算・減算"
   ]
  },
  {
   "cell_type": "markdown",
   "id": "aa6d56be-aaf8-4493-b502-f5ef7cda49f1",
   "metadata": {},
   "source": [
    "* **加算**：最下位ビットから、桁上がりを処理\n",
    "* **減算**：最下位ビットから、桁借りを処理\n",
    "* 2の補数を使うと減算も加算に統一できる"
   ]
  },
  {
   "cell_type": "markdown",
   "id": "e12e54f5-f4f0-43fc-b6bc-32da00148f14",
   "metadata": {},
   "source": [
    "### 乗算・除算"
   ]
  },
  {
   "cell_type": "markdown",
   "id": "7769e797-28e5-49a6-8118-e8e4d4608ebc",
   "metadata": {},
   "source": [
    "* **乗算**：被乗数を**左シフト**して加算を重ねるのと等価\n",
    "* **除算**：被除数を**右シフト**して減算を重ねるのと等価"
   ]
  },
  {
   "cell_type": "markdown",
   "id": "34eef0b3-f907-4e9c-85f6-a79848e826c6",
   "metadata": {},
   "source": [
    "---"
   ]
  },
  {
   "cell_type": "markdown",
   "id": "2dde5e70-c8bf-41f2-87b0-a04c57728fa3",
   "metadata": {},
   "source": [
    "## シフト演算"
   ]
  },
  {
   "cell_type": "markdown",
   "id": "ede68eb7-745d-41f0-9d9b-dd0a4060e9b0",
   "metadata": {},
   "source": [
    "### 論理シフト（符号を考慮しない）"
   ]
  },
  {
   "cell_type": "markdown",
   "id": "976fac4e-6bc0-4854-a475-4ae5b52ee95b",
   "metadata": {},
   "source": [
    "| 操作   | ルール                 | 具体例（8ビット）                  |\n",
    "| ---- | ------------------- | -------------------------- |\n",
    "| 左シフト | はみ出たビットは捨て、右端に0を埋める | `00101100 << 2 → 10110000` |\n",
    "| 右シフト | はみ出たビットは捨て、左端に0を埋める | `00101100 >> 2 → 00001011` |"
   ]
  },
  {
   "cell_type": "markdown",
   "id": "589058d0-aa0d-439d-8e7d-849774b46332",
   "metadata": {},
   "source": [
    "### 算術シフト（符号ビットを保持）"
   ]
  },
  {
   "cell_type": "markdown",
   "id": "b7a8b3e8-e330-4bb9-87fa-5a886b2b132e",
   "metadata": {},
   "source": [
    "| 操作   | ルール              | 具体例（8ビット）                  |\n",
    "| ---- | ---------------- | -------------------------- |\n",
    "| 左シフト | 右端に0を埋める（論理左と同じ） | `10101100 << 2 → 10110000` |\n",
    "| 右シフト | 左端に**符号ビット**を埋める | `10101100 >> 2 → 11101011` |"
   ]
  },
  {
   "cell_type": "markdown",
   "id": "ca6f1775-4f7c-4b00-a058-0e73f7506cb0",
   "metadata": {},
   "source": [
    "---"
   ]
  },
  {
   "cell_type": "markdown",
   "id": "6537d663-feaa-4752-b45e-aefcc2454327",
   "metadata": {},
   "source": [
    "## 集合と論理演算"
   ]
  },
  {
   "cell_type": "markdown",
   "id": "a3aaa681-a466-47f2-9784-2c937c7c5e2a",
   "metadata": {},
   "source": [
    "### 集合とベン図"
   ]
  },
  {
   "cell_type": "markdown",
   "id": "fdf86a27-8988-4966-8605-298a7f75d9e6",
   "metadata": {},
   "source": [
    "* **集合**：条件でグループ化された要素の集まり\n",
    "* 表記例：$A=\\{1,2,3,4,5\\}$"
   ]
  },
  {
   "cell_type": "markdown",
   "id": "c6f08675-6075-4ce4-85af-3b6ce7f6ff4a",
   "metadata": {},
   "source": [
    "| 記号                     | 名称         | 意味         |\r\n",
    "| ---------------------- | ---------- | ---------- |\r\n",
    "| $\\cap$                 | かつ (AND)   | 積集合（共通部分）  |\r\n",
    "| $\\cup$                 | または (OR)   | 和集合        |\r\n",
    "| $\\overline{A}$ / $A^c$ | ではない (NOT) | 補集合        |\r\n",
    "| $\\in$                  | 属する        | 要素が集合に含まれる |"
   ]
  },
  {
   "cell_type": "markdown",
   "id": "117cd90a-0ee3-4c60-84a6-615e968153bb",
   "metadata": {},
   "source": [
    "### 論理演算（AND / OR / XOR / NOT）"
   ]
  },
  {
   "cell_type": "markdown",
   "id": "1596b54c-1bb6-4dc2-af0e-0323b826871a",
   "metadata": {},
   "source": [
    "**AND（論理積）**：両方が1のとき1"
   ]
  },
  {
   "cell_type": "markdown",
   "id": "307a5cd4-8ff5-41a0-8460-a324a5fb9fc6",
   "metadata": {},
   "source": [
    "|  A |  B | A AND B |\n",
    "| -: | -: | ------: |\n",
    "|  0 |  0 |       0 |\n",
    "|  0 |  1 |       0 |\n",
    "|  1 |  0 |       0 |\n",
    "|  1 |  1 |       1 |"
   ]
  },
  {
   "cell_type": "markdown",
   "id": "049ad58f-52ef-4ad1-a469-2373473e4bfc",
   "metadata": {},
   "source": [
    "**OR（論理和）**：少なくとも一方が1のとき1"
   ]
  },
  {
   "cell_type": "markdown",
   "id": "0eef50e6-ca6d-4d13-8bcd-1112574171e4",
   "metadata": {},
   "source": [
    "|  A |  B | A OR B |\n",
    "| -: | -: | -----: |\n",
    "|  0 |  0 |      0 |\n",
    "|  0 |  1 |      1 |\n",
    "|  1 |  0 |      1 |\n",
    "|  1 |  1 |      1 |"
   ]
  },
  {
   "cell_type": "markdown",
   "id": "eb5d2dd3-59ef-4fa9-9bbb-3d583ae7b5a2",
   "metadata": {},
   "source": [
    "**XOR（排他的論理和）**：異なるとき1"
   ]
  },
  {
   "cell_type": "markdown",
   "id": "58729269-2a3b-4c11-99a8-3d53a9687b31",
   "metadata": {},
   "source": [
    "|  A |  B | A XOR B |\n",
    "| -: | -: | ------: |\n",
    "|  0 |  0 |       0 |\n",
    "|  0 |  1 |       1 |\n",
    "|  1 |  0 |       1 |\n",
    "|  1 |  1 |       0 |"
   ]
  },
  {
   "cell_type": "markdown",
   "id": "451d14b1-02f4-48c2-a70d-99ce26b24048",
   "metadata": {},
   "source": [
    "**NOT（否定）**：反転"
   ]
  },
  {
   "cell_type": "markdown",
   "id": "01d946e3-6a88-4fb2-893d-c96b2d3a8d5f",
   "metadata": {},
   "source": [
    "|  A | NOT A |\n",
    "| -: | ----: |\n",
    "|  0 |     1 |\n",
    "|  1 |     0 |"
   ]
  },
  {
   "cell_type": "markdown",
   "id": "406a185d-c66f-4e88-825f-838afbef9e8b",
   "metadata": {},
   "source": [
    "**NAND（否定論理積）**：AND の反転"
   ]
  },
  {
   "cell_type": "markdown",
   "id": "62ebfdd3-c949-4d83-a051-2d2558c43302",
   "metadata": {},
   "source": [
    "|  A |  B | A AND B | A NAND B |\n",
    "| -: | -: | ------: | -------: |\n",
    "|  0 |  0 |       0 |        1 |\n",
    "|  0 |  1 |       0 |        1 |\n",
    "|  1 |  0 |       0 |        1 |\n",
    "|  1 |  1 |       1 |        0 |"
   ]
  },
  {
   "cell_type": "markdown",
   "id": "b6570f71-71aa-4c5a-80fd-e84a3de03aed",
   "metadata": {},
   "source": [
    "**NOR（否定論理和）**：OR の反転"
   ]
  },
  {
   "cell_type": "markdown",
   "id": "0034bcf7-6184-41fd-b13a-42f86243d737",
   "metadata": {},
   "source": [
    "|  A |  B | A OR B | A NOR B |\n",
    "| -: | -: | -----: | ------: |\n",
    "|  0 |  0 |      0 |       1 |\n",
    "|  0 |  1 |      1 |       0 |\n",
    "|  1 |  0 |      1 |       0 |\n",
    "|  1 |  1 |      1 |       0 |"
   ]
  },
  {
   "cell_type": "markdown",
   "id": "5026da3b-ce01-44f3-bc2c-43a7b7333428",
   "metadata": {},
   "source": [
    "**優先順位**"
   ]
  },
  {
   "cell_type": "markdown",
   "id": "d9929076-c593-453f-90e1-e28a4a6fa2ed",
   "metadata": {},
   "source": [
    "| 優先 | 演算子 | 名称  | 説明         |\n",
    "| -- | --- | --- | ---------- |\n",
    "| 最高 | ( ) | 括弧  | 括弧内を最優先で評価 |\n",
    "| 高  | NOT | 否定  | 単項演算子      |\n",
    "| 中  | AND | 論理積 | 両方が真のとき真   |\n",
    "| 低  | OR  | 論理和 | いずれかが真のとき真 |\n"
   ]
  },
  {
   "cell_type": "markdown",
   "id": "62a8c87b-1cb5-410d-82d3-f6a81e52661e",
   "metadata": {},
   "source": [
    "---"
   ]
  },
  {
   "cell_type": "markdown",
   "id": "e471fdda-b4f0-422b-9ba1-b59909625c4c",
   "metadata": {},
   "source": [
    "## 論理回路（加算回路）"
   ]
  },
  {
   "cell_type": "markdown",
   "id": "64824500-5d1d-4be2-b2c1-10ab38b2dca5",
   "metadata": {},
   "source": [
    "**半加算器（Half Adder）**：下位からの桁上がりを考慮しない"
   ]
  },
  {
   "cell_type": "markdown",
   "id": "19ead4b4-ec86-4fa5-876f-acedf303e23f",
   "metadata": {},
   "source": [
    "|  A |  B | SUM | CARRY |\n",
    "| -: | -: | --: | ----: |\n",
    "|  0 |  0 |   0 |     0 |\n",
    "|  0 |  1 |   1 |     0 |\n",
    "|  1 |  0 |   1 |     0 |\n",
    "|  1 |  1 |   0 |     1 |"
   ]
  },
  {
   "cell_type": "markdown",
   "id": "eb4ab817-7689-41d9-b029-ad6066111d5e",
   "metadata": {},
   "source": [
    "**全加算器（Full Adder）**：下位からの桁上がり $C_{\\text{in}}$ を考慮"
   ]
  },
  {
   "cell_type": "markdown",
   "id": "c5919590-3c12-4e24-a3c0-7abb4679129f",
   "metadata": {},
   "source": [
    "|  A |  B | $C_{\\text{in}}$ | SUM | $C_{\\text{out}}$ |\n",
    "| -: | -: | --------------: | --: | ---------------: |\n",
    "|  0 |  0 |               0 |   0 |                0 |\n",
    "|  0 |  0 |               1 |   1 |                0 |\n",
    "|  0 |  1 |               0 |   1 |                0 |\n",
    "|  0 |  1 |               1 |   0 |                1 |\n",
    "|  1 |  0 |               0 |   1 |                0 |\n",
    "|  1 |  0 |               1 |   0 |                1 |\n",
    "|  1 |  1 |               0 |   0 |                1 |\n",
    "|  1 |  1 |               1 |   1 |                1 |"
   ]
  },
  {
   "cell_type": "markdown",
   "id": "7ae329ca-435a-42be-ae0b-b885921201d1",
   "metadata": {},
   "source": [
    "---"
   ]
  },
  {
   "cell_type": "markdown",
   "id": "a216cf9e-c188-4499-ab22-5bcf45c8ba17",
   "metadata": {},
   "source": [
    "## 計算式の表記法"
   ]
  },
  {
   "cell_type": "markdown",
   "id": "d0d55317-ccf5-4bce-a0d1-cf407d6b39ee",
   "metadata": {},
   "source": [
    "| 表記法  | 日本語           | 英語                       | 特徴                           |\n",
    "| ---- | ------------- | ------------------------ | ---------------------------- |\n",
    "| 中置記法 | 中置記法（ちゅうちきほう） | Infix Notation           | 演算子がオペランドの**間**に位置（人間に読みやすい） |\n",
    "| 前置記法 | 前置記法（ぜんちきほう）  | Prefix / Polish Notation | 演算子が**前**に位置、**括弧が不要**になりやすい |\n",
    "| 後置記法 | 後置記法（こうちきほう）  | Postfix / Reverse Polish | 演算子が**後**に位置、**計算機実装が容易**    |\n"
   ]
  },
  {
   "cell_type": "markdown",
   "id": "4a2fa80d-5e90-44e8-a286-6dbd757eca83",
   "metadata": {},
   "source": [
    "---"
   ]
  },
  {
   "cell_type": "markdown",
   "id": "1ec309d7-5b74-44b0-b514-5487d1a844ba",
   "metadata": {},
   "source": [
    "## モデル化とオートマトン（概念）"
   ]
  },
  {
   "cell_type": "markdown",
   "id": "7ad56980-3c64-4b9b-a437-8e1fedd00d74",
   "metadata": {},
   "source": [
    "* **モデル化 (Modeling)**：現実の複雑さを**単純化**して理解しやすくする\n",
    "* **オートマトン (Automaton)**：\n",
    "  入力・状態・出力 の 3 要素で表現する計算モデル\n",
    "* **状態遷移表**：初期状態から最終（受理）状態までの遷移を表にまとめる\n",
    "* **受理状態 (Accepting State)**：処理が完了したことを示す状態"
   ]
  },
  {
   "cell_type": "markdown",
   "id": "246ea8ae-dc13-4651-a9d0-4a5cdd17e534",
   "metadata": {},
   "source": [
    "---"
   ]
  },
  {
   "cell_type": "markdown",
   "id": "ed6e6f57-756e-47ab-89e9-ee55656da1f5",
   "metadata": {},
   "source": [
    "## AI 関連の基礎"
   ]
  },
  {
   "cell_type": "markdown",
   "id": "553081ef-34cc-4793-8578-8bcb8f45e893",
   "metadata": {},
   "source": [
    "* **機械学習（Machine Learning）**：人間の学習能力をコンピュータで再現する技術（AI の一領域）"
   ]
  },
  {
   "cell_type": "markdown",
   "id": "e75a7363-bc51-46c5-a6f5-f97aa2e23810",
   "metadata": {},
   "source": [
    "### 代表タスク"
   ]
  },
  {
   "cell_type": "markdown",
   "id": "a13e4817-f975-42a7-b9c3-748d97cd3403",
   "metadata": {},
   "source": [
    "* **教師あり学習（Supervised）**：入力と正解のペアで学習\n",
    "  * 分類：スパム判定、画像認識、医療診断\n",
    "  * 回帰：株価・需要・不動産価格の予測\n",
    "* **教師なし学習（Unsupervised）**：入力のみで構造を学習\n",
    "  * クラスタリング：顧客セグメンテーション、異常検知\n",
    "  * 次元削減：可視化、特徴抽出"
   ]
  },
  {
   "cell_type": "markdown",
   "id": "be68cfb4-5fda-4eeb-b62a-f0ef2f9823e6",
   "metadata": {},
   "source": [
    "### 用語表"
   ]
  },
  {
   "cell_type": "markdown",
   "id": "760454ef-9076-4d6b-8966-953cab52fd77",
   "metadata": {},
   "source": [
    "| 用語          | 日本語      | 英語                      | 中国語  | 説明             |\n",
    "| ----------- | -------- | ----------------------- | ---- | -------------- |\n",
    "| AI          | 人工知能     | Artificial Intelligence | 人工智能 | 人間の知的ふるまいの再現   |\n",
    "| 機械学習        | 機械学習     | Machine Learning        | 机器学习 | 学習能力の再現（AIの一部） |\n",
    "| ニューラルネットワーク | 神経ネットワーク | Neural Network          | 神经网络 | 脳の神経回路を模倣      |\n",
    "| ディープラーニング   | 深層学習     | Deep Learning           | 深度学习 | 多層のニューラルネット構造  |"
   ]
  }
 ],
 "metadata": {
  "kernelspec": {
   "display_name": "Python 3 (ipykernel)",
   "language": "python",
   "name": "python3"
  },
  "language_info": {
   "codemirror_mode": {
    "name": "ipython",
    "version": 3
   },
   "file_extension": ".py",
   "mimetype": "text/x-python",
   "name": "python",
   "nbconvert_exporter": "python",
   "pygments_lexer": "ipython3",
   "version": "3.11.6"
  }
 },
 "nbformat": 4,
 "nbformat_minor": 5
}
