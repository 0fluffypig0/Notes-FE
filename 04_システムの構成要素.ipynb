{
 "cells": [
  {
   "cell_type": "markdown",
   "id": "0f3083e8-8153-4b14-a32a-562276da2f17",
   "metadata": {},
   "source": [
    "---"
   ]
  },
  {
   "cell_type": "markdown",
   "id": "7c4cff31-e588-4ebd-8baf-1c12fe17c331",
   "metadata": {},
   "source": [
    "# 第4章 システムの構成要素"
   ]
  },
  {
   "cell_type": "markdown",
   "id": "43f4fa75-8461-4db8-859b-ca96729cb3ea",
   "metadata": {},
   "source": [
    "---"
   ]
  },
  {
   "cell_type": "markdown",
   "id": "f60dc58f-9f34-4791-b7c2-02df00235b0b",
   "metadata": {},
   "source": [
    "## システム処理形態 (System Processing Types / 系统处理形态)"
   ]
  },
  {
   "cell_type": "markdown",
   "id": "54318a11-ac4d-4c48-b531-777ca260c2fc",
   "metadata": {},
   "source": [
    "### 集中処理 (Centralized Processing / 集中处理)"
   ]
  },
  {
   "cell_type": "markdown",
   "id": "43c88d76-fd9d-4caa-b3e0-6329de3aee4a",
   "metadata": {},
   "source": [
    "- **定義:** １台の大型コンピュータ（ホスト）に複数端末を接続し、すべての命令を集中処理する形態。\r\n",
    "- **特徴:**\r\n",
    "  - 管理容易（処理・データが一箇所に集中）\r\n",
    "  - **単一障害点（SPOF）** のリスク\r\n",
    "  - 拡張性に限界（スケールアップ中心）"
   ]
  },
  {
   "cell_type": "markdown",
   "id": "f094eb3c-b729-43b2-af23-92ca1ffe37f8",
   "metadata": {},
   "source": [
    "### 分散処理 (Distributed Processing / 分散处理)"
   ]
  },
  {
   "cell_type": "markdown",
   "id": "12db9169-3a2f-48e5-8849-214efb36d0b5",
   "metadata": {},
   "source": [
    "- **定義:** ネットワークで接続された複数コンピュータが処理を分担するシステム形態。\r\n",
    "- **種類:**\r\n",
    "  - クライアントサーバシステム (Client–Server)\r\n",
    "  - ３層クライアントサーバシステム (Three-Tier)\r\n",
    "  - Webシステム (Web System)\r\n",
    "- **メリット:**\r\n",
    "  - 負荷分散によるスループット向上\r\n",
    "  - 障害時の影響範囲が限定\r\n",
    "  - 段階的な拡張が容易（スケールアウト）"
   ]
  },
  {
   "cell_type": "markdown",
   "id": "288e5396-ae1e-43b4-86e6-85b84d3863b4",
   "metadata": {},
   "source": [
    "### クライアントサーバシステム (Client–Server System / 客户端—服务器系统)"
   ]
  },
  {
   "cell_type": "markdown",
   "id": "5067ae2a-8221-48f2-b3b9-e0a5525015ed",
   "metadata": {},
   "source": [
    "- **定義:** クライアント（利用側）がサーバ（提供側）へ処理要求を送り，サーバが処理して結果を返す分散処理方式。\r\n",
    "- **特徴:**\r\n",
    "  - クライアントに専用ソフトを導入する場合がある\r\n",
    "  - 主処理はサーバ側で実行 → クライアントの性能要件は比較的低い\r\n",
    "- **適用例:** 企業内業務システム、ファイルサーバ等"
   ]
  },
  {
   "cell_type": "markdown",
   "id": "0c1fa337-7291-4abf-9cd4-dd07e7480823",
   "metadata": {},
   "source": [
    "### ３層クライアントサーバシステム (Three-Tier Client–Server / 三层客户端—服务器)"
   ]
  },
  {
   "cell_type": "markdown",
   "id": "84c0a7ec-2bec-4729-b8a2-331e02a12fe0",
   "metadata": {},
   "source": [
    "| 層 | 役割 | 中文 | 技術例 |\r\n",
    "|:--|:--|:--|:--|\r\n",
    "| プレゼンテーション層 | ユーザインタフェース提供 | 用户界面层 | Webブラウザ，GUIアプリ |\r\n",
    "| アプリケーション層 | 業務ロジックを処理 | 应用逻辑层 | APサーバ，ビジネスロジック |\r\n",
    "| データ層 | データ永続化・管理 | 数据持久层 | DBサーバ，ファイルシステム |"
   ]
  },
  {
   "cell_type": "markdown",
   "id": "b8afaded-e017-4ab4-8207-c8c0471d21a7",
   "metadata": {},
   "source": [
    "- **各層の要点:**\n",
    "  - **プレゼンテーション層:** 入力受付・結果表示（通常クライアント側で動作）\n",
    "  - **アプリケーション層:** 業務処理・変換（サーバ側で動作，ロジック集中）\n",
    "  - **データ層:** 保存・検索・更新・削除（DBMS が中心）"
   ]
  },
  {
   "cell_type": "markdown",
   "id": "7da29ea2-814b-4433-bc38-afdde2ee5769",
   "metadata": {},
   "source": [
    "| 項目 | メリット | デメリット |\n",
    "|:--|:--|:--|\n",
    "| 保守性 | 層独立で変更影響が局所化 | 構成が複雑化 |\n",
    "| 拡張性 | 層ごとにスケールアウト可能 | ネットワーク負荷の増加 |\n",
    "| セキュリティ | 層間でアクセス制御を設計しやすい | 設定・運用が複雑 |"
   ]
  },
  {
   "cell_type": "markdown",
   "id": "e4377446-300e-477a-b53a-ff9510a93695",
   "metadata": {},
   "source": [
    "### Webシステム (Web System / Web系统)"
   ]
  },
  {
   "cell_type": "markdown",
   "id": "90a70014-d757-4dde-9d5e-73567b6506e6",
   "metadata": {},
   "source": [
    "- **定義:** インターネットとWebブラウザを用いる３層型の実装例。\n",
    "- **特徴:**\n",
    "  - クライアント側に専用ソフトのインストール不要（ブラウザで利用）\n",
    "  - HTTP/HTTPS を使用しクロスプラットフォーム\n",
    "- **構成要素:** Webブラウザ（クライアント）／Webサーバ・APサーバ／DBサーバ"
   ]
  },
  {
   "cell_type": "markdown",
   "id": "cef27b10-00e3-4e7f-a69b-f0ca6b0777df",
   "metadata": {},
   "source": [
    "---"
   ]
  },
  {
   "cell_type": "markdown",
   "id": "278b3203-1ce5-4e2c-9851-d5c4777e3c8a",
   "metadata": {},
   "source": [
    "## システム構成による分類 (System Configurations / 系统构成分类)"
   ]
  },
  {
   "cell_type": "markdown",
   "id": "a36325a1-f1cd-4c42-8961-5fb363aee26b",
   "metadata": {},
   "source": [
    "### シンプレックスシステム (Simplex System / 单机系统)"
   ]
  },
  {
   "cell_type": "markdown",
   "id": "a9091c25-2060-4684-a11b-94d000423ce0",
   "metadata": {},
   "source": [
    "- **定義:** 1台のコンピュータのみで構成されるシステム。\n",
    "- **特徴:**\n",
    "  - **単一障害点（SPOF）** により一部故障で全体停止の恐れ\n",
    "  - 低コストだが信頼性は低い"
   ]
  },
  {
   "cell_type": "markdown",
   "id": "6883c83f-a98f-4279-97e4-813f2c604972",
   "metadata": {},
   "source": [
    "### デュプレックスシステム (Duplex System / 双机热备系统)"
   ]
  },
  {
   "cell_type": "markdown",
   "id": "f1fd212d-6ea4-4fb9-a5f7-30b43ef5bc52",
   "metadata": {},
   "source": [
    "- **定義:** メイン機と待機機の2台で構成されるシステム。\n",
    "- **特徴:**\n",
    "  - 現用系の故障時に**待機系へ切替**（スタンバイ）\n",
    "  - **ホットスタンバイ／コールドスタンバイ**の方式がある"
   ]
  },
  {
   "cell_type": "markdown",
   "id": "998e2ffa-01e3-462a-95b8-435c4214b13b",
   "metadata": {},
   "source": [
    "### デュアルシステム (Dual System / 双机并行系统)"
   ]
  },
  {
   "cell_type": "markdown",
   "id": "816631b6-be3b-425f-a336-c8debb9e32b0",
   "metadata": {},
   "source": [
    "- **定義:** 2台が**同一処理を並行**して実行し，**結果を照合**する方式。\n",
    "- **特徴:**\n",
    "  - 処理能力はシンプレックスと同等（同じ処理を二重実行）\n",
    "  - 誤り検出能力・信頼性が高い"
   ]
  },
  {
   "cell_type": "markdown",
   "id": "61c22ebe-a082-4d8b-bd57-8802fd366ed1",
   "metadata": {},
   "source": [
    "### 待機系の状態 (Standby Modes / 备用形态)"
   ]
  },
  {
   "cell_type": "markdown",
   "id": "4d5d9035-668a-4ab9-8f03-01059fc25ee4",
   "metadata": {},
   "source": [
    "- **ホットスタンバイ (Hot Standby / 热备)**\n",
    "  - **定義:** 待機系も常時起動し，現用系と**同期**。\n",
    "  - **特徴:** 切替時間が短い（秒単位），運用コストは高い。\n",
    "- **コールドスタンバイ (Cold Standby / 冷备)**\n",
    "  - **定義:** 待機系は**停止状態**で待機。\n",
    "  - **特徴:** 切替に時間（分～時間）がかかる，運用コストは低い。"
   ]
  },
  {
   "cell_type": "markdown",
   "id": "3367a64a-6c97-4321-ac47-f79306ea7367",
   "metadata": {},
   "source": [
    "| 方式 | 切替え時間 | コスト | 適用場面 |\r\n",
    "|:--|:--|:--|:--|\r\n",
    "| ホットスタンバイ | 短い（秒） | 高い | 高可用性が必須な基幹系 |\r\n",
    "| コールドスタンバイ | 長い（分～時間） | 低い | 復旧時間に余裕がある系 |"
   ]
  },
  {
   "cell_type": "markdown",
   "id": "e1416570-4768-4559-ba10-b60585e37514",
   "metadata": {},
   "source": [
    "### フォールトトレラントと関連概念 (Fault Tolerance & Terms / 容错与相关概念)"
   ]
  },
  {
   "cell_type": "markdown",
   "id": "1f445565-fcb4-4a23-bbae-14c1c080580f",
   "metadata": {},
   "source": [
    "- **フォールトトレラント（Fault Tolerant / 容错）**\n",
    "  - **定義:** 一部故障しても必要機能を**継続**できる設計。\n",
    "  - **基本概念:** 「故障しないこと」よりも「故障しても動くこと」を重視。\n",
    "  - **用途:** 銀行，航空，原子力など。のドアインタロック。"
   ]
  },
  {
   "cell_type": "markdown",
   "id": "ff5d50c8-e7f6-48a9-95b4-a44007ffeee2",
   "metadata": {},
   "source": [
    "- **フェールソフト（Fail-Soft / 故障弱化）**\n",
    "  - **定義:** 一部障害で性能低下しても動作継続。\n",
    "  - **例:** 航空機でエンジン1基停止でも飛行継続。"
   ]
  },
  {
   "cell_type": "markdown",
   "id": "dedd7acb-2ae5-44f4-9200-80fff531067d",
   "metadata": {},
   "source": [
    "- **フェールセーフ（Fail-Safe / 故障安全）**\n",
    "  - **定義:** 障害発生時は**安全側**に動作。\n",
    "  - **例:** ロボットアームの緊急停止。"
   ]
  },
  {
   "cell_type": "markdown",
   "id": "995a3798-0d87-4056-ba1e-f1ad41ec7f02",
   "metadata": {},
   "source": [
    "- **フールプルーフ（Fool-Proof / 防呆）**\n",
    "  - **定義:** 誤操作を**未然**に防ぐ設計。\n",
    "  - **例:** 電子レンジのドアインタロック。"
   ]
  },
  {
   "cell_type": "markdown",
   "id": "33ba9aec-d449-4b8a-92e6-5394c9ea32e4",
   "metadata": {},
   "source": [
    "### RAID技術 (RAID Techniques / RAID 技术)"
   ]
  },
  {
   "cell_type": "markdown",
   "id": "44f36b8a-7ad7-43df-ba1e-1783ddec7407",
   "metadata": {},
   "source": [
    "#### RAID 0（ストライピング / 条带化）"
   ]
  },
  {
   "cell_type": "markdown",
   "id": "7e5de423-963f-4b0a-8ca9-42ccd3f77c9d",
   "metadata": {},
   "source": [
    "- **方式:** データを複数ディスクに**分散書込み**。\n",
    "- **特徴:** **高速**だが，**耐障害性なし**（1台故障で全損）。"
   ]
  },
  {
   "cell_type": "markdown",
   "id": "ae971918-516f-4bb1-b1d1-be041ea41e94",
   "metadata": {},
   "source": [
    "#### RAID 1（ミラーリング / 镜像）"
   ]
  },
  {
   "cell_type": "markdown",
   "id": "75f42c52-91c4-48a2-8ad1-a15826a5ab26",
   "metadata": {},
   "source": [
    "- **方式:** 複数ディスクに**同一データ**を書き込み。\n",
    "- **特徴:** 信頼性が高いが**記憶効率は 50%**（2台の場合）。"
   ]
  },
  {
   "cell_type": "markdown",
   "id": "ecfcdbfa-ebcb-4a97-af19-b730cc7dd529",
   "metadata": {},
   "source": [
    "#### RAID 5（分散パリティ / 分布式奇偶校验）"
   ]
  },
  {
   "cell_type": "markdown",
   "id": "83a610ab-b4dc-4c78-b280-f5e0eb1b4ea3",
   "metadata": {},
   "source": [
    "- **方式:** データと**パリティ**を分散記録。\n",
    "- **特徴:** 信頼性と容量効率の**バランス**が良い／**1台故障**まで耐える（要再構成）。"
   ]
  },
  {
   "cell_type": "markdown",
   "id": "ee23ea59-76a1-41d1-abb4-5120b80d44f0",
   "metadata": {},
   "source": [
    "| RAIDレベル | 最小ディスク数 | 耐障害性 | 記憶効率 | 速度傾向 |\r\n",
    "|:--|:--:|:--|:--|:--|\r\n",
    "| RAID 0 | 2 | なし | 100% | 高速 |\r\n",
    "| RAID 1 | 2 | 1台故障可 | 50% | 普通 |\r\n",
    "| RAID 5 | 3 | 1台故障可 | \\((n-1)/n\\) | 書込みやや遅い（パリティ計算） |"
   ]
  },
  {
   "cell_type": "markdown",
   "id": "be3f6434-d95a-48cb-8571-2b9df6444b13",
   "metadata": {},
   "source": [
    "---"
   ]
  },
  {
   "cell_type": "markdown",
   "id": "0038c77a-ba12-498e-99a4-543796007ed8",
   "metadata": {},
   "source": [
    "## システムの性能指標 (System Performance Metrics / 系统性能指标)"
   ]
  },
  {
   "cell_type": "markdown",
   "id": "261797c2-7cec-4477-9031-191bba397e2f",
   "metadata": {},
   "source": [
    "### 3つの主要性能指標"
   ]
  },
  {
   "cell_type": "markdown",
   "id": "669531f1-bb44-463a-a643-dba5609b8dfa",
   "metadata": {},
   "source": [
    "### スループット (Throughput / 吞吐量)"
   ]
  },
  {
   "cell_type": "markdown",
   "id": "a5cd7e2d-451e-46ce-a36a-54747063a16f",
   "metadata": {},
   "source": [
    "- **定義:** 単位時間当たりに処理される仕事の量。\n",
    "- **計算式:** $\\text{スループット}=\\dfrac{\\text{処理件数}}{\\text{処理時間}}$\r\n",
    "- **例:** プリンタの 1 分当たりの印刷ページ数。"
   ]
  },
  {
   "cell_type": "markdown",
   "id": "1c31a394-8888-46aa-8573-7100c1b6a6cd",
   "metadata": {},
   "source": [
    "### ターンアラウンドタイム (Turnaround Time / 周转时间)"
   ]
  },
  {
   "cell_type": "markdown",
   "id": "fbef093e-0e38-458c-8190-16484d963c1d",
   "metadata": {},
   "source": [
    "- **定義:** 入力から出力完了までの**全工程**の合計時間。\n",
    "- **構成:** 入力時間 + 処理時間 + 出力時間。"
   ]
  },
  {
   "cell_type": "markdown",
   "id": "05c12f00-5165-4054-b34d-60bd682e9cea",
   "metadata": {},
   "source": [
    "### レスポンスタイム (Response Time / 响应时间)"
   ]
  },
  {
   "cell_type": "markdown",
   "id": "0147d6f8-5efb-4b0d-9964-1a859e29c5b0",
   "metadata": {},
   "source": [
    "- **定義:** **処理**にかかった時間（入力・出力時間は含まない）。\n",
    "- **特徴:** ユーザ待ち時間に直結。"
   ]
  },
  {
   "cell_type": "markdown",
   "id": "72b5e891-0a6f-4d49-afa9-3357057ff596",
   "metadata": {},
   "source": [
    "### 性能指標の比較 (Comparison / 指标对比)"
   ]
  },
  {
   "cell_type": "markdown",
   "id": "4ec4a509-eee4-4990-be09-9adcfe396d0a",
   "metadata": {},
   "source": [
    "| 指標 | 測定内容 | 中文 | 重要性 |\n",
    "|:--|:--|:--|:--|\n",
    "| スループット | 単位時間当たりの処理能力 | 吞吐量 | システムの処理能力評価 |\n",
    "| ターンアラウンドタイム | 全工程の所要時間 | 周转时间 | バッチ処理の効率評価 |\n",
    "| レスポンスタイム | 純粋な処理時間 | 响应时间 | 対話型システムの応答性 |"
   ]
  },
  {
   "cell_type": "markdown",
   "id": "f8d21ff1-2ffe-4153-b508-cb1b80421333",
   "metadata": {},
   "source": [
    "### ベンチマークテスト (Benchmark Test / 基准测试)"
   ]
  },
  {
   "cell_type": "markdown",
   "id": "78faeb92-548c-43e9-8c83-c40fcaebfa1b",
   "metadata": {},
   "source": [
    "- **目的:** 異なるシステム間で性能を比較する。"
   ]
  },
  {
   "cell_type": "markdown",
   "id": "728900c8-65b7-4788-8a0c-a0ccea450419",
   "metadata": {},
   "source": [
    "### キャパシティプランニング (Capacity Planning / 容量规划)"
   ]
  },
  {
   "cell_type": "markdown",
   "id": "f3d5ade4-f14e-43cb-a10d-a051f2a30267",
   "metadata": {},
   "source": [
    "- **定義:** 稼働状況を**継続評価**し，必要処理能力を**計画**すること。\n",
    "- **目的:** 現在および将来の需要に見合う性能を維持。"
   ]
  },
  {
   "cell_type": "markdown",
   "id": "54b746df-4be0-43bd-82f2-96d2786ab0fc",
   "metadata": {},
   "source": [
    "### 性能向上手法 (Performance Improvement / 性能提升方法)"
   ]
  },
  {
   "cell_type": "markdown",
   "id": "b811391a-5a59-4d36-b38d-da9954da0ae1",
   "metadata": {},
   "source": [
    "#### スケールアウト (Scale-Out / 横向扩展)"
   ]
  },
  {
   "cell_type": "markdown",
   "id": "d4367b8e-dbff-4585-b8b8-e05fee5e0148",
   "metadata": {},
   "source": [
    "- **方法:** サーバ**台数を増やす**。\n",
    "- **特徴:** 水平拡張でコスト効率が良いが，**運用管理が複雑**になりやすい。"
   ]
  },
  {
   "cell_type": "markdown",
   "id": "45d0b451-bac8-4c20-b5bd-3f6b57d9ac03",
   "metadata": {},
   "source": [
    "#### スケールアップ (Scale-Up / 纵向扩展)"
   ]
  },
  {
   "cell_type": "markdown",
   "id": "5f55a15b-f28f-4876-9c72-8b00b0363684",
   "metadata": {},
   "source": [
    "- **方法:** 1 台あたりの**処理能力を強化**（高性能 CPU・メモリ増設等）。\n",
    "- **特徴:** 管理は簡単になりやすいが，**コストが高**く上限もある。"
   ]
  },
  {
   "cell_type": "markdown",
   "id": "898189b2-559f-4b1e-9380-9391cb87b66f",
   "metadata": {},
   "source": [
    "| 方式 | 拡張方法 | メリット | デメリット |\n",
    "|:--|:--|:--|:--|\n",
    "| スケールアウト | サーバ台数の増加 | コスト効率が良い | 管理が複雑 |\n",
    "| スケールアップ | 単一サーバの高性能化 | 管理が簡単 | コストが高い／上限あり |"
   ]
  },
  {
   "cell_type": "markdown",
   "id": "451b4371-47d9-4867-8690-24883164cf6e",
   "metadata": {},
   "source": [
    "---"
   ]
  },
  {
   "cell_type": "markdown",
   "id": "6e647df7-b9e4-4dac-8158-2acf26930499",
   "metadata": {},
   "source": [
    "## システムの信頼性評価指標 (System Reliability Evaluation Metrics / 系统可靠性评价指标)"
   ]
  },
  {
   "cell_type": "markdown",
   "id": "78e5ffa4-ba0a-4c82-9e0a-7f2d8526b18a",
   "metadata": {},
   "source": [
    "---"
   ]
  },
  {
   "cell_type": "markdown",
   "id": "f480ff6d-b73d-448a-8cdb-7bda724c9cfe",
   "metadata": {},
   "source": [
    "### RASIS 評価指標体系 (RASIS Framework / RASIS 指标体系)"
   ]
  },
  {
   "cell_type": "markdown",
   "id": "ee659f9f-cd0b-478e-af77-841dece0a71e",
   "metadata": {},
   "source": [
    "#### RASIS 概念定義 (Definition / 概念定义)"
   ]
  },
  {
   "cell_type": "markdown",
   "id": "e7cdb455-e2a2-4584-ba4e-c2d27f5dcfcb",
   "metadata": {},
   "source": [
    "- **定義:** システム評価の **5 指標** の頭文字を組み合わせた造語。\n",
    "- **目的:** システム品質を**多角的**に評価する枠組み。"
   ]
  },
  {
   "cell_type": "markdown",
   "id": "bee8a73b-1368-400f-b8ff-f56713794280",
   "metadata": {},
   "source": [
    "#### 5つの評価指標 (Five Metrics / 五项指标)"
   ]
  },
  {
   "cell_type": "markdown",
   "id": "2ef5664e-e5aa-4c0f-b5ea-dbf5befea546",
   "metadata": {},
   "source": [
    "| 指標 | 英語 | 日本語 | 中文说明 | 主要な測定指標 |\n",
    "|:--|:--|:--|:--|:--|\n",
    "| R | Reliability | 信頼性 | 可靠性 | MTBF（平均故障間隔） |\n",
    "| A | Availability | 可用性 | 可用性 | 稼働率 |\n",
    "| S | Serviceability | 保守性 | 可维护性 | MTTR（平均修復時間） |\n",
    "| I | Integrity | 完全性 | 完整性 | データ正確性など |\n",
    "| S | Security | 安全性 | 安全性 | 侵害件数・脅威検知率 等 |"
   ]
  },
  {
   "cell_type": "markdown",
   "id": "1a409eee-c6eb-4d2a-bf0f-f2ea9df1ed83",
   "metadata": {},
   "source": [
    "### 信頼性指標 (Reliability Metrics / 可靠性指标)"
   ]
  },
  {
   "cell_type": "markdown",
   "id": "5f3bcdc4-19ad-49c6-a2b9-37464b654f6e",
   "metadata": {},
   "source": [
    "#### MTBF (Mean Time Between Failures / 平均故障间隔)"
   ]
  },
  {
   "cell_type": "markdown",
   "id": "bc368870-2e1c-46fe-9bc9-8089eabd5bcc",
   "metadata": {},
   "source": [
    "- **定義:** 故障と故障の間の**正常稼働時間の平均**。\n",
    "- **計算式:** $\\mathrm{MTBF}=\\dfrac{\\text{稼働時間の合計}}{\\text{故障回数}}$\n",
    "- **特徴:**\n",
    "  - MTBF が**大きい**ほど信頼性が高い。\n",
    "  - 予防保守で向上可能。"
   ]
  },
  {
   "cell_type": "markdown",
   "id": "c4db4730-8e6b-454e-8918-398c669400e3",
   "metadata": {},
   "source": [
    "- **信頼性向上対策:**\n",
    "  - **予防保守:** 老朽 HW の計画交換\n",
    "  - **定期点検:** 稼働状況のヘルスチェック\n",
    "  - **信頼性設計:** FT / 多重化 等"
   ]
  },
  {
   "cell_type": "markdown",
   "id": "e0a7e47b-0fe0-4cdf-a613-f3212a54f40b",
   "metadata": {},
   "source": [
    "### 保守性指標 (Serviceability Metrics / 可维护性指标)"
   ]
  },
  {
   "cell_type": "markdown",
   "id": "9db831cb-8328-427c-b874-1e115feafc03",
   "metadata": {},
   "source": [
    "- **定義:** 故障から復旧までに要した**修理時間の平均**。\n",
    "- **計算式:** $ \\mathrm{MTTR}=\\dfrac{\\text{故障時間の合計}}{\\text{故障回数}} $\n",
    "- **特徴:**\n",
    "  - MTTR が**小さい**ほど保守性が高い（復旧が速い）。"
   ]
  },
  {
   "cell_type": "markdown",
   "id": "e1a856fd-5a62-4f33-896d-4b55a31ea31c",
   "metadata": {},
   "source": [
    "### 可用性指標 (Availability Metrics / 可用性指标)"
   ]
  },
  {
   "cell_type": "markdown",
   "id": "dc80d26a-2d08-4e63-a06c-179fc272fb35",
   "metadata": {},
   "source": [
    "#### 稼働率 (Availability Rate / 运行可用率)"
   ]
  },
  {
   "cell_type": "markdown",
   "id": "d8bdbbfd-bab1-4ffd-9174-98eda3b30245",
   "metadata": {},
   "source": [
    "- **定義:** システムが**利用可能な状態**であった時間の割合。\n",
    "- **計算式:** $ \\text{稼働率}=\\dfrac{\\mathrm{MTBF}}{\\mathrm{MTBF}+\\mathrm{MTTR}} $\n",
    "- **特徴:**\n",
    "  - 稼働率が**高い**ほど可用性が高い（理論上 1 に近いのが理想）。"
   ]
  },
  {
   "cell_type": "markdown",
   "id": "a68521aa-aa88-4c6a-bbeb-67c9ee6f9438",
   "metadata": {},
   "source": [
    "### 直列システム (Series System / 串联系统)"
   ]
  },
  {
   "cell_type": "markdown",
   "id": "5414a4ec-2ff2-462a-a088-63982edcd300",
   "metadata": {},
   "source": [
    "- **構成:** 複数装置が**直列**接続。\n",
    "- **稼働率:** $ R_{\\text{series}}=\\prod_{i} R_i $\n",
    "- **特徴:** **一部の故障で全体停止**しやすい。"
   ]
  },
  {
   "cell_type": "markdown",
   "id": "26bacc13-5013-4446-aed5-29b770e4bf3b",
   "metadata": {},
   "source": [
    "### 並列システム (Parallel System / 并联系统)"
   ]
  },
  {
   "cell_type": "markdown",
   "id": "3c356177-582a-4930-9228-5686a4c84a48",
   "metadata": {},
   "source": [
    "- **構成:** 複数装置が**並列**接続。\n",
    "- **稼働率:** $ R_{\\text{parallel}}=1-\\prod_{i}(1-R_i) $\n",
    "- **特徴:** **一部故障でも継続稼働**しやすい。"
   ]
  },
  {
   "cell_type": "markdown",
   "id": "a25bff19-92a0-42dd-ac5f-5bed1485b0b3",
   "metadata": {},
   "source": [
    "### 多重化システム (Composite / 复合系统)"
   ]
  },
  {
   "cell_type": "markdown",
   "id": "8d57de30-5160-4559-9bd4-dc148b541cfc",
   "metadata": {},
   "source": [
    "- **構成:** 直列と並列の**組合せ**。\n",
    "- **計算:** サブシステムごとに $ R $ を求め，階層的に合成。"
   ]
  }
 ],
 "metadata": {
  "kernelspec": {
   "display_name": "Python 3 (ipykernel)",
   "language": "python",
   "name": "python3"
  },
  "language_info": {
   "codemirror_mode": {
    "name": "ipython",
    "version": 3
   },
   "file_extension": ".py",
   "mimetype": "text/x-python",
   "name": "python",
   "nbconvert_exporter": "python",
   "pygments_lexer": "ipython3",
   "version": "3.11.6"
  }
 },
 "nbformat": 4,
 "nbformat_minor": 5
}
