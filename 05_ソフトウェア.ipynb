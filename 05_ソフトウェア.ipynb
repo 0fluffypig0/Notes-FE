{
  "metadata": {
    "kernelspec": {
      "name": "xpython",
      "display_name": "Python 3.13 (XPython)",
      "language": "python"
    },
    "language_info": {
      "file_extension": ".py",
      "mimetype": "text/x-python",
      "name": "python",
      "version": "3.13.1"
    }
  },
  "nbformat_minor": 5,
  "nbformat": 4,
  "cells": [
    {
      "id": "c5f24520-0004-4aa7-bf76-a2a9a21db84e",
      "cell_type": "markdown",
      "source": "---",
      "metadata": {}
    },
    {
      "id": "4ea7f610-8ec0-4bb2-8c6a-8f7014f0fbaf",
      "cell_type": "markdown",
      "source": "# 第5章 ソフトウェア",
      "metadata": {}
    },
    {
      "id": "2de5c47f-3243-4269-95d4-4e822291e620",
      "cell_type": "markdown",
      "source": "---",
      "metadata": {}
    },
    {
      "id": "0ecb407e-c92c-41aa-9b3b-c225dc9a7838",
      "cell_type": "markdown",
      "source": "## OS",
      "metadata": {}
    },
    {
      "id": "12ef444b-525e-42f7-a146-8d09dc777b00",
      "cell_type": "markdown",
      "source": "- **正式名称**: Operating System (オペレーティングシステム)\n- **役割**: アプリケーションソフトウェアとハードウェアの間で処理を仲介するソフトウェア\n- アプリとハードウェアをつなぐ「**架け橋**」\n- **具体例**:\n  - Windows: 世界で最も普及しているPC向けOS\n  - macOS: AppleのPC向けOS\n  - iOS: iPhoneなどのAppleモバイル端末向けOS\n  - Android: 多くのスマートフォンで使われるOS",
      "metadata": {}
    },
    {
      "id": "70ffda82-d5d0-4657-9340-ce245b61d02f",
      "cell_type": "markdown",
      "source": "## OSの4大機能",
      "metadata": {}
    },
    {
      "id": "532400ff-bd0a-425d-82aa-d2a4da81900c",
      "cell_type": "markdown",
      "source": "1. **ジョブ管理** (Job Management)\n2. **タスク管理** (Task Management)\n3. **記憶管理** (Memory Management)\n4. **データ管理** (Data Management)",
      "metadata": {}
    },
    {
      "id": "446e7d55-7821-4ea6-9f48-60eeb5ccfb8a",
      "cell_type": "markdown",
      "source": "## ジョブ管理 (Job Management)",
      "metadata": {}
    },
    {
      "id": "937eb800-a4d2-4973-8f5f-fb6f328dcdd6",
      "cell_type": "markdown",
      "source": "### ジョブ",
      "metadata": {}
    },
    {
      "id": "4aa88f5e-5ec2-4ab4-956a-814f86ba9403",
      "cell_type": "markdown",
      "source": "- **定義**: ユーザーがコンピュータに依頼する**仕事の単位**\n- **例**: 「書類の印刷」、「ファイルの複製」など\n- **処理の流れ**: \n  1. ユーザーがジョブを出す\n  2. OSが受け取る\n  3. OSがジョブをより細かい単位（タスク）に分解\n  4. CPUに渡して処理実行",
      "metadata": {}
    },
    {
      "id": "718ed9cc-6795-47c3-a256-2a3d9a9fb4f2",
      "cell_type": "markdown",
      "source": "### スプーリング (Spooling)",
      "metadata": {}
    },
    {
      "id": "5a0c7013-cbd1-4283-aeb3-4686472a6420",
      "cell_type": "markdown",
      "source": "- **目的**: CPUと低速な入出力装置（例: プリンタ）の**速度差を埋め**、CPUの待ち時間をなくす\n- 目的：弥补高速 CPU 与低速外设（如打印机）之间的速度差，避免 CPU 空等。\n- **仕組み**: CPUと入出力装置の間のデータ転送を、**高速な補助記憶装置（ハードディスクなど）** が仲介する\n  1. CPUは補助記憶装置にデータを書き込む（高速なのですぐ終わる）\n  2. 補助記憶装置がプリンタの速度に合わせて、ゆっくりとデータを渡す\n  3. CPUは他のジョブを実行できる\n- 关键词：SPOOL = Simultaneous Peripheral Operations On-Line（联机并行外设操作）。",
      "metadata": {}
    },
    {
      "id": "50d27b5d-d39f-4a35-8305-f865f4c6a427",
      "cell_type": "markdown",
      "source": "### バッファ (Buffer)",
      "metadata": {}
    },
    {
      "id": "1d6e8f3c-755f-463c-b5ab-d6138daf7644",
      "cell_type": "markdown",
      "source": "- **定義**: 処理速度や転送速度の異なる2つの装置の差を補うため、データを**一時的に保存する記憶領域**\n- 定义：为吸收两个部件处理/传输速度差而设置的临时存储区域（多在内存，也可在寄存器/磁盘）。\n- **別名**: 緩衝記憶装置\n- **具体例**:\n  - CPUと主記憶装置の差を補う → **キャッシュメモリ**\n  - 主記憶装置とHDDの差を補う → **ディスクキャッシュ**\n  - スプーリングで使用する補助記憶領域もバッファの一種",
      "metadata": {}
    },
    {
      "id": "1c8ea10d-3468-4154-91cf-f9fec30c6dde",
      "cell_type": "markdown",
      "source": "## タスク管理 (Task Management)",
      "metadata": {}
    },
    {
      "id": "08b04f8b-6a0f-47b1-9b1c-61f13dfa8d82",
      "cell_type": "markdown",
      "source": "### タスク",
      "metadata": {}
    },
    {
      "id": "11968949-3801-41c7-a041-b5e7245a8cb2",
      "cell_type": "markdown",
      "source": "- **定義**: OSがCPUに出す**命令の単位**。**プロセス (Process)** とも呼ばれる\n- 定义：OS 交给 CPU 执行的命令/处理单位。教材里常把 タスク≈プロセス（进程, Process） 看待；线程（Thread）是更细粒度的执行单位（部分题目会特别指明“线程调度”）。\n- **ジョブとの関係**:\n  - ユーザーがコンピュータに出す命令 → **ジョブ (Job)**\n  - OSがCPU（ハードウェア）に出す命令 → **タスク (Task)**",
      "metadata": {}
    },
    {
      "id": "cbca1827-69b7-4676-9be8-a7bcfbb4a04f",
      "cell_type": "markdown",
      "source": "### マルチタスク (Multi-Tasking)",
      "metadata": {}
    },
    {
      "id": "96696b3b-0ef5-4497-b344-17d7500d2575",
      "cell_type": "markdown",
      "source": "- **定義**: タスク管理によって**複数のタスクを頻繁に切り替える**ことにより、あたかも**同時に**実行されているように見せる技術\n- 定义：通过频繁切换多个任务，让它们好像同时进行的技术。\n- **核心**: 1つのCPUコアは一度に1つのことしかできないが、極めて短い時間でタスクを切り替える（**時分割処理**）ことで、並列処理を実現している",
      "metadata": {}
    },
    {
      "id": "57a4e584-77c5-4fea-a269-cf71c38450c5",
      "cell_type": "markdown",
      "source": "### タスクのスケジューリング方式 (Scheduling Methods)",
      "metadata": {}
    },
    {
      "id": "cdb0ce06-f70f-4d51-978d-f2534b5592a9",
      "cell_type": "markdown",
      "source": "#### プリエンプティブ方式 (Preemptive / 抢占式)",
      "metadata": {}
    },
    {
      "id": "cefdac24-e75f-401f-8538-9ed6a54cce94",
      "cell_type": "markdown",
      "source": "- **管理主体**: **OS**がCPUの使用権を管理する\n- **動作**: 優先度の高いタスクが発生すると、OSが現在実行中のタスクから**強制的に**CPU使用権を**横取り（プリエンプト）** し、高いタスクに割り当てる\n- **特徴**: 現在の主流方式。リアルタイム性が高く、応答性に優れる",
      "metadata": {}
    },
    {
      "id": "04ee3b23-855f-43c7-b29e-f78a15b57240",
      "cell_type": "markdown",
      "source": "#### ノンプリエンプティブ方式 (Non-Preemptive / 非抢占式)",
      "metadata": {}
    },
    {
      "id": "96076dac-8d7b-4579-87e3-c12b9ef7aff0",
      "cell_type": "markdown",
      "source": "- **管理主体**: **タスク自身**がCPUの使用権を管理する\n- **動作**: タスクの処理が**完了するまで**CPU使用権を保持する。処理が終わると、タスク自身がOSに使用権を返す\n- **特徴**: 制御がシンプルだが、緊急のタスクが待たされる可能性がある",
      "metadata": {}
    },
    {
      "id": "83c8d12a-bb56-4b61-8b32-003253a27ecd",
      "cell_type": "markdown",
      "source": "| 方式 | 管理主体 | 動作 | 特徴 |\n|------|----------|------|------|\n| **プリエンプティブ** | **OS** | **強制的に横取り** | 現在の主流、応答性が良い |\n| **ノンプリエンプティブ** | **タスク自身** | **処理完了まで保持** | 制御がシンプル |",
      "metadata": {}
    },
    {
      "id": "7a3c48b9-9c13-4471-8dc7-aa19142f92d1",
      "cell_type": "markdown",
      "source": "### タスクの状態遷移 (Task State Transitions)",
      "metadata": {}
    },
    {
      "id": "5403edc7-b5fa-4ac8-aafb-f98aff3cdbae",
      "cell_type": "markdown",
      "source": "1. **実行可能状態 (Ready State)**:\n   - いつでも実行できる状態。CPUの使用権が割り当てられるのを待っている\n2. **実行状態 (Running State)**:\n   - CPUの使用権が割り当てられ、実際に処理を実行している状態\n   - 実行可能状態から実行状態に移行することを、**ディスパッチ (Dispatch)** という\n3. **待ち状態 (Wait State / Blocked State)**:\n   - 入出力処理の完了など、特定のイベントの発生を待っている状態\n   - この間、CPUは他のタスクの実行に使われる",
      "metadata": {}
    },
    {
      "id": "1de42570-0b83-408a-9078-d7f43c83f642",
      "cell_type": "markdown",
      "source": "#### 主要スケジューリング方式の比較",
      "metadata": {}
    },
    {
      "id": "2fe14adc-d1d7-485d-888c-63fafdd37199",
      "cell_type": "markdown",
      "source": "| 方式名 (日本語) | 英語名 | 中国語名 | 説明 | 方式 | 特徴・利点・欠点 |\n|-----------------|--------|----------|------|------|------------------|\n| **到着順方式** | **FCFS**<br>(First-Come, First-Served) | **先来先服务** | 到着した順番（到着順）で実行する | ノンプリエンプティブ | **【特徴】** 非常にシンプル。<br>**【欠点】** 後から来た短い処理が長い処理の終了を待つことになり、**平均待ち時間が長くなる** |\n| **処理時間順方式** | **SJF**<br>(Shortest Job First) | **最短作业优先** | 処理時間の短いタスクを優先的に実行する | ノンプリエンプティブ | **【利点】** 平均待ち時間が最短になる。<br>**【欠点】** 処理時間の長いタスクが永遠に実行されない **「飢餓」** が発生する可能性がある |\n| **優先度順方式<br>(プリエンプティブ)** | **Priority Scheduling**<br>(Preemptive) | **优先级调度(抢占式)** | 優先度の高いタスクを実行する。実行中に更高優先度のタスクが来たら**強制切り替え** | プリエンプティブ | **【利点】** 緊急のタスクを即座に処理できる。<br>**【欠点】** 優先度の低いタスクが**「飢餓」** する可能性がある |\n| **優先度順方式<br>(ノンプリエンプティブ)** | **Priority Scheduling**<br>(Non-Preemptive) | **优先级调度(非抢占式)** | 優先度の高いタスクを実行する。**現在のタスクが終了するまで**切り替えない | ノンプリエンプティブ | **【利点】** 切り替えのオーバーヘッドが小さい。<br>**【欠点】** 緊急タスクの応答性が悪い |\n| **ラウンドロビン方式** | **RR**<br>(Round Robin) | **时间片轮转** | 各タスクに**一定時間（タイムスライス/時間量子）** CPUを割り当て、順番に実行する | プリエンプティブ | **【特徴】** ほぼ均等にCPU時間を割り当てるため、**応答性が良い**。<br>タイムスライスの大きさが性能を左右する |",
      "metadata": {}
    },
    {
      "id": "c3aa5074-68ac-4024-a4b8-37b6a18463c2",
      "cell_type": "markdown",
      "source": "## 記憶管理 (Memory Management)",
      "metadata": {}
    },
    {
      "id": "dca8d0ab-8546-4076-9451-85a5ea595861",
      "cell_type": "markdown",
      "source": "### 記憶管理の分類 (Categories of Memory Management)",
      "metadata": {}
    },
    {
      "id": "cc8ba7d0-04c7-4331-ab55-c5d9b0f4f1d1",
      "cell_type": "markdown",
      "source": "- **主記憶管理**: **主記憶装置（物理メモリ）** 自体を管理する機能。\n- **仮想記憶管理**: 主記憶と補助記憶を組み合わせた**仮想的なメモリ空間**を管理する機能。**試験ではこちらが頻出**。",
      "metadata": {}
    },
    {
      "id": "1c12d1d2-9a6f-4bd2-91b0-e2dbd7d1b124",
      "cell_type": "markdown",
      "source": "### 仮想記憶管理 (Virtual Memory Management)",
      "metadata": {}
    },
    {
      "id": "f1332ff5-8a9f-4fa6-8d14-c9e70c6cbf8b",
      "cell_type": "markdown",
      "source": "### 仮想記憶",
      "metadata": {}
    },
    {
      "id": "21f179ad-06e8-40ca-97b7-5d6213d2d92a",
      "cell_type": "markdown",
      "source": "- **定義**: **補助記憶装置（HDD/SSD）の一部**を、あたかも主記憶装置であるかのように扱う方式。\n- **目的**: 主記憶の容量よりも大きなプログラムを実行可能にする。\n- **用語**:\n  - **仮想記憶 (Virtual Memory)**: OSが作成する「論理的な記憶領域」。プログラムから見える大きなメモリ空間。\n  - **実記憶 (Real Memory)**: 主記憶装置上の「物理的な記憶領域」。実際の物理メモリ。",
      "metadata": {}
    },
    {
      "id": "dfa2eaf7-f3ce-42ec-9588-e445d8983bda",
      "cell_type": "markdown",
      "source": "### 仮想記憶の実現方式",
      "metadata": {}
    },
    {
      "id": "7464a425-fc8d-4d6c-8c32-0915856bdefd",
      "cell_type": "markdown",
      "source": "#### セグメンテーション方式 (Segmentation)",
      "metadata": {}
    },
    {
      "id": "8067c66b-8843-4ca2-adac-4cae15a85d8a",
      "cell_type": "markdown",
      "source": "- **仕組み**: 仮想記憶と実記憶を、意味的な単位（例: 関数、モジュール）ごとの**可変長**の領域（**セグメント**）に分割して管理する。\n- **試験での位置付け**: 出題頻度は**非常に低い**。参考知識として押さえる。",
      "metadata": {}
    },
    {
      "id": "d68606a6-58c9-4043-a9cd-a06e63ef9cab",
      "cell_type": "markdown",
      "source": "#### ページング方式 (Paging / 分页) ",
      "metadata": {}
    },
    {
      "id": "d23a60bf-1c21-4863-b95b-cdf680eeb987",
      "cell_type": "markdown",
      "source": "- **仕組み**: 仮想記憶と実記憶を、**固定長**の領域（**ページ**）に分割して管理する。\n- **アドレスの種類**:\n  - **仮想アドレス (Virtual Address)**: 仮想記憶内のページのアドレス。\n  - **物理アドレス (Physical Address)**: 実記憶内のページのアドレス。\n- **ページテーブル (Page Table)**:\n  - 仮想アドレスと物理アドレスの対応関係（変換表）を保持するデータ構造。\n  - CPUが仮想アドレスでアクセス要求を出すと、OS/MMU（メモリ管理機構）がこの表を参照して、実際の物理アドレスに変換する。",
      "metadata": {}
    },
    {
      "id": "a66d27fe-686c-4782-bf58-3ebcb3fb18a0",
      "cell_type": "markdown",
      "source": "#### CPUのページアクセス流れ (ページング方式)",
      "metadata": {}
    },
    {
      "id": "54ad9047-eead-4739-86d7-0889019862e4",
      "cell_type": "markdown",
      "source": "1. CPUが仮想アドレスを指定してアクセス要求。\n2. ページテーブルを参照し、該当する物理アドレスを取得。\n3. 取得した物理アドレスの場所（実記憶上のページ）にアクセスする。\n4. **もし該当ページが実記憶にない場合... → ページフォールトが発生**",
      "metadata": {}
    },
    {
      "id": "9e6ae4ef-8fba-4228-ad50-8170c2b196fb",
      "cell_type": "markdown",
      "source": "### ページフォールトとページ入出力 (Page Fault & Page I/O)",
      "metadata": {}
    },
    {
      "id": "aae01588-620e-40ad-adb1-2a4e0d93afe2",
      "cell_type": "markdown",
      "source": "- **ページフォールト (Page Fault / 缺页中断)**:\n  - アクセス要求されたページが**実記憶上に存在しない**ときに発生する**割込み**。\n  - OSはこの割込みを受け、必要なページを補助記憶から実記憶に移動させる。\n- **ページイン (Page In)**:\n  - 補助記憶装置から必要なページを**実記憶に読み込む**操作。\n- **ページアウト (Page Out)**:\n  - 実記憶上のページを**補助記憶装置に書き出す**操作。\n  - ページインのための空き領域を確保するために行う。",
      "metadata": {}
    },
    {
      "id": "5673bdf0-3ac5-4815-a50f-8bffc2d67ea8",
      "cell_type": "markdown",
      "source": "### ページ置換えアルゴリズム (Page Replacement Algorithms)",
      "metadata": {}
    },
    {
      "id": "2bbb1861-a853-4101-944e-cc8d011a0669",
      "cell_type": "markdown",
      "source": "実記憶に空きがなくページインが必要な場合、どのページをページアウトするかを決定する算法。",
      "metadata": {}
    },
    {
      "id": "c16fa01a-2ba9-49a9-ae69-d5b390ab25b8",
      "cell_type": "markdown",
      "source": "| アルゴリズム (略語) | 日本語名 | 中国語名 | 置换规则 | 特徴 |\n|---------------------|----------|----------|----------|------|\n| **FIFO**<br>(First-In, First-Out) | **先入れ先出し** | **先进先出** | 実記憶に**読み込まれた時刻が最も古い**ページを置换する | 実装が簡単だが、性能はあまり良くない |\n| **LRU**<br>(Least Recently Used) | **最後に参照された時刻が最も古い** | **最近最少使用** | **最後に参照されてから最も時間が経過している**ページを置换する | 直近のアクセスパターンを反映し、**実際に高い性能**を示す。**もっともポピュラー** |\n| **LFU**<br>(Least Frequently Used) | **参照頻度が最も少ない** | **最不经常使用** | **これまでに参照された回数が最も少ない**ページを置换する | 過去の全アクセス履歴に基づく。初期に多く使われその後使われないページが残りやすい |",
      "metadata": {}
    },
    {
      "id": "5448f3d4-319f-4d3f-bd4a-43aec5a756ca",
      "cell_type": "markdown",
      "source": "### スラッシング (Thrashing / 系统颠簸)",
      "metadata": {}
    },
    {
      "id": "259a732d-3fc8-43ea-b08a-c2cd07840ef9",
      "cell_type": "markdown",
      "source": "- **定義**: 実記憶の容量不足などが原因で、ページインとページアウトが**異常に頻繁**に発生し、システムの処理効率が**極端に低下**する現象。\n- **原因**: 実行中のプログラムに割り当てられた物理メモリ（実記憶）の容量が少なすぎる。\n- **対策**: 実記憶の容量を増設する。または、実行するプログラムの数を減らす。",
      "metadata": {}
    },
    {
      "id": "e6da9261-2227-40c2-ac2a-56cfd5809253",
      "cell_type": "markdown",
      "source": "## データ管理 (Data Management)",
      "metadata": {}
    },
    {
      "id": "3b74be36-d35d-4234-ace2-cbcb1f6d88b1",
      "cell_type": "markdown",
      "source": "- **定義**: コンピュータが処理するデータを管理するOSの機能。\n- **具体機能**: **ファイルシステム**によるデータの永続化や、**バックアップ**によるデータ保護などが該当する。",
      "metadata": {}
    },
    {
      "id": "59db1885-59b0-4a2e-82bf-4c4beedec0dc",
      "cell_type": "markdown",
      "source": "## ファイルシステム (File System)",
      "metadata": {}
    },
    {
      "id": "29bf170c-5e79-4696-93e0-9d167168641f",
      "cell_type": "markdown",
      "source": "### ファイルシステムの役割",
      "metadata": {}
    },
    {
      "id": "59fd1c3e-e94e-43d4-9f43-3f60585b4f90",
      "cell_type": "markdown",
      "source": "- **目的**: コンピュータが扱う0と1の羅列（2進数データ）を、人間が理解しやすい「**ファイル**」という形で視覚化・管理可能にする。\n- **機能**: データのまとまりを「ファイル」として扱い、データを管理しやすくする。",
      "metadata": {}
    },
    {
      "id": "710dd4ab-3e1c-4b1d-b351-3bdd968b504c",
      "cell_type": "markdown",
      "source": "### ファイルとディレクトリ (File and Directory)",
      "metadata": {}
    },
    {
      "id": "b6b245b3-dee6-4150-b258-763b0553b114",
      "cell_type": "markdown",
      "source": "| 用語 | 英語 | 中国語 | 説明 | 例 |\n|------|------|--------|------|----|\n| **ファイル** | File | 文件 | 記憶装置に記録された**情報の集まり**。ファイルシステムの**管理単位**。 | .txt, .jpg, .mp3 |\n| **ディレクトリ** | Directory | 目录 / 文件夹 | ファイルを**格納する場所**。ファイルを種類ごとに分類して管理する。 | 写真フォルダ, 音楽フォルダ |\n",
      "metadata": {}
    },
    {
      "id": "808262ea-7659-4813-b656-96f911338b8c",
      "cell_type": "markdown",
      "source": "## ツリー構造による管理 (Tree Structure Management)",
      "metadata": {}
    },
    {
      "id": "796492a8-313e-429a-a8da-fb4fa818e4ff",
      "cell_type": "markdown",
      "source": "### ツリー構造",
      "metadata": {}
    },
    {
      "id": "d9752b10-5fb9-450f-bf5c-afb28e33a797",
      "cell_type": "markdown",
      "source": "- **定義**: ファイルやディレクトリを**階層構造**（木構造）で管理する方法。\n- **別名**: 木構造, 階層構造\n- **イメージ**: 枝分かれした木を**逆さまにした形状**。",
      "metadata": {}
    },
    {
      "id": "17eb6bbf-9a4c-42a1-8915-4b5a8221e5e0",
      "cell_type": "markdown",
      "source": "| 用語 | 英語 | 中国語 | 説明 |\n|------|------|--------|------|\n| **ルートディレクトリ** | Root Directory | 根目录 | 階層構造の**最上位**にあるディレクトリ。通常はハードディスクの直下。 |\n| **カレントディレクトリ** | Current Directory | 当前目录 | ユーザーが**現在作業している**ディレクトリ。 |",
      "metadata": {}
    },
    {
      "id": "edceda6d-2d56-441f-9315-4a33d67372e6",
      "cell_type": "markdown",
      "source": "## パスによるファイル指定 (File Specification by Path)",
      "metadata": {}
    },
    {
      "id": "f380190e-127f-417d-b7df-39054ee3aea2",
      "cell_type": "markdown",
      "source": "### パス",
      "metadata": {}
    },
    {
      "id": "d3d020c5-6b00-4ae8-9a12-ac523fcf7755",
      "cell_type": "markdown",
      "source": "- **定義**: ファイルやディレクトリの**場所を示す文字列**。\n- **役割**: キーボード操作で目的のファイルやディレクトリに直接アクセスするために必要。",
      "metadata": {}
    },
    {
      "id": "288bece0-7f76-40f7-82ff-000ecd243a5d",
      "cell_type": "markdown",
      "source": "### パスの書き方の4つのルール",
      "metadata": {}
    },
    {
      "id": "b5c2f880-fa11-4917-954a-8a7483f59c8f",
      "cell_type": "markdown",
      "source": "**ルール 1: 区切り記号**\n- ディレクトリやファイルは **/** (スラッシュ) で区切って記述する。\n- **例**: `/home/user/document.txt`",
      "metadata": {}
    },
    {
      "id": "1e6a85ed-c625-429f-b31b-e85e1f5a0460",
      "cell_type": "markdown",
      "source": "**ルール 2: 絶対パス (Absolute Path)**\n- パスの先頭が **/** で始まる場合、それは**ルートディレクトリ**から目的のファイルやディレクトリまでの**絶対パス**である。\n- **特徴**: 現在の位置（カレントディレクトリ）に関係なく、**常に一意**のパス。\n- **例**: `/usr/local/bin` (ルート/からのパス)",
      "metadata": {}
    },
    {
      "id": "4a60abaa-9643-48dc-98e3-4edd7847e5c9",
      "cell_type": "markdown",
      "source": "**ルール 3: カレントディレクトリの表現**\n- カレントディレクトリ（現在のディレクトリ）は **.** (ドット1つ) で表す。",
      "metadata": {}
    },
    {
      "id": "a24d0cb1-b749-47d4-a33d-3c5cecc91768",
      "cell_type": "markdown",
      "source": "**ルール 4: 親ディレクトリの表現**\n- 1階層上のディレクトリ（親ディレクトリ）は **..** (ドット2つ) で表す。",
      "metadata": {}
    },
    {
      "id": "58a10b19-a466-4404-86e0-2c36f9b8e0cd",
      "cell_type": "markdown",
      "source": "### 絶対パスと相対パス (Absolute Path vs. Relative Path)",
      "metadata": {}
    },
    {
      "id": "4d5ad5f2-d15e-4235-a5e1-2ca9eadcf292",
      "cell_type": "markdown",
      "source": "| 特徴 | 絶対パス | 相対パス |\n|------|----------|----------|\n| **起点** | **ルートディレクトリ (/)** | **カレントディレクトリ (.)** |\n| **記述** | パスの先頭が **/** で始まる | パスの先頭が **/** で始まらない |\n| **特徴** | 現在の位置に依存しない、**唯一無二** | 現在の位置によって値が変わる |\n| **例** | `/home/user/picture/dog.jpg` | `./picture/dog.jpg` または `../user/document.txt` |",
      "metadata": {}
    },
    {
      "id": "f2bddb79-8e62-4aab-be08-5e420c0130d8",
      "cell_type": "markdown",
      "source": "## バックアップ",
      "metadata": {}
    },
    {
      "id": "5076030d-cc05-426d-875d-d3749f8d969e",
      "cell_type": "markdown",
      "source": "- **定義**: 通常使用している補助記憶装置とは**別の**補助記憶装置上に、データの**予備を取っておく**こと。\n- **目的**: 万が一データが破損・消滅した場合に、**元の状態に復旧（リストア）** できるようにするため。",
      "metadata": {}
    },
    {
      "id": "e7cef417-d2cc-499f-b139-69a3be411468",
      "cell_type": "markdown",
      "source": "## バックアップの3方式",
      "metadata": {}
    },
    {
      "id": "7af28487-afe1-41da-8284-580384457479",
      "cell_type": "markdown",
      "source": "| 方式 | 英語 | 中国語 | バックアップ対象 | 復旧に必要なデータ | 特徴 |\n|------|------|--------|------------------|-------------------|------|\n| **フルバックアップ**<br>(完全バックアップ) | **Full Backup** | **完全备份** | **常にすべてのデータ** | **最新のフルバックアップ1つ** | **【メリット】** 復旧操作が**最も簡単**。<br>**【デメリット】** バックアップに要する**時間と容量が最も大きい**。 |\n| **差分バックアップ** | **Differential Backup** | **差分备份** | **直前のフルバックアップ以降に追加/更新されたデータのみ** | **① 最新のフルバックアップ**<br>**② 最新の差分バックアップ** | **【メリット】** フルバックアップより時間/容量は小さい。<br>**【デメリット】** 復旧には**2つのデータ**が必要で操作が**煩雑**。 |\n| **増分バックアップ** | **Incremental Backup** | **增量备份** | **前回のバックアップ（フルor増分）以降に追加/更新されたデータのみ** | **① 最新のフルバックアップ**<br>**② その後から最新までの全ての増分バックアップ** | **【メリット】** バックアップの**時間と容量が最も小さい**。<br>**【デメリット】** 復旧には**多数のデータ**が必要で、操作が**最も煩雑**。 |\n",
      "metadata": {}
    },
    {
      "id": "d73371f8-eec0-4b53-9d01-a7b77d59bd09",
      "cell_type": "markdown",
      "source": "## 開発ツール",
      "metadata": {}
    },
    {
      "id": "0232ab0d-c237-404e-83a0-7fd5e51a9fe7",
      "cell_type": "markdown",
      "source": "- **定義**: 人間が書いたプログラムをコンピュータが実行できる形式に変換し、テストするまでに使用する**プログラム群の総称**。\n- **役割**: ソースコードの変換、実行可能形式への結合、プログラムのテストを支援する。",
      "metadata": {}
    },
    {
      "id": "e1253f91-54af-4db1-841a-e8c00a9d67b1",
      "cell_type": "markdown",
      "source": "## ソースコードとオブジェクトコード (Source Code & Object Code)",
      "metadata": {}
    },
    {
      "id": "c26b4cb6-6338-452a-b4b6-7dfb16e08590",
      "cell_type": "markdown",
      "source": "| 用語 | 英語 | 中国語 | 説明 |\n|------|------|--------|------|\n| **ソースコード** | Source Code | 源代码 | 人間がプログラミング言語で記述した、**人間が読みやすい**形式のプログラム。 |\n| **オブジェクトコード** | Object Code | 目标代码 | コンパイラによってソースコードから変換された、**コンピュータが理解できる**「0」と「1」の機械語のプログラム。 |",
      "metadata": {}
    },
    {
      "id": "c5280bf6-9315-4d48-a485-3d1c8fe46bfe",
      "cell_type": "markdown",
      "source": "## コンパイラ (Compiler)",
      "metadata": {}
    },
    {
      "id": "26acc7e0-0c22-43a2-8efe-2c79c5bc4251",
      "cell_type": "markdown",
      "source": "- **役割**: **ソースコード**を**オブジェクトコード**に**一括して変換（翻訳）** するツール。\n- **別名**: 翻訳プログラム",
      "metadata": {}
    },
    {
      "id": "8d4e238c-e509-4832-a75e-939c69279967",
      "cell_type": "markdown",
      "source": "### コンパイラの5つの処理手順",
      "metadata": {}
    },
    {
      "id": "50b249e1-3bd3-41c3-97ab-58f6c6f07270",
      "cell_type": "markdown",
      "source": "1. **字句解析 (Lexical Analysis)**: ソースコードを最小単位（トークン）に分解し、誤りがないかチェックする。\n2. **構文解析 (Syntax Analysis)**: プログラムの文法（構文）が正しいかチェックする。\n3. **意味解析 (Semantic Analysis)**: プログラムの手続きに矛盾（例: 未宣言の変数使用）がないかチェックする。\n4. **最適化 (Optimization)**: 計算の順序や命令を変更し、**効率的で高速な**プログラムに変換する。\n5. **コード生成 (Code Generation)**: 最適化されたオブジェクトコードを生成する。",
      "metadata": {}
    },
    {
      "id": "babc65df-8cf8-414a-a102-4cf26388c8af",
      "cell_type": "markdown",
      "source": "## リンカとロードモジュール (Linker & Load Module)",
      "metadata": {}
    },
    {
      "id": "b9e89a3b-a4c9-4303-853e-2bd201f8430e",
      "cell_type": "markdown",
      "source": "| 用語 | 英語 | 中国語 | 説明 |\n|------|------|--------|------|\n| **リンカ** | Linker | 链接器 | コンパイラが生成した**複数のオブジェクトコード**と**ライブラリ**を結合し、1つの**実行可能プログラム**を作成するツール。 |\n| **ロードモジュール** | Load Module | 加载模块 | リンカによって生成された、**実行可能なプログラム**。**ローダ**というプログラムによって主記憶に読み込まれ（ロード）、CPUで実行される。 |",
      "metadata": {}
    },
    {
      "id": "c055fc90-2fa0-4232-920f-1a899559b032",
      "cell_type": "markdown",
      "source": "- **必要性**: コンパイラが出力するオブジェクトコードは機械語だが、単体では実行できない。他のモジュールやライブラリと結合する必要がある。",
      "metadata": {}
    },
    {
      "id": "31ab8457-f511-425f-bffa-d9b4abad4799",
      "cell_type": "markdown",
      "source": "## テストツール (Test Tools)",
      "metadata": {}
    },
    {
      "id": "f3c0520a-a575-4c4d-a06e-4ebc756aa890",
      "cell_type": "markdown",
      "source": "### テストの大分類",
      "metadata": {}
    },
    {
      "id": "2db15f51-9ec0-451b-87f6-4fbffecd77d0",
      "cell_type": "markdown",
      "source": "- **人間によるテスト**: **レビュー** (複数人間でドキュメントやコードを確認)\n- **コンピュータによるテスト**: 以下2つに分かれる",
      "metadata": {}
    },
    {
      "id": "8c77c893-c32a-4f85-9501-059e46ffde59",
      "cell_type": "markdown",
      "source": "| テスト種類 | 英語 | 中国语 | 说明 |\n|------------|------|--------|------|\n| **静的テスト** | Static Testing | 静态测试 | **プログラムを実行せず**、ドキュメントやソースコードを分析して誤りを見つける。 |\n| **動的テスト** | Dynamic Testing | 动态测试 | **プログラムを実際に実行**し、その結果から誤りを見つける。 |",
      "metadata": {}
    },
    {
      "id": "b718e09f-98c5-456d-9218-2e065e2bd662",
      "cell_type": "markdown",
      "source": "### テストツールの種類",
      "metadata": {}
    },
    {
      "id": "e552a029-423e-4f99-9919-3a482829869c",
      "cell_type": "markdown",
      "source": "| 分類 | 代表的なツール | 说明 |\n|------|----------------|------|\n| **静的テストツール** | **ソースコード解析ツール** | ソースコードを解析し、プログラム的误りを見つける。**試験频出**。 |\n| | プログラム構造解析ツール | ソースコードを解析し、プログラム的階層構造を可視化する。 |\n| **動的テストツール** | インスペクター | プログラムを実行してエラーを検出する。 |\n| | テストカバレージツール | テストがプログラム的全経路のうち、どれだけを網羅したかを計測する。 |\n| **テスト実施支援ツール** | テストベッドツール | テスト環境を自動構築する。ドライバやスタブなどの仮モジュールを生成する。 |\n| | テストデータ生成ツール | テストデータを自動生成する。 |",
      "metadata": {}
    },
    {
      "id": "d33fa9b5-fb2d-4090-9f6e-fdfb69ba39cc",
      "cell_type": "markdown",
      "source": "## インタプリタ (Interpreter)",
      "metadata": {}
    },
    {
      "id": "66a589eb-f037-4bc7-892d-b312343e4f23",
      "cell_type": "markdown",
      "source": "- **定義**: ソースコードを**1文ずつ**解釈し、**即時実行**するツール。\n- **コンパイラとの比較**:",
      "metadata": {}
    },
    {
      "id": "5f4d1759-f901-481e-b7dd-c75f01427651",
      "cell_type": "markdown",
      "source": "| | **インタプリタ** | **コンパイラ** |\n|------|------------------|----------------|\n| **処理方式** | 1文ずつ変換しながら実行 | ソースコード全体を一括変換 |\n| **メリット** | 書いたコードを**すぐ実行できる** → **開発効率が良い** | 最適化を行う → **実行速度が速い** |\n| **デメリット** | 最適化しない → **実行速度が遅い** | 変換に時間がかかる → 開発時の試行錯誤がやや面倒 |",
      "metadata": {}
    },
    {
      "id": "92542da1-9059-4d3f-bd0f-cd308d45f5b5",
      "cell_type": "markdown",
      "source": "## オープンソースソフトウェア (OSS - Open Source Software)",
      "metadata": {}
    },
    {
      "id": "89ee8aec-ca46-4e26-8d68-db8ac3f3603b",
      "cell_type": "markdown",
      "source": "- **定義**: **ソースコードが公開**されており、誰でも自由に**閲覧、改変、再配布**できるソフトウェア。\n- **考え方**: ソフトウェアはみんなで協力して開発・改良していくべきだという思想（**オープンソース**）に基づく。",
      "metadata": {}
    },
    {
      "id": "ff355e5c-36c9-4441-bad7-6454b3c466c2",
      "cell_type": "markdown",
      "source": "### OSSの代表例: Eclipse (エクリプス / 日食)",
      "metadata": {}
    },
    {
      "id": "2558850c-cf98-4724-8151-c2715fbc1afe",
      "cell_type": "markdown",
      "source": "- **種類**: **統合開発環境 (IDE - Integrated Development Environment)**\n- **IDEとは**: テキストエディタ、コンパイラ、デバッガなど、**開発に必要なツールが一つにまとめられた**ソフトウェア。\n- **用途**: **Java言語**によるシステム開発で広く利用されている。",
      "metadata": {}
    },
    {
      "id": "00146b72-cafe-45fc-a95c-dd2c2fad395b",
      "cell_type": "markdown",
      "source": "## その他のソフトウェア (Other Types of Software)",
      "metadata": {}
    },
    {
      "id": "400110ea-dffc-4653-9b55-7adf08169593",
      "cell_type": "markdown",
      "source": "| 種類 (日本語) | 英語 | 中国語 | ソースコード公開 | 改変・再配布 | 特徴 | 具体例 |\n|---------------|------|--------|------------------|--------------|------|--------|\n| **オープンソースソフトウェア (OSS)** | Open Source Software | 开源软件 | **公開する** | **自由** (ライセンス条件による) | 協力して発展させる | **Eclipse**, Apache, Linux |\n| **商用ソフトウェア** | Commercial Software | 商业软件 | **非公開** (クローズド) | **不可** | 企業が**有料**で販売。コピー防止のためソース非公開。 | Microsoft Office, Adobe Photoshop |\n| **パブリックドメインソフトウェア** | Public Domain Software | 公共领域软件 | 公開されている | **自由** | **著作権が放棄**されている。最も制限が少ない。 | 古い学術プログラムなど |",
      "metadata": {}
    },
    {
      "id": "b39ece70-49bb-4398-bc87-8ddf382c8c09",
      "cell_type": "markdown",
      "source": "## コピーレフト (Copyleft)",
      "metadata": {}
    },
    {
      "id": "c20b92f2-2bf1-4d10-b5c9-a9c008fce740",
      "cell_type": "markdown",
      "source": "- **定義**: OSSのライセンス形態の一種。**著作者は著作権を保持する**が、誰でもそのプログラムの**複製、改変、再配布**を自由に行えるようにする**考え方**。\n- **語源**: Copyright (著作権) に対する言葉遊び。right(右) の反対は left(左) だから。",
      "metadata": {}
    },
    {
      "id": "1ad77ef0-b26e-4b79-831b-adde47392d57",
      "cell_type": "markdown",
      "source": "### コピーレフトの核心: 継承性 (Reciprocity / reciprocal)",
      "metadata": {}
    },
    {
      "id": "6caad511-2c02-420b-bbe9-31c5c4abb7e5",
      "cell_type": "markdown",
      "source": "- **ルール**: コピーレフトのライセンスが適用されたソフトウェアを**改変して再配布する場合**、その**二次著作物（派生物）** にも**元と同じライセンス条件**を適用しなければならない。\n- **つまり**: 改変版の**ソースコードも公開必須**。これが**コピーレフトの最も重要なポイント**。\n- **目的**: ソフトウェアが独占的に利用されるのを防ぎ、常にオープンな状態を維持するため。",
      "metadata": {}
    },
    {
      "id": "addb067c-8cd4-4eaf-98d9-60355d183e33",
      "cell_type": "markdown",
      "source": "### 代表的なコピーレフトライセンス",
      "metadata": {}
    },
    {
      "id": "d1afd2ce-6fc5-4cf7-a461-a63ed9626be6",
      "cell_type": "markdown",
      "source": "- **GPL (GNU General Public License)**: 最も代表的なコピーレフト型ライセンス。Linuxカーネルなどが採用。\n- **AGPL (GNU Affero General Public License)**: ネットワークを通じて利用するソフトウェアにもソースコード公開を求めるGPL。",
      "metadata": {}
    }
  ]
}