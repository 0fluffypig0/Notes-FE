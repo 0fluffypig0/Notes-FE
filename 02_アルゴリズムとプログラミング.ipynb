{
 "cells": [
  {
   "cell_type": "markdown",
   "id": "989c29f1-6f38-4b98-8c26-b24a9dbb0147",
   "metadata": {},
   "source": [
    "---"
   ]
  },
  {
   "cell_type": "markdown",
   "id": "e5f76855-2c37-48d8-b098-4b37a7d08494",
   "metadata": {},
   "source": [
    "# 第2章 アルゴリズムとプログラミング"
   ]
  },
  {
   "cell_type": "markdown",
   "id": "ea50ecea-800e-488f-bf99-c0e0a86c740c",
   "metadata": {},
   "source": [
    "---"
   ]
  },
  {
   "cell_type": "markdown",
   "id": "51bd74ca-f856-449f-ab63-ff468f8ef359",
   "metadata": {},
   "source": [
    "## データ構造（Data Structures）"
   ]
  },
  {
   "cell_type": "markdown",
   "id": "a983bdc4-3487-48db-96c3-6d5a4af9f284",
   "metadata": {},
   "source": [
    "* **データ（Data）**：コンピュータが扱う情報のこと\n",
    "* **データ構造（Data Structure / 数据结构）**：主記憶装置上の**データの並べ方**・組織化の方法"
   ]
  },
  {
   "cell_type": "markdown",
   "id": "fae75161-3cdc-406f-8dad-e7ac3ce4049e",
   "metadata": {},
   "source": [
    "### 代表的なデータ構造"
   ]
  },
  {
   "cell_type": "markdown",
   "id": "970150fe-b533-414c-a21b-90bb34cd51a8",
   "metadata": {},
   "source": [
    "| データ構造 | 英語             | 中国語 |\n",
    "| ----- | -------------- | --- |\n",
    "| スタック  | Stack          | 栈   |\n",
    "| キュー   | Queue          | 队列  |\n",
    "| 配列    | Array          | 数组  |\n",
    "| 連結リスト | Linked List    | 链表  |\n",
    "| 木構造   | Tree Structure | 树结构 |"
   ]
  },
  {
   "cell_type": "markdown",
   "id": "a8465a17-1f16-4a2a-82be-2754352e6c20",
   "metadata": {},
   "source": [
    "---"
   ]
  },
  {
   "cell_type": "markdown",
   "id": "9ad83f8f-ac20-46e8-ba03-7b2efb874bd5",
   "metadata": {},
   "source": [
    "## スタック（Stack / 栈）"
   ]
  },
  {
   "cell_type": "markdown",
   "id": "27387d61-2e60-4f3a-9cf5-a492ea50a2f7",
   "metadata": {},
   "source": [
    "* **特徴**：最後に格納したデータを最初に取り出す（**LIFO**: Last In First Out / 后进先出）\n",
    "* **操作**：\n",
    "\n",
    "  * **push**：データを格納（例：`push C`）\n",
    "  * **pop**：データを取り出し（例：`pop`）"
   ]
  },
  {
   "cell_type": "code",
   "execution_count": 2,
   "id": "e70a8810-6162-4ea7-818c-3032695364d0",
   "metadata": {},
   "outputs": [
    {
     "name": "stdout",
     "output_type": "stream",
     "text": [
      "push A: ['A']\n",
      "push B: ['A', 'B']\n",
      "push C: ['A', 'B', 'C']\n",
      "pop: C → ['A', 'B']\n",
      "pop: B → ['A']\n"
     ]
    },
    {
     "data": {
      "text/plain": [
       "'B'"
      ]
     },
     "execution_count": 2,
     "metadata": {},
     "output_type": "execute_result"
    }
   ],
   "source": [
    "# 【実装】スタックの実装\n",
    "class Stack:#类栈\n",
    "    def __init__(self):\n",
    "        self.items = []\n",
    "    \n",
    "    def push(self, item):#压入\n",
    "        \"\"\"データをスタックに追加\"\"\"\n",
    "        self.items.append(item)\n",
    "        print(f\"push {item}: {self.items}\")\n",
    "    \n",
    "    def pop(self):#弹出\n",
    "        \"\"\"データをスタックから取り出し\"\"\"\n",
    "        if not self.is_empty():\n",
    "            item = self.items.pop()\n",
    "            print(f\"pop: {item} → {self.items}\")\n",
    "            return item\n",
    "        return None\n",
    "    \n",
    "    def is_empty(self):#非空判断\n",
    "        \"\"\"スタックが空かどうかチェック\"\"\"\n",
    "        return len(self.items) == 0\n",
    "\n",
    "# 実行例\n",
    "stack = Stack()\n",
    "stack.push(\"A\")\n",
    "stack.push(\"B\")\n",
    "stack.push(\"C\")\n",
    "stack.pop()\n",
    "stack.pop()"
   ]
  },
  {
   "cell_type": "markdown",
   "id": "821efbf4-6114-47f3-b0b6-c951f4ec71c5",
   "metadata": {},
   "source": [
    "---"
   ]
  },
  {
   "cell_type": "markdown",
   "id": "6793e339-b82b-45b8-9004-2215c0ecb89e",
   "metadata": {},
   "source": [
    "## キュー（Queue / 队列）"
   ]
  },
  {
   "cell_type": "markdown",
   "id": "a4c916aa-b222-4ece-abcb-4de9bb463841",
   "metadata": {},
   "source": [
    "* **特徴**：最初に格納したデータを最初に取り出す（**FIFO**: First In First Out / 先进先出）\n",
    "* **別名**：待ち行列\n",
    "* **操作**：\n",
    "\n",
    "  * **enqueue**：データをキューに入れる\n",
    "  * **dequeue**：データをキューから取り出す\n"
   ]
  },
  {
   "cell_type": "code",
   "execution_count": 3,
   "id": "85a75fae-433a-4fb1-b40e-0e3f3f8d906c",
   "metadata": {},
   "outputs": [
    {
     "name": "stdout",
     "output_type": "stream",
     "text": [
      "enqueue A: ['A']\n",
      "enqueue B: ['A', 'B']\n",
      "enqueue C: ['A', 'B', 'C']\n",
      "dequeue: A → ['B', 'C']\n",
      "dequeue: B → ['C']\n"
     ]
    },
    {
     "data": {
      "text/plain": [
       "'B'"
      ]
     },
     "execution_count": 3,
     "metadata": {},
     "output_type": "execute_result"
    }
   ],
   "source": [
    "# 【実装】キューの実装\n",
    "class Queue:\n",
    "    def __init__(self):\n",
    "        self.items = []\n",
    "    \n",
    "    def enqueue(self, item):\n",
    "        \"\"\"データをキューに追加\"\"\"\n",
    "        self.items.append(item)\n",
    "        print(f\"enqueue {item}: {self.items}\")\n",
    "    \n",
    "    def dequeue(self):\n",
    "        \"\"\"データをキューから取り出し\"\"\"\n",
    "        if not self.is_empty():\n",
    "            item = self.items.pop(0)\n",
    "            print(f\"dequeue: {item} → {self.items}\")\n",
    "            return item\n",
    "        return None\n",
    "    \n",
    "    def is_empty(self):\n",
    "        \"\"\"キューが空かどうかチェック\"\"\"\n",
    "        return len(self.items) == 0\n",
    "\n",
    "# 実行例\n",
    "queue = Queue()\n",
    "queue.enqueue(\"A\")\n",
    "queue.enqueue(\"B\")\n",
    "queue.enqueue(\"C\")\n",
    "queue.dequeue()\n",
    "queue.dequeue()"
   ]
  },
  {
   "cell_type": "markdown",
   "id": "d90536ae-d3ad-435a-b623-f048d75c0426",
   "metadata": {},
   "source": [
    "---"
   ]
  },
  {
   "cell_type": "markdown",
   "id": "46910c18-13fd-4978-bce5-3164b8f731b3",
   "metadata": {},
   "source": [
    "## 配列（Array / 数组）"
   ]
  },
  {
   "cell_type": "markdown",
   "id": "26453b89-4d04-4e88-acbe-e10341af7afa",
   "metadata": {},
   "source": [
    "* **特徴**：データを**表形式**に並べたデータ構造\n",
    "* **要素**：1つ1つのデータ\n",
    "* **要素番号（index）**：要素の位置を表す数字（実装言語多くは 0 開始）"
   ]
  },
  {
   "cell_type": "markdown",
   "id": "dfdd34d5-f1ed-457e-b8d6-f486ef3969b9",
   "metadata": {},
   "source": [
    "### 1次元配列（一次元数组）"
   ]
  },
  {
   "cell_type": "markdown",
   "id": "be958d71-ea1c-4a21-83b2-45662693eeb8",
   "metadata": {},
   "source": [
    "* 要素が**1列**に並ぶ\n",
    "* 取り出し：`A[3]`（0-index の場合は注意）"
   ]
  },
  {
   "cell_type": "markdown",
   "id": "d43634de-5167-4e2b-a1ca-ae9b68bb3924",
   "metadata": {},
   "source": [
    "### 2次元配列（二维数组）"
   ]
  },
  {
   "cell_type": "markdown",
   "id": "ed6a54ed-24b6-4366-a73c-fec62df87577",
   "metadata": {},
   "source": [
    "* 要素が**縦横**に並ぶ\n",
    "* **行**：横方向の並び / **列**：縦方向の並び\n",
    "* 取り出し：`A[行番号, 列番号]`（例：`A[2,4]`）"
   ]
  },
  {
   "cell_type": "code",
   "execution_count": 4,
   "id": "c5bae88e-2ce8-427e-a42f-0869e9871fde",
   "metadata": {},
   "outputs": [
    {
     "name": "stdout",
     "output_type": "stream",
     "text": [
      "1次元配列: ['佐藤', '田中', '鈴木', '高橋']\n",
      "A[3] = 鈴木\n",
      "\n",
      "2次元配列: [['佐藤', '女性', '25歳', '東京都'], ['田中', '男性', '30歳', '大阪府']]\n",
      "A[2,4] = 大阪府\n"
     ]
    }
   ],
   "source": [
    "# 【実装】配列の操作\n",
    "# 1次元配列\n",
    "one_d_array = [\"佐藤\", \"田中\", \"鈴木\", \"高橋\"]\n",
    "print(f\"1次元配列: {one_d_array}\")\n",
    "print(f\"A[3] = {one_d_array[2]}\")  # 要素番号3のデータ（0-indexedなので注意）\n",
    "\n",
    "# 2次元配列\n",
    "two_d_array = [\n",
    "    [\"佐藤\", \"女性\", \"25歳\", \"東京都\"],\n",
    "    [\"田中\", \"男性\", \"30歳\", \"大阪府\"]\n",
    "]\n",
    "print(f\"\\n2次元配列: {two_d_array}\")\n",
    "print(f\"A[2,4] = {two_d_array[1][3]}\")  # 2行目4列目のデータ"
   ]
  },
  {
   "cell_type": "markdown",
   "id": "62390c4d-8719-4857-a81a-6169aeac70ec",
   "metadata": {},
   "source": [
    "---"
   ]
  },
  {
   "cell_type": "markdown",
   "id": "61f8542f-0d39-4907-8dc8-dd9791f905eb",
   "metadata": {},
   "source": [
    "## 連結リスト（Linked List / 链表）"
   ]
  },
  {
   "cell_type": "markdown",
   "id": "dbf8dd4d-ec43-48ea-ab3e-291d9f79b53e",
   "metadata": {},
   "source": [
    "* **特徴**：データを**数珠つなぎ**に並べた構造\n",
    "* **要素**：**データ + ポインタ**\n",
    "\n",
    "  * **ポインタ**：次の要素（ノード）のアドレスを指す\n"
   ]
  },
  {
   "cell_type": "markdown",
   "id": "e2a7be18-16ac-4202-90cc-6f76163a86ea",
   "metadata": {},
   "source": [
    "### 方向性による分類"
   ]
  },
  {
   "cell_type": "markdown",
   "id": "991e061c-8802-4616-899f-6b96d9e69eae",
   "metadata": {},
   "source": [
    "| 種類     | 英語                 | 中文   |\n",
    "| ------ | ------------------ | ---- |\n",
    "| 単方向リスト | Singly Linked List | 单向链表 |\n",
    "| 双方向リスト | Doubly Linked List | 双向链表 |"
   ]
  },
  {
   "cell_type": "markdown",
   "id": "aa21c741-2059-4e87-a648-b48baf7893ba",
   "metadata": {},
   "source": [
    "### 形による分類"
   ]
  },
  {
   "cell_type": "markdown",
   "id": "88803644-f259-43d2-85d1-5cb7c16ee925",
   "metadata": {},
   "source": [
    "| 種類    | 英語            | 中文   |\n",
    "| ----- | ------------- | ---- |\n",
    "| 線形リスト | Linear List   | 线性链表 |\n",
    "| 環状リスト | Circular List | 环形链表 |"
   ]
  },
  {
   "cell_type": "markdown",
   "id": "8e512303-01cf-4142-a1be-958f68ebf5ce",
   "metadata": {},
   "source": [
    "### 配列との比較"
   ]
  },
  {
   "cell_type": "markdown",
   "id": "9c868ec2-b307-4bcc-a992-ab9e8db21de6",
   "metadata": {},
   "source": [
    "| 特性      | 配列               | 連結リスト           |\n",
    "| ------- | ---------------- | --------------- |\n",
    "| データアクセス | **直接アクセス可能**     | **先頭から順にたどる**必要 |\n",
    "| 挿入・削除   | 後ろ要素の**一括移動**が必要 | **ポインタ変更のみ**    |\n",
    "| 処理時間    | 要素数に比例（アクセス高速）   | アクセスに時間（順走査）    |"
   ]
  },
  {
   "cell_type": "markdown",
   "id": "09ceef45-4e26-48d8-81d8-e674afdb05a6",
   "metadata": {},
   "source": [
    "---"
   ]
  },
  {
   "cell_type": "markdown",
   "id": "ec168c09-5a96-4c91-9e6a-e77c5a41e7cf",
   "metadata": {},
   "source": [
    "## 木構造（Tree Structure / 树结构）"
   ]
  },
  {
   "cell_type": "markdown",
   "id": "98ea1ab5-116f-4c07-88fb-9529b63c0df1",
   "metadata": {},
   "source": [
    "* **特徴**：**階層構造**を持つデータ構造"
   ]
  },
  {
   "cell_type": "markdown",
   "id": "302a5fa4-4ac2-473b-9c23-f38c72d039a6",
   "metadata": {},
   "source": [
    "| 用語 | 英語   | 中文  |\n",
    "| -- | ---- | --- |\n",
    "| 節  | Node | 节点  |\n",
    "| 根  | Root | 根节点 |\n",
    "| 葉  | Leaf | 叶节点 |"
   ]
  },
  {
   "cell_type": "markdown",
   "id": "255175d2-fc64-4395-9d25-e991b8e2b35c",
   "metadata": {},
   "source": [
    "### 木構造の分類"
   ]
  },
  {
   "cell_type": "markdown",
   "id": "2880cce7-71dd-439f-9927-cb1ea105f1a5",
   "metadata": {},
   "source": [
    "| 種類  | 英語           | 中文  | 説明            |\n",
    "| --- | ------------ | --- | ------------- |\n",
    "| 2分木 | Binary Tree  | 二叉树 | 親が 0～2 個の子を持つ |\n",
    "| 3分木 | Ternary Tree | 三叉树 | 親が 0～3 個の子を持つ |\n",
    "| n分木 | n-ary Tree   | n叉树 | 親が 0～n 個の子を持つ |"
   ]
  },
  {
   "cell_type": "markdown",
   "id": "a93a751b-8043-4adf-bb56-52dd4e927921",
   "metadata": {},
   "source": [
    "---"
   ]
  },
  {
   "cell_type": "markdown",
   "id": "ae3ac2d1-54ab-467f-85f1-a0ec754f083b",
   "metadata": {},
   "source": [
    "## 2分探索木（BST / 二叉搜索树）"
   ]
  },
  {
   "cell_type": "markdown",
   "id": "ed8ab40e-f203-42cc-a7fe-3bb3aef6c3f3",
   "metadata": {},
   "source": [
    "* **定義（核心特征）**：任意のノードについて\n",
    "\n",
    "  1. **左子孫 < 親 < 右子孫**\n",
    "  2. **再帰性**：この規則は**すべての部分木**にも適用される"
   ]
  },
  {
   "cell_type": "markdown",
   "id": "d99df8e4-9878-4419-9b12-a1e68f03a793",
   "metadata": {},
   "source": [
    "### BST 判定（思路）"
   ]
  },
  {
   "cell_type": "markdown",
   "id": "855bc121-cb04-4089-8891-be849a07c132",
   "metadata": {},
   "source": [
    "1. **中序走査（In-order）**：左 → 根 → 右\n",
    "2. 走査で得られる列が**常に昇順**なら **BST**、さもなくば **非 BST**"
   ]
  },
  {
   "cell_type": "markdown",
   "id": "0aaaae56-79c2-4747-a71c-f5a59bbf1d33",
   "metadata": {},
   "source": [
    "---"
   ]
  },
  {
   "cell_type": "markdown",
   "id": "d6581b37-1e2a-44fc-80a7-51a6f2e1dd50",
   "metadata": {},
   "source": [
    "## アルゴリズムの表現方法"
   ]
  },
  {
   "cell_type": "markdown",
   "id": "1ebc5625-f126-468d-864c-83ca6f5f4aa7",
   "metadata": {},
   "source": [
    "| 表現方法     | 英語                      | 中国语   | 特徴           |\n",
    "| -------- | ----------------------- | ----- | ------------ |\n",
    "| 文章（テキスト） | Text                    | 文字描述  | 数学記号＋文章で理解可能 |\n",
    "| 流れ図      | Flowchart               | 流程图   | 視覚的に分かりやすい   |\n",
    "| 数式       | Mathematical Expression | 数学表达式 | 関数として簡潔      |\n",
    "| プログラム言語  | Programming Language    | 编程语言  | コンピュータが直接理解  |"
   ]
  },
  {
   "cell_type": "markdown",
   "id": "00955a18-7905-4ee5-a293-b79bdb4ab848",
   "metadata": {},
   "source": [
    "---"
   ]
  },
  {
   "cell_type": "markdown",
   "id": "d65e5bdb-2e1f-4559-950c-64a550251339",
   "metadata": {},
   "source": [
    "## アルゴリズムの分類（Algorithm Classification）"
   ]
  },
  {
   "cell_type": "markdown",
   "id": "3408d677-913d-4d71-9c08-8accd0efa412",
   "metadata": {},
   "source": [
    "| アルゴリズム    | 英語                  | 中国语  | 説明                    |\n",
    "| --------- | ------------------- | ---- | --------------------- |\n",
    "| 整列アルゴリズム  | Sorting Algorithm   | 排序算法 | データを所定順序（昇順/降順）に並べ替える |\n",
    "| 探索アルゴリズム  | Search Algorithm    | 搜索算法 | 目的のデータを見つけ出す          |\n",
    "| 再帰的アルゴリズム | Recursive Algorithm | 递归算法 | 自分自身を呼び出す             |\n"
   ]
  },
  {
   "cell_type": "markdown",
   "id": "f5683294-e854-4382-804f-a3877d4fce11",
   "metadata": {},
   "source": [
    "---"
   ]
  },
  {
   "cell_type": "markdown",
   "id": "a522bb99-1e28-4e97-b9fe-f8d6a2ad82ed",
   "metadata": {},
   "source": [
    "## 整列アルゴリズム（Sorting）"
   ]
  },
  {
   "cell_type": "markdown",
   "id": "2df9dc96-5f1e-48d8-80dc-8e8dbea5a196",
   "metadata": {},
   "source": [
    "| アルゴリズム  | 英語             | 中国语  | 解説                       |\n",
    "| ------- | -------------- | ---- | ------------------------ |\n",
    "| バブルソート  | Bubble Sort    | 冒泡排序 | 隣接要素を比較し、順序が違えば交換を繰り返す   |\n",
    "| 選択ソート   | Selection Sort | 选择排序 | 未整列から最小（最大）を選んで先頭と交換     |\n",
    "| 挿入ソート   | Insertion Sort | 插入排序 | 既整列部分に未整列の要素を適切位置へ挿入     |\n",
    "| クイックソート | Quick Sort     | 快速排序 | 基準値で 2 分割し、各部を再帰整列（分割統治） |"
   ]
  },
  {
   "cell_type": "markdown",
   "id": "1ba49ef0-ed3e-4477-bc94-59ef948e1574",
   "metadata": {},
   "source": [
    "---"
   ]
  },
  {
   "cell_type": "markdown",
   "id": "a0fcbac0-4c98-47aa-b2ab-c30d755c2ca1",
   "metadata": {},
   "source": [
    "## 探索アルゴリズム（Searching）"
   ]
  },
  {
   "cell_type": "markdown",
   "id": "c1cef429-611c-4634-abfa-b53529fb5d1a",
   "metadata": {},
   "source": [
    "* **目的**：特定データの発見"
   ]
  },
  {
   "cell_type": "markdown",
   "id": "ac457151-3a6e-460b-adfe-6e776e8ee2ae",
   "metadata": {},
   "source": [
    "| アルゴリズム | 英語            | 中国語  | 解説                       |\n",
    "| ------ | ------------- | ---- | ------------------------ |\n",
    "| 線形探索法  | Linear Search | 线性搜索 | 先頭から順に照合する単純探索           |\n",
    "| ハッシュ法  | Hash Method   | 哈希法  | ハッシュ表で位置へ直接アクセス（衝突に注意）   |\n",
    "| 2分探索法  | Binary Search | 二分搜索 | 範囲を半分に切りながら探索（要**整列済み**） |"
   ]
  },
  {
   "cell_type": "markdown",
   "id": "44a36741-922f-4912-8ca9-48e93438e846",
   "metadata": {},
   "source": [
    "### ハッシュ法の要点"
   ]
  },
  {
   "cell_type": "markdown",
   "id": "dab57e7f-4894-4038-b2df-dad09f579831",
   "metadata": {},
   "source": [
    "* **別名**：ハッシュ表探索法\n",
    "* **手法**：データ → **ハッシュ値**に変換 → その位置を参照\n",
    "* **弱点**：**衝突（Collision）**—異なる入力が同じハッシュ値"
   ]
  },
  {
   "cell_type": "markdown",
   "id": "b5e252e8-5e55-4550-9d7e-d44731e78ef5",
   "metadata": {},
   "source": [
    "---"
   ]
  },
  {
   "cell_type": "markdown",
   "id": "f1dbcc80-f89f-4fe8-b945-cf60eacbde0f",
   "metadata": {},
   "source": [
    "## 計算量解析（Algorithm Complexity / 大O表示法）"
   ]
  },
  {
   "cell_type": "markdown",
   "id": "fc707a7f-5a0f-44e7-b060-dcce9039e66d",
   "metadata": {},
   "source": [
    "* **定義**：データ数 $n$ と計算量の関係を表す\n",
    "* **書式**：$O(\\cdot)$ 例：$O(n)$, $O(\\log n)$, $O(n^2)$"
   ]
  },
  {
   "cell_type": "markdown",
   "id": "77d54039-4922-46b4-908d-30ed65e822dc",
   "metadata": {},
   "source": [
    "### 代表例（時間計算量）"
   ]
  },
  {
   "cell_type": "markdown",
   "id": "1027b50e-34a0-4cdf-b3f2-373a4f9be4a9",
   "metadata": {},
   "source": [
    "| アルゴリズム  | 時間計算量         | 中国語   | 特徴                 |\n",
    "| ------- | ------------- | ----- | ------------------ |\n",
    "| ハッシュ法   | $O(1)$        | 哈希法   | 衝突がなければ常に一定時間      |\n",
    "| 2分探索法   | $O(\\log n)$   | 二分搜索法 | データ増でも効率◎          |\n",
    "| 線形探索法   | $O(n)$        | 线性搜索法 | データ数に比例            |\n",
    "| クイックソート | $O(n \\log n)$ | 快速排序  | 平均高速（最悪は $O(n^2)$） |"
   ]
  },
  {
   "cell_type": "markdown",
   "id": "5cf6ffeb-1896-4a6e-ad90-bae25d715b35",
   "metadata": {},
   "source": [
    "### アルゴリズム比較（平均・最悪）"
   ]
  },
  {
   "cell_type": "markdown",
   "id": "244eb286-8ac9-44bd-ac6b-323c78624e03",
   "metadata": {},
   "source": [
    "| アルゴリズム  | 平均            | 最悪          | 特徴                       |\n",
    "| ------- | ------------- | ----------- | ------------------------ |\n",
    "| バブルソート  | $O(n^2)$      | $O(n^2)$    | 実装容易・効率低                 |\n",
    "| 選択ソート   | $O(n^2)$      | $O(n^2)$    | バブルよりやや良                 |\n",
    "| 挿入ソート   | $O(n^2)$      | $O(n^2)$    | **ほぼ整列済み**に強い（最良 $O(n)$） |\n",
    "| クイックソート | $O(n \\log n)$ | $O(n^2)$    | 平均最速クラス                  |\n",
    "| 線形探索    | $O(n)$        | $O(n)$      | 未整列でも可                   |\n",
    "| 2分探索    | $O(\\log n)$   | $O(\\log n)$ | **整列済み**が前提              |\n",
    "| ハッシュ法   | $O(1)$        | $O(n)$      | 衝突多いと退化                  |"
   ]
  },
  {
   "cell_type": "markdown",
   "id": "aa388302-8613-41b4-8c82-cae27df54932",
   "metadata": {},
   "source": [
    "#### 复杂度直观解释 搜索算法 (Searching Algorithms) 时间复杂度"
   ]
  },
  {
   "cell_type": "markdown",
   "id": "512e30f5-9810-4daa-a877-44be03d420ef",
   "metadata": {},
   "source": [
    "| 算法 | 平均 | 最坏 | 原因分析 |\n",
    "|:-----|:--------------:|:--------------:|:---------|\n",
    "| 線形探索 (Linear Search) | O(n) | O(n) | **原理：** 从第一个元素开始，逐个检查每个元素，直到找到目标。<br>**为什么是O(n)：** 最坏情况下（目标在最后或不存在），你需要检查每一个元素。检查次数与n成正比。 |\n",
    "| 2分探索 (Binary Search) | O(log n) | O(log n) | **原理：** 要求数据已排序。每次检查中间元素，如果不对，就排除掉一半的搜索范围。<br>**为什么是O(log n)：** 每次比较都能使搜索范围减半。n个元素最多只需要 log₂(n) 次比较就能找到目标或确认不存在。 |\n",
    "| ハッシュ法 (Hashing) | O(1) | O(n) | **原理：** 通过一个哈希函数，直接计算出数据应该存储的位置。<br>**平均O(1)：** 理想情况下，没有冲突，一次计算就能找到数据。<br>**最坏O(n)：** 如果所有数据都发生哈希冲突，都堆在同一个位置，那就退化成了线性查找。 |"
   ]
  },
  {
   "cell_type": "markdown",
   "id": "38b9a7c9-a3a3-47fd-9efe-e0741053afc5",
   "metadata": {},
   "source": [
    "#### 复杂度直观解释 排序算法 (Sorting Algorithms) 时间复杂度"
   ]
  },
  {
   "cell_type": "markdown",
   "id": "ce62f51e-d60a-41f9-8315-4cd8d18a1cc5",
   "metadata": {},
   "source": [
    "| 算法 | 平均时间复杂度 | 最坏时间复杂度 | 原因分析 |\n",
    "|:-----|:--------------:|:--------------:|:---------|\n",
    "| バブルソート (Bubble Sort) | O(n²) | O(n²) | **原理：** 重复遍历列表，比较相邻元素，如果顺序错误就交换它们，直到没有需要交换的元素为止。<br>**为什么是O(n²)：** 对于n个元素，最坏情况下需要进(n-1) + (n-2) + ... + 1 ≈ n²/2次比较。这是一个嵌套循环的经典例子。 |\n",
    "| 選択ソート (Selection Sort) | O(n²) | O(n²) | **原理：** 每次从未排序的部分中找到最小（或最大）的元素，放到已排序序列的末尾。<br>**为什么是O(n²)：** 找第一个最小值需要比较n次，找第二个需要比较n-1次...总共需要 n + (n-1) + ... + 1 ≈ n²/2 次比较。 |\n",
    "| 挿入ソート (Insertion Sort) | O(n²) | O(n²) | **原理：** 构建有序序列，对于未排序数据，在已排序序列中从后向前扫描，找到相应位置并插入。<br>**为什么是O(n²)：** 最坏情况下（数据完全逆序），每个新元素都需要和前面所有的已排序元素比较并移动。<br>**特征：** 对“几乎有序”的数据效率很高，此时接近O(n)。 |\n",
    "| クイックソート (Quick Sort) | O(n log n) | O(n²) | **原理：** 分治法（Divide and Conquer）。选一个“基准”，将数据分成“比基准小”和“比基准大”的两部分，再对这两部分递归地进行快速排序。<br>**平均O(n log n)：** 如果每次划分都比较平均，递归树有log n层，每层需要处理n个元素。<br>**最坏O(n²)：** 如果每次选的基准都是最大或最小值，导致划分极度不平衡，递归树就退化成一条n层的链。 |"
   ]
  },
  {
   "cell_type": "markdown",
   "id": "aca3bae5-a4ce-43c1-a6ef-8dabcd5af1e6",
   "metadata": {},
   "source": [
    "---"
   ]
  },
  {
   "cell_type": "markdown",
   "id": "5668fb12-fd4e-4134-a0ba-ae205f3b6c74",
   "metadata": {},
   "source": [
    "## プログラムの性質（Program Properties）"
   ]
  },
  {
   "cell_type": "markdown",
   "id": "e5e455cd-6e5f-4470-9d60-9b72c47b1659",
   "metadata": {},
   "source": [
    "| 性質    | 英語          | 中国語   | 核心的な特徴                  |\n",
    "| ----- | ----------- | ----- | ----------------------- |\n",
    "| 再帰    | Recursive   | 递归性   | プログラムが自分自身を呼び出す         |\n",
    "| 再入可能  | Reentrant   | 可重入性  | 複数の呼び出し元から同時呼び出しでも正しく動作 |\n",
    "| 再配置可能 | Relocatable | 可重定位性 | 主記憶上の任意位置で実行可能          |\n",
    "| 再使用可能 | Reusable    | 可重用性  | 一度読み込めば繰り返し使用可能         |"
   ]
  },
  {
   "cell_type": "markdown",
   "id": "60353549-ef82-4434-b4a4-1486fec15bbd",
   "metadata": {},
   "source": [
    "---"
   ]
  },
  {
   "cell_type": "markdown",
   "id": "b48e2d1b-56c1-4f1f-8d58-e0991fc1ac39",
   "metadata": {},
   "source": [
    "## Java 関連用語の比較表"
   ]
  },
  {
   "cell_type": "markdown",
   "id": "aa36e582-97cb-4dc3-84df-5ac6d10afd28",
   "metadata": {},
   "source": [
    "| 用語           | 英語               | 中国語          | 説明                          |\n",
    "| ------------ | ---------------- | ------------ | --------------------------- |\n",
    "| Java         | Java             | Java语言       | 機種やOSに依存しないアプリを開発できる言語      |\n",
    "| Javaアプリケーション | Java Application | Java应用程序     | Java で書かれたアプリ               |\n",
    "| Javaアプレット    | Java Applet      | Java小程序      | サーバからDL→ブラウザ上で実行（歴史用語）      |\n",
    "| Javaサーブレット   | Java Servlet     | Java Servlet | サーバ側で動的Webを生成               |\n",
    "| JavaBeans    | JavaBeans        | Java组件       | よく使う機能を部品化・再利用              |\n",
    "| JavaScript   | JavaScript       | JavaScript   | 動的Web用スクリプト言語（**Javaとは別物**） |"
   ]
  },
  {
   "cell_type": "markdown",
   "id": "791a0b78-26ea-4981-8113-d7a11178e524",
   "metadata": {},
   "source": [
    "---"
   ]
  },
  {
   "cell_type": "markdown",
   "id": "57ce0867-8222-4d92-9dc1-ad008e77a12a",
   "metadata": {},
   "source": [
    "## 基本情報技術者試験：出題頻度が高い Web 技術"
   ]
  },
  {
   "cell_type": "markdown",
   "id": "9fef6a00-d8fc-448c-a558-d8d899516097",
   "metadata": {},
   "source": [
    "| 技術   | 英語                            | 中国語                 | 出題頻度 |\n",
    "| ---- | ----------------------------- | ------------------- | ---- |\n",
    "| XML  | eXtensible Markup Language    | 可扩展标记语言             | 高    |\n",
    "| CSS  | Cascading Style Sheets        | 层叠样式表               | 高    |\n",
    "| Ajax | Asynchronous JavaScript + XML | 异步 JavaScript 与 XML | 高    |"
   ]
  },
  {
   "cell_type": "markdown",
   "id": "95c118f9-2f0e-4cc2-ba50-572d858b2155",
   "metadata": {},
   "source": [
    "> Ajax（Asynchronous JavaScript + XML）：\n",
    ">\n",
    "> * **非同期通信**でページ全体を再読み込みせずに一部だけ更新\n",
    "> * 代表技術：`XMLHttpRequest`/`fetch`、JSON 連携 等"
   ]
  }
 ],
 "metadata": {
  "kernelspec": {
   "display_name": "Python 3 (ipykernel)",
   "language": "python",
   "name": "python3"
  },
  "language_info": {
   "codemirror_mode": {
    "name": "ipython",
    "version": 3
   },
   "file_extension": ".py",
   "mimetype": "text/x-python",
   "name": "python",
   "nbconvert_exporter": "python",
   "pygments_lexer": "ipython3",
   "version": "3.11.6"
  }
 },
 "nbformat": 4,
 "nbformat_minor": 5
}
