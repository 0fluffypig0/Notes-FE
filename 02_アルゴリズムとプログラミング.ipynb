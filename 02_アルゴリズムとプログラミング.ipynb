{
 "cells": [
  {
   "cell_type": "raw",
   "id": "968660e5-866f-4206-a96f-a6709d4db4b8",
   "metadata": {},
   "source": [
    "データ構造 (Data Structures)​\n",
    "定義​​: コンピュータが扱う情報のこと\n",
    "\n",
    "データ構造 (Data Structure / 数据结构)​\n",
    "定義​​: 主記憶装置上のデータの並べ方のこと"
   ]
  },
  {
   "cell_type": "markdown",
   "id": "a201338c-924b-466f-985e-31e9d8546c62",
   "metadata": {},
   "source": [
    "| データ構造 | 英語         | 中国語 |\n",
    "|:-----------|:-------------|:-------|\n",
    "| スタック   | Stack        | 栈     |\n",
    "| キュー     | Queue        | 队列   |\n",
    "| 配列       | Array        | 数组   |\n",
    "| 連結リスト | Linked List  | 链表   |\n",
    "| 木構造     | Tree Structure | 树结构 | 树结构 |"
   ]
  },
  {
   "cell_type": "raw",
   "id": "4ff3002c-e59b-4cee-9746-94c4fc7180e4",
   "metadata": {},
   "source": [
    "スタック (Stack / 栈)​\n",
    "特徴​​: 最後に格納したデータを最初に取り出す (LIFO)\n",
    "操作​​:\n",
    "•​​push​​: データを格納 (例: push C)\n",
    "•​​pop​​: データを取り出す (例: pop)\n",
    "​​原則​​: 後入れ先出し (LIFO: Last In First Out / 后进先出)"
   ]
  },
  {
   "cell_type": "code",
   "execution_count": 5,
   "id": "8c9f0b76-8667-4654-8b72-200da85dc8d0",
   "metadata": {},
   "outputs": [
    {
     "name": "stdout",
     "output_type": "stream",
     "text": [
      "push A: ['A']\n",
      "push B: ['A', 'B']\n",
      "push C: ['A', 'B', 'C']\n",
      "pop: C → ['A', 'B']\n",
      "pop: B → ['A']\n"
     ]
    },
    {
     "data": {
      "text/plain": [
       "'B'"
      ]
     },
     "execution_count": 5,
     "metadata": {},
     "output_type": "execute_result"
    }
   ],
   "source": [
    "# 【実装】スタックの実装\n",
    "class Stack:#类栈\n",
    "    def __init__(self):\n",
    "        self.items = []\n",
    "    \n",
    "    def push(self, item):#压入\n",
    "        \"\"\"データをスタックに追加\"\"\"\n",
    "        self.items.append(item)\n",
    "        print(f\"push {item}: {self.items}\")\n",
    "    \n",
    "    def pop(self):#弹出\n",
    "        \"\"\"データをスタックから取り出し\"\"\"\n",
    "        if not self.is_empty():\n",
    "            item = self.items.pop()\n",
    "            print(f\"pop: {item} → {self.items}\")\n",
    "            return item\n",
    "        return None\n",
    "    \n",
    "    def is_empty(self):#非空判断\n",
    "        \"\"\"スタックが空かどうかチェック\"\"\"\n",
    "        return len(self.items) == 0\n",
    "\n",
    "# 実行例\n",
    "stack = Stack()\n",
    "stack.push(\"A\")\n",
    "stack.push(\"B\")\n",
    "stack.push(\"C\")\n",
    "stack.pop()\n",
    "stack.pop()"
   ]
  },
  {
   "cell_type": "raw",
   "id": "e20e5556-b814-443b-8d01-1f66bc89efd2",
   "metadata": {},
   "source": [
    "キュー (Queue / 队列)​\n",
    "特徴​​: 最初に格納したデータを最初に取り出す (FIFO)\n",
    "別名​​: 待ち行列\n",
    "操作​​:\n",
    "•enqueue​​: データをキューに入れる (例: enqueue D)\n",
    "•dequeue​​: データをキューから取り出す (例: dequeue)\n",
    "原則​​: 先入れ先出し (FIFO: First In First Out / 先进先出)"
   ]
  },
  {
   "cell_type": "code",
   "execution_count": 2,
   "id": "133a7d03-91dd-4fb1-b8a5-9062e6a91c48",
   "metadata": {},
   "outputs": [
    {
     "name": "stdout",
     "output_type": "stream",
     "text": [
      "enqueue A: ['A']\n",
      "enqueue B: ['A', 'B']\n",
      "enqueue C: ['A', 'B', 'C']\n",
      "dequeue: A → ['B', 'C']\n",
      "dequeue: B → ['C']\n"
     ]
    },
    {
     "data": {
      "text/plain": [
       "'B'"
      ]
     },
     "execution_count": 2,
     "metadata": {},
     "output_type": "execute_result"
    }
   ],
   "source": [
    "# 【実装】キューの実装\n",
    "class Queue:\n",
    "    def __init__(self):\n",
    "        self.items = []\n",
    "    \n",
    "    def enqueue(self, item):\n",
    "        \"\"\"データをキューに追加\"\"\"\n",
    "        self.items.append(item)\n",
    "        print(f\"enqueue {item}: {self.items}\")\n",
    "    \n",
    "    def dequeue(self):\n",
    "        \"\"\"データをキューから取り出し\"\"\"\n",
    "        if not self.is_empty():\n",
    "            item = self.items.pop(0)\n",
    "            print(f\"dequeue: {item} → {self.items}\")\n",
    "            return item\n",
    "        return None\n",
    "    \n",
    "    def is_empty(self):\n",
    "        \"\"\"キューが空かどうかチェック\"\"\"\n",
    "        return len(self.items) == 0\n",
    "\n",
    "# 実行例\n",
    "queue = Queue()\n",
    "queue.enqueue(\"A\")\n",
    "queue.enqueue(\"B\")\n",
    "queue.enqueue(\"C\")\n",
    "queue.dequeue()\n",
    "queue.dequeue()"
   ]
  },
  {
   "cell_type": "raw",
   "id": "a53c0005-81ef-412b-856b-fae247bb87c4",
   "metadata": {},
   "source": [
    "配列 (Array / 数组)​\n",
    "特徴​​: データを表の形に並べたデータ構造\n",
    "要素​​: 1つ1つのデータ\n",
    "要素番号​​: 要素の位置を表す数字\n",
    "\n",
    "​1次元配列 (一次元数组)​\n",
    "•要素が1列に並ぶ配列\n",
    "•要素の取り出し​​: 配列名[要素番号] (例: A[3])\n",
    "\n",
    "2次元配列 (二维数组)​\n",
    "•要素が縦横に並ぶ配列\n",
    "•行​​: 要素の横の並び\n",
    "•列​​: 要素の縦の並び\n",
    "•要素の取り出し​​: 配列名[行番号, 列番号] (例: A[2, 4])"
   ]
  },
  {
   "cell_type": "code",
   "execution_count": 6,
   "id": "656d124a-b00a-404f-baed-6af0bd29e2e2",
   "metadata": {},
   "outputs": [
    {
     "name": "stdout",
     "output_type": "stream",
     "text": [
      "1次元配列: ['佐藤', '田中', '鈴木', '高橋']\n",
      "A[3] = 鈴木\n",
      "\n",
      "2次元配列: [['佐藤', '女性', '25歳', '東京都'], ['田中', '男性', '30歳', '大阪府']]\n",
      "A[2,4] = 大阪府\n"
     ]
    }
   ],
   "source": [
    "# 【実装】配列の操作\n",
    "# 1次元配列\n",
    "one_d_array = [\"佐藤\", \"田中\", \"鈴木\", \"高橋\"]\n",
    "print(f\"1次元配列: {one_d_array}\")\n",
    "print(f\"A[3] = {one_d_array[2]}\")  # 要素番号3のデータ（0-indexedなので注意）\n",
    "\n",
    "# 2次元配列\n",
    "two_d_array = [\n",
    "    [\"佐藤\", \"女性\", \"25歳\", \"東京都\"],\n",
    "    [\"田中\", \"男性\", \"30歳\", \"大阪府\"]\n",
    "]\n",
    "print(f\"\\n2次元配列: {two_d_array}\")\n",
    "print(f\"A[2,4] = {two_d_array[1][3]}\")  # 2行目4列目のデータ"
   ]
  },
  {
   "cell_type": "raw",
   "id": "940c0576-a5b5-44b8-8e36-1c34e80afbf2",
   "metadata": {},
   "source": [
    "連結リスト (Linked List / 链表)\n",
    "特徴​​: データを数珠つなぎに並べたデータ構造\n",
    "要素​​: データ + ポインタ​\n",
    "•ポインタ​​: 次の要素のアドレスを指し示す"
   ]
  },
  {
   "cell_type": "raw",
   "id": "f7cb8d69-d0be-416a-996e-97b5c9568fd0",
   "metadata": {},
   "source": [
    "方向性による分類"
   ]
  },
  {
   "cell_type": "markdown",
   "id": "38813bef-69c4-4686-997b-1642027d2bca",
   "metadata": {},
   "source": [
    "| 種類 | 英语             | 中文     |\n",
    "|:-----|:-----------------|:---------|\n",
    "| 単方向リスト | Singly Linked List | 单向链表 |\n",
    "| 双方向リスト | Doubly Linked List | 双向链表 |"
   ]
  },
  {
   "cell_type": "raw",
   "id": "c0cd0858-6ec9-458c-ae7f-c1a18ac9ad09",
   "metadata": {},
   "source": [
    "形による分類​"
   ]
  },
  {
   "cell_type": "markdown",
   "id": "d3f3711b-72ab-4744-9b96-87c0406b50ad",
   "metadata": {},
   "source": [
    "| 種類 | 英语          | 中文     |\n",
    "|:-----|:--------------|:---------|\n",
    "| 線形リスト | Linear List   | 线性链表 |\n",
    "| 環状リスト | Circular List | 环形链表 |"
   ]
  },
  {
   "cell_type": "raw",
   "id": "d33bb46a-72bb-4ad7-af02-867b800c19cc",
   "metadata": {},
   "source": [
    "配列との比較​"
   ]
  },
  {
   "cell_type": "markdown",
   "id": "576857ba-b200-4faf-abd0-a27e3c7fa024",
   "metadata": {},
   "source": [
    "| 特性         | 配列                 | 連結リスト                     |\n",
    "|:-------------|:---------------------|:-----------------------------|\n",
    "| データアクセス | 直接アクセス可能       | 先頭から順にたどる必要がある     |\n",
    "| 挿入・削除     | 後ろの要素を全て移動   | ポインタの変更のみ             |\n",
    "| 処理時間       | 要素数に比例           | アクセスに時間がかかる           |"
   ]
  },
  {
   "cell_type": "raw",
   "id": "efeea3be-fd24-441e-8c60-850e81f8efeb",
   "metadata": {},
   "source": [
    "木構造 (Tree Structure / 树结构)​\n",
    "特徴​​: 階層構造を持つデータ構造"
   ]
  },
  {
   "cell_type": "raw",
   "id": "23158583-80d2-48ba-ba1d-a7ca04409e34",
   "metadata": {},
   "source": [
    "木構造の各部名称​"
   ]
  },
  {
   "cell_type": "markdown",
   "id": "711c41a1-1948-4b81-acb3-e24c223e7e8c",
   "metadata": {},
   "source": [
    "| 用語 | 英語 | 中文 |\n",
    "|:-----|:-----|:-----|\n",
    "| 節   | Node | 节点 |\n",
    "| 根   | Root | 根节点 |\n",
    "| 葉   | Leaf | 叶节点 |"
   ]
  },
  {
   "cell_type": "raw",
   "id": "55446cee-7470-4018-ae04-3b06fbae3d5a",
   "metadata": {},
   "source": [
    "​木構造の分類​"
   ]
  },
  {
   "cell_type": "markdown",
   "id": "4d10ae5f-5647-4ce5-b107-bc96a41d86f6",
   "metadata": {},
   "source": [
    "| 種類 | 英語          | 中文 | 説明             |\n",
    "|:-----|:--------------|:-----|:-----------------|\n",
    "| 2分木 | Binary Tree   | 二叉树 | 親が0～2個の子を持つ |\n",
    "| 3分木 | Ternary Tree  | 三叉树 | 親が0～3個の子を持つ |\n",
    "| n分木 | n-ary Tree    | n叉树  | 親が0～n個の子を持つ |"
   ]
  },
  {
   "cell_type": "raw",
   "id": "40ef8371-e36b-4eea-acc8-d28b50aca3c2",
   "metadata": {},
   "source": [
    "2分探索木 (二叉搜索树)\n",
    "特徴​​: 左の子孫 < 親 < 右の子孫​\n",
    "子孫​​: 親よりも下にあるデータ"
   ]
  },
  {
   "cell_type": "code",
   "execution_count": 7,
   "id": "664cd2b8-9682-427a-bef3-bbea76203917",
   "metadata": {},
   "outputs": [
    {
     "name": "stdout",
     "output_type": "stream",
     "text": [
      "2分探索木の構造:\n",
      "     50\n",
      "   /    \\\n",
      "  30      70\n",
      " / \\    / \\\n",
      "20  40  60  80\n"
     ]
    }
   ],
   "source": [
    "# 【実装】2分探索木のノード\n",
    "class TreeNode:\n",
    "    def __init__(self, value):\n",
    "        self.value = value\n",
    "        self.left = None\n",
    "        self.right = None\n",
    "\n",
    "# 2分探索木の挿入例\n",
    "root = TreeNode(50)\n",
    "root.left = TreeNode(30)\n",
    "root.right = TreeNode(70)\n",
    "root.left.left = TreeNode(20)\n",
    "root.left.right = TreeNode(40)\n",
    "root.right.left = TreeNode(60)\n",
    "root.right.right = TreeNode(80)\n",
    "\n",
    "print(\"2分探索木の構造:\")\n",
    "print(f\"     {root.value}\")\n",
    "print(f\"   /    \\\\\")\n",
    "print(f\"  {root.left.value}      {root.right.value}\")\n",
    "print(f\" / \\\\    / \\\\\")\n",
    "print(f\"{root.left.left.value}  {root.left.right.value}  {root.right.left.value}  {root.right.right.value}\")"
   ]
  },
  {
   "cell_type": "raw",
   "id": "87dab69f-20eb-431b-8494-256d0474aa55",
   "metadata": {},
   "source": [
    "二叉搜索树首先是一棵​​二叉树​​，在此基础上，它有一个严格的、用于“搜索”的排序规则。\n",
    "它的核心特征（定义）如下：\n",
    "对于树中的​​任意一个节点​​：\n",
    "1.左子树规则：​​ 该节点​​左子树​​上的​​所有​​节点的值，都​​小于​​这个节点本身的值。\n",
    "2.右子树规则：​​ 该节点​​右子树​​上的​​所有​​节点的值，都​​大于​​这个节点本身的值。\n",
    "3.递归性：​​ 这个规则不仅适用于根节点，而且适用于其左、右子树，即​​所有子树也都是二叉搜索树​​。\n",
    "这个定义是​​递归的​​，意味着树中的每一个节点都可以被看作是一棵子树的根，而这棵子树本身也必须遵守同样的规则。\n",
    "\n",
    "如何判断一棵二叉树是否是二叉搜索树？\n",
    "利用BST的性质——中序遍历序列为升序​\n",
    "1.对二叉树进行​​中序遍历​​（In-order Traversal：左子树 -> 根节点 -> 右子树）。\n",
    "2.在遍历过程中，​​检查当前访问到的节点的值是否总是大于前一个访问到的节点的值​​。\n",
    "3.如果整个遍历过程中都满足这个条件，那么这棵树就是BST；否则，它不是。"
   ]
  },
  {
   "cell_type": "raw",
   "id": "0668119b-b2bd-46a5-a032-cd3da2cdb4a8",
   "metadata": {},
   "source": [
    "アルゴリズム"
   ]
  },
  {
   "cell_type": "markdown",
   "id": "88b9280e-8c30-43dc-b4be-085aae17cfa7",
   "metadata": {},
   "source": [
    "| 表現方法       | 英語                    | 中国语     | 特徴                                             |\n",
    "|:---------------|:------------------------|:-----------|:-------------------------------------------------|\n",
    "| 文章           | Text                    | 文字描述   | 数学記号と文字だけで理解可能                       |\n",
    "| 流れ図         | Flowchart               | 流程图     | 視覚的にわかりやすい                               |\n",
    "| 数式           | Mathematical Expression | 数学表达式 | 関数として簡潔に表現                             |\n",
    "| プログラム言語 | Programming Language    | 编程语言   | コンピュータが直接理解できる                       |"
   ]
  },
  {
   "cell_type": "raw",
   "id": "9ce19265-dfc4-436b-afc9-fdc1f4bbf76c",
   "metadata": {},
   "source": [
    "アルゴリズムの分類 (Algorithm Classification)​"
   ]
  },
  {
   "cell_type": "markdown",
   "id": "721b7618-b95c-4a74-97ab-df3f78c0b551",
   "metadata": {},
   "source": [
    "| アルゴリズム       | 英語               | 中国语   | 説明                                   |\n",
    "|:-------------------|:-------------------|:---------|:---------------------------------------|\n",
    "| 整列アルゴリズム   | Sorting Algorithm  | 排序算法 | データを特定の順番に並べるアルゴリズム   |\n",
    "| 探索アルゴリズム   | Search Algorithm   | 搜索算法 | 特定のデータを見つけ出すアルゴリズム     |\n",
    "| 再帰的アルゴリズム | Recursive Algorithm | 递归算法 | 処理の途中で自分自身を呼び出すアルゴリズム |"
   ]
  },
  {
   "cell_type": "raw",
   "id": "c2a1f9dd-720f-4faa-b6d8-048102b93f95",
   "metadata": {},
   "source": [
    "整列アルゴリズム (Sorting Algorithms)\n",
    "​​目的​​: データを特定の順番（昇順または降順）に並べ替える​"
   ]
  },
  {
   "cell_type": "markdown",
   "id": "23159e79-c564-412f-b3cf-2fcd1f5a7849",
   "metadata": {},
   "source": [
    "| アルゴリズム | 英語            | 中国语 | 解説                                                                                                                               |\n",
    "|:-------------|:----------------|:-------|:---------------------------------------------------------------------------------------------------------------------------------|\n",
    "| バブルソート | Bubble Sort     | 冒泡排序 | 配列の先頭から順に、隣り合ったデータを比較して、順序が違っていたら交換することを繰り返す                                           |\n",
    "| 選択ソート   | Selection Sort  | 选择排序 | 配列の先頭から順に、データを比較して最小値を選択し、選択した最小値を先頭のデータと交換することを繰り返す                           |\n",
    "| 挿入ソート   | Insertion Sort  | 插入排序 | 整列済みの要素を持つ配列に対して、未整列のデータを適切な場所に挿入する                                                             |\n",
    "| クイックソート | Quick Sort      | 快速排序 | 「基準値よりも小さいグループ」と「基準値よりも大きいグループ」の2つに分け、分けたグループに対しても同じ手順を繰り返す                 |"
   ]
  },
  {
   "cell_type": "raw",
   "id": "cbfe1de3-300f-48d8-bf11-8ec190d9c1f9",
   "metadata": {},
   "source": [
    "クイックソートの詳細 (Quick Sort Details)\n",
    "手法​​: 分割統治法 (Divide and Conquer) の一種​\n",
    "プロセス​​:\n",
    "1.基準値（ピボット）を選択\n",
    "2.データを基準値より小さいグループと大きいグループに分割\n",
    "3.各グループに対して同じ処理を再帰的に適用"
   ]
  },
  {
   "cell_type": "code",
   "execution_count": 11,
   "id": "6a0e5a7d-8de3-474f-8ea6-df6bbd73caf0",
   "metadata": {},
   "outputs": [
    {
     "name": "stdout",
     "output_type": "stream",
     "text": [
      "原始数据: [3, 7, 1, 9, 2, 8, 5, 4, 6]\n",
      "==================================================\n",
      "┌── 深度 0: 排序数组: [3, 7, 1, 9, 2, 8, 5, 4, 6]\n",
      "├── 选择基准值: arr[4] = 2\n",
      "├── 分区结果:\n",
      "│   left: [1]\n",
      "│   middle: [2]\n",
      "│   right: [3, 7, 9, 8, 5, 4, 6]\n",
      "├── 递归排序左子数组: [1]\n",
      "  ┌── 深度 1: 排序数组: [1]\n",
      "  └── 基本情况返回: [1]\n",
      "├── 递归排序右子数组: [3, 7, 9, 8, 5, 4, 6]\n",
      "  ┌── 深度 1: 排序数组: [3, 7, 9, 8, 5, 4, 6]\n",
      "  ├── 选择基准值: arr[3] = 8\n",
      "  ├── 分区结果:\n",
      "  │   left: [3, 7, 5, 4, 6]\n",
      "  │   middle: [8]\n",
      "  │   right: [9]\n",
      "  ├── 递归排序左子数组: [3, 7, 5, 4, 6]\n",
      "    ┌── 深度 2: 排序数组: [3, 7, 5, 4, 6]\n",
      "    ├── 选择基准值: arr[2] = 5\n",
      "    ├── 分区结果:\n",
      "    │   left: [3, 4]\n",
      "    │   middle: [5]\n",
      "    │   right: [7, 6]\n",
      "    ├── 递归排序左子数组: [3, 4]\n",
      "      ┌── 深度 3: 排序数组: [3, 4]\n",
      "      ├── 选择基准值: arr[1] = 4\n",
      "      ├── 分区结果:\n",
      "      │   left: [3]\n",
      "      │   middle: [4]\n",
      "      │   right: []\n",
      "      ├── 递归排序左子数组: [3]\n",
      "        ┌── 深度 4: 排序数组: [3]\n",
      "        └── 基本情况返回: [3]\n",
      "      ├── 递归排序右子数组: []\n",
      "        ┌── 深度 4: 排序数组: []\n",
      "        └── 基本情况返回: []\n",
      "      └── 合并结果: [3] + [4] + [] = [3, 4]\n",
      "    ├── 递归排序右子数组: [7, 6]\n",
      "      ┌── 深度 3: 排序数组: [7, 6]\n",
      "      ├── 选择基准值: arr[1] = 6\n",
      "      ├── 分区结果:\n",
      "      │   left: []\n",
      "      │   middle: [6]\n",
      "      │   right: [7]\n",
      "      ├── 递归排序左子数组: []\n",
      "        ┌── 深度 4: 排序数组: []\n",
      "        └── 基本情况返回: []\n",
      "      ├── 递归排序右子数组: [7]\n",
      "        ┌── 深度 4: 排序数组: [7]\n",
      "        └── 基本情况返回: [7]\n",
      "      └── 合并结果: [] + [6] + [7] = [6, 7]\n",
      "    └── 合并结果: [3, 4] + [5] + [6, 7] = [3, 4, 5, 6, 7]\n",
      "  ├── 递归排序右子数组: [9]\n",
      "    ┌── 深度 2: 排序数组: [9]\n",
      "    └── 基本情况返回: [9]\n",
      "  └── 合并结果: [3, 4, 5, 6, 7] + [8] + [9] = [3, 4, 5, 6, 7, 8, 9]\n",
      "└── 合并结果: [1] + [2] + [3, 4, 5, 6, 7, 8, 9] = [1, 2, 3, 4, 5, 6, 7, 8, 9]\n",
      "==================================================\n",
      "最终排序结果: [1, 2, 3, 4, 5, 6, 7, 8, 9]\n"
     ]
    }
   ],
   "source": [
    "def quick_sort(arr, depth=0):\n",
    "    \"\"\"带详细输出的快速排序实现\"\"\"\n",
    "    indent = \"  \" * depth  # 根据递归深度创建缩进\n",
    "    \n",
    "    # 打印当前递归状态\n",
    "    print(f\"{indent}┌── 深度 {depth}: 排序数组: {arr}\")\n",
    "    \n",
    "    # 基本情况：数组长度小于等于1时直接返回\n",
    "    if len(arr) <= 1:\n",
    "        print(f\"{indent}└── 基本情况返回: {arr}\")\n",
    "        return arr\n",
    "    \n",
    "    # 选择基准值（这里选择中间元素）\n",
    "    pivot_index = len(arr) // 2\n",
    "    pivot = arr[pivot_index]\n",
    "    print(f\"{indent}├── 选择基准值: arr[{pivot_index}] = {pivot}\")\n",
    "    \n",
    "    # 修复分区操作 - 使用正确的变量名和逻辑\n",
    "    left = [x for x in arr if x < pivot]\n",
    "    middle = [x for x in arr if x == pivot]\n",
    "    right = [x for x in arr if x > pivot]\n",
    "    \n",
    "    # 打印分区结果\n",
    "    print(f\"{indent}├── 分区结果:\")\n",
    "    print(f\"{indent}│   left: {left}\")\n",
    "    print(f\"{indent}│   middle: {middle}\")\n",
    "    print(f\"{indent}│   right: {right}\")\n",
    "    \n",
    "    # 递归排序左右子数组\n",
    "    print(f\"{indent}├── 递归排序左子数组: {left}\")\n",
    "    sorted_left = quick_sort(left, depth + 1)\n",
    "    \n",
    "    print(f\"{indent}├── 递归排序右子数组: {right}\")\n",
    "    sorted_right = quick_sort(right, depth + 1)\n",
    "    \n",
    "    # 合并结果\n",
    "    result = sorted_left + middle + sorted_right\n",
    "    print(f\"{indent}└── 合并结果: {sorted_left} + {middle} + {sorted_right} = {result}\")\n",
    "    \n",
    "    return result\n",
    "\n",
    "# 测试数据\n",
    "data = [3, 7, 1, 9, 2, 8, 5, 4, 6]\n",
    "print(\"原始数据:\", data)\n",
    "print(\"=\" * 50)\n",
    "\n",
    "sorted_data = quick_sort(data)\n",
    "print(\"=\" * 50)\n",
    "print(\"最终排序结果:\", sorted_data)"
   ]
  },
  {
   "cell_type": "raw",
   "id": "b69b3326-bf78-4f03-ba35-1eec1a344190",
   "metadata": {},
   "source": [
    "探索アルゴリズム (Search Algorithms)\n",
    "目的​​: 特定のデータを見つけ出す​"
   ]
  },
  {
   "cell_type": "markdown",
   "id": "ed2a3766-63ca-40f9-925e-4a66594d72b6",
   "metadata": {},
   "source": [
    "| アルゴリズム | 英語          | 中国語 | 解説                                                                                     |\n",
    "|:-------------|:--------------|:-------|:-----------------------------------------------------------------------------------------|\n",
    "| 線形探索法   | Linear Search | 线性搜索 | 先頭のデータから順番に1つずつ照合することで目的のデータを見つける、単純な探索アルゴリズム         |\n",
    "| ハッシュ法   | Hash Method   | 哈希法   | ハッシュ表を使って目的のデータを見つける探索アルゴリズム                                     |\n",
    "| 2分探索法    | Binary Search | 二分搜索 | 調べる範囲を半分に切り分けながら目的のデータを見つける探索アルゴリズム                         |"
   ]
  },
  {
   "cell_type": "raw",
   "id": "28024717-46d1-4929-96d7-9beb8bacc126",
   "metadata": {},
   "source": [
    "ハッシュ法の詳細 (Hash Method Details)​\n",
    "別名​​: ハッシュ表探索法\n",
    "手法​​: 探索対象のデータをハッシュ値に変換し、このハッシュ値を使って目的のデータを見つける\n",
    "ハッシュ法の弱点: 衝突 (Collision) - 異なる入力値が同じハッシュ値になる場合​"
   ]
  },
  {
   "cell_type": "raw",
   "id": "21b4cdd7-8744-4fe9-a581-515fff837a0c",
   "metadata": {},
   "source": [
    "アルゴリズムの計算量解析 (Algorithm Complexity Analysis)​\n",
    "オーダー記法 (Order Notation / 大O表示法)​\n",
    "定義​​: データ数nと計算量の関係を表す記法\n",
    "書式​​: O(計算量を表す数式)\n",
    "例​​: O(n), O(log n), O(n²)"
   ]
  },
  {
   "cell_type": "raw",
   "id": "765f1912-5524-4785-9d27-d4c15fcd782a",
   "metadata": {},
   "source": [
    "​2分探索法の計算量 (Binary Search Complexity)\n",
    "2分探索法のオーダー: O(log₂n) または O(log n)\n",
    "対数計算の特徴​ - ​​​データ数が増えても計算回数は緩やかに増加​-非常に効率的なアルゴリズム​​"
   ]
  },
  {
   "cell_type": "markdown",
   "id": "939a2a4f-2d28-45a2-a643-2b33935ed8fe",
   "metadata": {},
   "source": [
    "| アルゴリズム | 時間計算量 | 中国語   | 特徴                             |\n",
    "|:-------------|:----------:|:---------|:---------------------------------|\n",
    "| ハッシュ法   | O(1)       | 哈希法   | データ数に関わらず常に一定時間     |\n",
    "| 2分探索法    | O(log n)   | 二分搜索法 | データ数が増えても効率が良い       |\n",
    "| 線形探索法   | O(n)       | 线性搜索法 | データ数に比例して時間が増加       |\n",
    "| クイックソート | O(n log n) | 快速排序  | 効率的なソートアルゴリズム         |"
   ]
  },
  {
   "cell_type": "raw",
   "id": "5e51b9d3-612f-494e-9117-c6e32677ab6b",
   "metadata": {},
   "source": [
    "アルゴリズムの比較表​​"
   ]
  },
  {
   "cell_type": "markdown",
   "id": "f2b6fe7b-452c-41e3-8ec9-f5fa12d9b407",
   "metadata": {},
   "source": [
    "| アルゴリズム | 平均時間計算量 | 最悪時間計算量 | 特徴                               |\n",
    "|:-------------|:--------------:|:--------------:|:-----------------------------------|\n",
    "| バブルソート | O(n²)          | O(n²)          | 実装が簡単だが効率が悪い             |\n",
    "| 選択ソート   | O(n²)          | O(n²)          | バブルソートよりやや効率的           |\n",
    "| 挿入ソート   | O(n²)          | O(n²)          | ほぼ整列済みのデータに強い           |\n",
    "| クイックソート | O(n log n)     | O(n²)          | 平均的には最も効率的                 |\n",
    "| 線形探索     | O(n)           | O(n)           | データが整列されていなくても使用可能 |\n",
    "| 2分探索      | O(log n)       | O(log n)       | データが整列されている必要がある     |\n",
    "| ハッシュ法   | O(1)           | O(n)           | 衝突がなければ非常に高速             |"
   ]
  },
  {
   "cell_type": "raw",
   "id": "137b1a2a-2ff6-49eb-ad7d-8d0ba739f64b",
   "metadata": {},
   "source": [
    "搜索算法 (Searching Algorithms) 时间复杂度"
   ]
  },
  {
   "cell_type": "markdown",
   "id": "e8d97cc5-2ed6-4a21-8637-a1d907955057",
   "metadata": {},
   "source": [
    "| 算法 | 平均 | 最坏 | 原因分析 |\n",
    "|:-----|:--------------:|:--------------:|:---------|\n",
    "| 線形探索 (Linear Search) | O(n) | O(n) | **原理：** 从第一个元素开始，逐个检查每个元素，直到找到目标。<br>**为什么是O(n)：** 最坏情况下（目标在最后或不存在），你需要检查每一个元素。检查次数与n成正比。 |\n",
    "| 2分探索 (Binary Search) | O(log n) | O(log n) | **原理：** 要求数据已排序。每次检查中间元素，如果不对，就排除掉一半的搜索范围。<br>**为什么是O(log n)：** 每次比较都能使搜索范围减半。n个元素最多只需要 log₂(n) 次比较就能找到目标或确认不存在。 |\n",
    "| ハッシュ法 (Hashing) | O(1) | O(n) | **原理：** 通过一个哈希函数，直接计算出数据应该存储的位置。<br>**平均O(1)：** 理想情况下，没有冲突，一次计算就能找到数据。<br>**最坏O(n)：** 如果所有数据都发生哈希冲突，都堆在同一个位置，那就退化成了线性查找。 |"
   ]
  },
  {
   "cell_type": "raw",
   "id": "cd629cec-274d-4c3d-affe-4965f24555dc",
   "metadata": {},
   "source": [
    "排序算法 (Sorting Algorithms) 时间复杂度"
   ]
  },
  {
   "cell_type": "markdown",
   "id": "8d65f8fb-44de-44e2-8665-7452dc9a45ca",
   "metadata": {},
   "source": [
    "| 算法 | 平均时间复杂度 | 最坏时间复杂度 | 原因分析 |\n",
    "|:-----|:--------------:|:--------------:|:---------|\n",
    "| バブルソート (Bubble Sort) | O(n²) | O(n²) | **原理：** 重复遍历列表，比较相邻元素，如果顺序错误就交换它们，直到没有需要交换的元素为止。<br>**为什么是O(n²)：** 对于n个元素，最坏情况下需要进(n-1) + (n-2) + ... + 1 ≈ n²/2次比较。这是一个嵌套循环的经典例子。 |\n",
    "| 選択ソート (Selection Sort) | O(n²) | O(n²) | **原理：** 每次从未排序的部分中找到最小（或最大）的元素，放到已排序序列的末尾。<br>**为什么是O(n²)：** 找第一个最小值需要比较n次，找第二个需要比较n-1次...总共需要 n + (n-1) + ... + 1 ≈ n²/2 次比较。 |\n",
    "| 挿入ソート (Insertion Sort) | O(n²) | O(n²) | **原理：** 构建有序序列，对于未排序数据，在已排序序列中从后向前扫描，找到相应位置并插入。<br>**为什么是O(n²)：** 最坏情况下（数据完全逆序），每个新元素都需要和前面所有的已排序元素比较并移动。<br>**特征：** 对“几乎有序”的数据效率很高，此时接近O(n)。 |\n",
    "| クイックソート (Quick Sort) | O(n log n) | O(n²) | **原理：** 分治法（Divide and Conquer）。选一个“基准”，将数据分成“比基准小”和“比基准大”的两部分，再对这两部分递归地进行快速排序。<br>**平均O(n log n)：** 如果每次划分都比较平均，递归树有log n层，每层需要处理n个元素。<br>**最坏O(n²)：** 如果每次选的基准都是最大或最小值，导致划分极度不平衡，递归树就退化成一条n层的链。 |"
   ]
  },
  {
   "cell_type": "raw",
   "id": "20759d26-8c42-471f-a8b5-7b1d6cbe1d3c",
   "metadata": {},
   "source": [
    "プログラムの性質 (Program Properties)​"
   ]
  },
  {
   "cell_type": "markdown",
   "id": "ee2472e8-07fd-4948-a22d-ce54d47bad96",
   "metadata": {},
   "source": [
    "| 性質 | 英語 | 中国語 | 核心的な特徴 |\n",
    "|:-----|:-----|:-------|:-------------|\n",
    "| 再帰 (Recursive) | Recursive | 递归性 | プログラムが自分自身を呼び出すことができる |\n",
    "| 再入可能 (Reentrant) | Reentrant | 可重入性 | 複数のプログラムから同時に呼び出されても正しく動作する |\n",
    "| 再配置可能 (Relocatable) | Relocatable | 可重定位性 | 主記憶装置の任意の位置で実行できる |\n",
    "| 再使用可能 (Reusable) | Reusable | 可重用性 | 一度読み込めば何度でも繰り返し実行できる |"
   ]
  },
  {
   "cell_type": "raw",
   "id": "b32384bf-97d5-4a00-9ab8-b68b3065a54f",
   "metadata": {},
   "source": [
    "Java関連用語の比較表​​"
   ]
  },
  {
   "cell_type": "markdown",
   "id": "735864ed-97cb-4cf4-9966-e4b495b2bcb0",
   "metadata": {},
   "source": [
    "| 用語 | 英語 | 中国語 | 説明 |\n",
    "|:-----|:-----|:-------|:-----|\n",
    "| Java | Java | Java语言 | 機種やOSに依存しないソフトウェアを開発できるプログラム言語 |\n",
    "| Javaアプリケーション | Java Application | Java应用程序 | Javaで書かれたアプリケーションソフトウェア |\n",
    "| Javaアプレット | Java Applet | Java小程序 | サーバからダウンロードしてクライアントのWebブラウザ上で実行されるプログラム |\n",
    "| Javaサーブレット | Java Servlet | Java Servlet | サーバ上で実行され、動的なWebページを作るためのプログラム |\n",
    "| JavaBeans | JavaBeans | Java组件 | よく使われる機能を部品化し、再利用できるようにする仕様 |\n",
    "| JavaScript | JavaScript | JavaScript | 動的なWebページを作るためのプログラム言語（Javaとは別物） |"
   ]
  },
  {
   "cell_type": "raw",
   "id": "09b20043-efc0-487c-9c9b-fdc0a93f9909",
   "metadata": {},
   "source": [
    "基本情報技術者試験 - 出題頻度高い技術"
   ]
  },
  {
   "cell_type": "markdown",
   "id": "0eafdbc5-4c24-4a50-8fb6-994036e34f9c",
   "metadata": {},
   "source": [
    "| 技術 | 英語 | 中国語 | 出題頻度 |\n",
    "|:-----|:-----|:-------|:---------|\n",
    "| XML | eXtensible Markup Language | 可扩展标记语言 | 高 |\n",
    "| CSS | Cascading Style Sheets | 层叠样式表 | 高 |\n",
    "| Ajax | Asynchronous JavaScript + XML | 异步JavaScript和XML | 高 |"
   ]
  },
  {
   "cell_type": "raw",
   "id": "3213f07a-5d2b-4c95-bf23-18fdae592d4b",
   "metadata": {},
   "source": [
    "Ajax (Asynchronous JavaScript + XML)​"
   ]
  },
  {
   "cell_type": "code",
   "execution_count": null,
   "id": "a7edf26f-7c2e-4f22-bd98-e1d9d88cf0c6",
   "metadata": {},
   "outputs": [],
   "source": []
  }
 ],
 "metadata": {
  "kernelspec": {
   "display_name": "Python 3 (ipykernel)",
   "language": "python",
   "name": "python3"
  },
  "language_info": {
   "codemirror_mode": {
    "name": "ipython",
    "version": 3
   },
   "file_extension": ".py",
   "mimetype": "text/x-python",
   "name": "python",
   "nbconvert_exporter": "python",
   "pygments_lexer": "ipython3",
   "version": "3.11.6"
  }
 },
 "nbformat": 4,
 "nbformat_minor": 5
}
