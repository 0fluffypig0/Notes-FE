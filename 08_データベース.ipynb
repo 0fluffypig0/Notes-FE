{
  "metadata": {
    "kernelspec": {
      "name": "xpython",
      "display_name": "Python 3.13 (XPython)",
      "language": "python"
    },
    "language_info": {
      "file_extension": ".py",
      "mimetype": "text/x-python",
      "name": "python",
      "version": "3.13.1"
    }
  },
  "nbformat_minor": 5,
  "nbformat": 4,
  "cells": [
    {
      "id": "013a0633-d785-4f18-ae5d-f61fc1b5b6e8",
      "cell_type": "markdown",
      "source": "---",
      "metadata": {}
    },
    {
      "id": "0a25718c-e87b-4b0c-8a5a-7a02e4e0c858",
      "cell_type": "markdown",
      "source": "# データベース (Database)",
      "metadata": {}
    },
    {
      "id": "d7e38b75-def5-4b1f-8f36-5120a2e0c06f",
      "cell_type": "markdown",
      "source": "---",
      "metadata": {}
    },
    {
      "id": "40725dca-f32a-4a7a-a34d-170c9339dcd2",
      "cell_type": "markdown",
      "source": "## データベースの基本概念 (Basic Concepts of Database)",
      "metadata": {}
    },
    {
      "id": "227ac3ec-c8b2-4c1e-b0c4-a0bca7655d37",
      "cell_type": "markdown",
      "source": "- **定義**: 情報（データ）の**集まり** (A collection of information / 信息的集合)\n- **語源**: \"ベース\"には「本拠地」「基盤となる場所」という意味がある (\"Base\" means \"headquarters\" or \"fundamental place\" / \"Base\"有\"总部\"、\"基础场所\"之意)\n- **目的**: データを**一元管理** (Unified Management / 统一管理) できるようにする",
      "metadata": {}
    },
    {
      "id": "578cbc13-b3f5-4d8e-93ad-22737dac0d86",
      "cell_type": "markdown",
      "source": "## データモデル (Data Model / 数据模型)",
      "metadata": {}
    },
    {
      "id": "6388aadc-ead3-4da0-8faa-817f57e7b459",
      "cell_type": "markdown",
      "source": "- **定義**: 現実世界にある複雑なデータの**相互関係** (Interrelationships / 相互关系) を分かりやすく表した**設計図** (Blueprint / 设计图)\n- **必要性**: 現実のデータは複雑で、何の計画もなく集めると使い物にならない。まず相互関係を整理する必要がある",
      "metadata": {}
    },
    {
      "id": "5061bb90-b37b-4ab5-83b5-1a2216edd448",
      "cell_type": "markdown",
      "source": "### データモデリング (Data Modeling / 数据建模)",
      "metadata": {}
    },
    {
      "id": "ae9e01b0-4e43-4164-b31f-a11a773c0b5a",
      "cell_type": "markdown",
      "source": "- **定義**: 現実世界のデータの相互関係を整理する作業\n- **成果物**: データモデル（図）\n- **実装**: データモデルをコンピュータ上に実装したものが**データベース**",
      "metadata": {}
    },
    {
      "id": "7f5acc62-d7e8-4585-bb5e-06aa1ea50481",
      "cell_type": "markdown",
      "source": "### データモデルの種類",
      "metadata": {}
    },
    {
      "id": "05a1b38c-2467-4222-982b-c3e6b87e40be",
      "cell_type": "markdown",
      "source": "- **関係データモデル** (Relational Data Model / 关系数据模型)\n- **階層データモデル** (Hierarchical Data Model / 层次数据模型)\n- **ネットワークデータモデル** (Network Data Model / 网状数据模型)",
      "metadata": {}
    },
    {
      "id": "217f3c95-b5da-47a6-b18d-31ebbb19e749",
      "cell_type": "markdown",
      "source": "## 関係データモデル (Relational Data Model / 关系数据模型) ",
      "metadata": {}
    },
    {
      "id": "8bf83bf8-aed3-490f-86ad-38a14e43af92",
      "cell_type": "markdown",
      "source": "### 基本構造",
      "metadata": {}
    },
    {
      "id": "d27b3b4c-bfff-42cf-b19c-648e9a78e730",
      "cell_type": "markdown",
      "source": "- データの集まりを**表** (Table / 表) で表現する\n- この「表」によってデータとデータの**関係** (Relationship / 关系) を表す",
      "metadata": {}
    },
    {
      "id": "9a664965-63fe-4735-98fb-1bee7d397e19",
      "cell_type": "markdown",
      "source": "### 関係データモデルの構成要素",
      "metadata": {}
    },
    {
      "id": "d61b7575-4028-4e91-9f48-f0b71dae14fd",
      "cell_type": "markdown",
      "source": "| 用語 | 英語 | 中国語 | 説明 |\n|------|------|--------|------|\n| **表 (テーブル)** | Table | 表 | データを格納する基本的な構造 |\n| **行 (レコード)** | Row, Record, Tuple | 行, 记录 | 一つのデータの実体（例：一人の顧客情報） |\n| **列 (カラム/属性)** | Column, Attribute, Field | 列, 属性, 字段 | データの項目（例：顧客ID、氏名、年齢） |\n| **主キー (Primary Key)** | Primary Key (PK) | 主键 | 各行を**一意に識別** (Uniquely Identify / 唯一标识) できる列（例：顧客ID）。**重複やNULL禁止** |\n",
      "metadata": {}
    },
    {
      "id": "0e379aee-5505-408a-899f-054ea872dbe1",
      "cell_type": "markdown",
      "source": "### 主キーの特徴",
      "metadata": {}
    },
    {
      "id": "e2b90ee1-b683-493a-9a38-f6f870551794",
      "cell_type": "markdown",
      "source": "- **一意性**: 同じ値を持つ行が存在してはいけない\n- **非NULL**: NULL（空）値を取ってはいけない\n- **最小性**: 行を一意に識別するのに必要な最小限の列で構成される",
      "metadata": {}
    },
    {
      "id": "22f09351-bd3e-4758-a28f-8754a33cc145",
      "cell_type": "markdown",
      "source": "---",
      "metadata": {}
    },
    {
      "id": "7c55f91c-ddf0-4d7d-9d41-0c87c93a86e8",
      "cell_type": "markdown",
      "source": "## 関係データベース",
      "metadata": {}
    },
    {
      "id": "8f74748a-b301-4253-97e8-c34c65bff9ea",
      "cell_type": "markdown",
      "source": "\n- **定義**: データを **「表」** (Table / 表) で管理するデータベース\n- **実体**: **関係データモデル** (Relational Data Model / 关系数据模型) をコンピュータ上に実装したもの\n- **特徴**: 見た目と管理方法が **表計算ソフト** (Spreadsheet Software / 电子表格软件) と非常に似ている",
      "metadata": {}
    },
    {
      "id": "073c16c1-21a0-4926-8a9e-1c5d51c85c6c",
      "cell_type": "markdown",
      "source": "## テーブルの構成要素 (Table Components)",
      "metadata": {}
    },
    {
      "id": "946b53af-d2ba-4a3c-91f4-32f749d0c7f9",
      "cell_type": "markdown",
      "source": "| 用語 | 英語 | 中国語 | 説明 | 例 |\n|------|------|--------|------|----|\n| **テーブル** | Table | 表 | データを格納する基本単位 | 学生テーブル |\n| **レコード (行)** | Row, Record | 行, 记录 | 1つのデータの実体。データ追加で**行が増える** | 1人の学生の全情報 |\n| **列 (カラム/属性)** | Column, Attribute | 列, 属性 | データの項目。**列名**を持つ。データ追加でも**数は変わらない** | 学生番号、学生名 |\n",
      "metadata": {}
    },
    {
      "id": "a50893ca-2325-4b8d-b919-07527e4cb6b8",
      "cell_type": "markdown",
      "source": "## 主キー (Primary Key)",
      "metadata": {}
    },
    {
      "id": "710ec42d-7f21-4330-81b6-31e07c6dd824",
      "cell_type": "markdown",
      "source": "- **定義**: テーブル内の**特定のレコードを一意に識別する** (Uniquely Identify a Record / 唯一标识一条记录) ための列\n- **目的**: 数万、数十万件のレコードの中から、効率的に1つのレコードを特定するために必要",
      "metadata": {}
    },
    {
      "id": "12268e69-760a-4db1-b5bb-7ac65c5b3c57",
      "cell_type": "markdown",
      "source": "### 主キーの条件",
      "metadata": {}
    },
    {
      "id": "67464048-9249-4ec2-95e5-9d13261df64c",
      "cell_type": "markdown",
      "source": "\n| No. | 条件 | 英語 | 中国語 | 理由 |\n|-----|------|------|--------|------|\n| **1** | **値が重複しない** (No Duplicate Values) | Uniqueness | 值不重复 | 重複があると特定的1行を指し示せない |\n| **2** | **NULL（空）でない** (Not NULL) | No Null Values | 非空 | NULLがあると識別子として機能しない |",
      "metadata": {}
    },
    {
      "id": "b838ce27-98cb-49ee-9b1a-70a625871716",
      "cell_type": "markdown",
      "source": "### 複合主キー (Composite Primary Key / 复合主键)",
      "metadata": {}
    },
    {
      "id": "c7bf28e7-62ae-4b82-b16b-f283dbe08a69",
      "cell_type": "markdown",
      "source": "- **定義**: 1つの列では主キーの条件を満たせない場合、**複数の列を組み合わせて**主キーとすること\n- **例**: 学校名(School Name) と 学生番号(Student ID) の組み合わせ\n  - 単独の学生番号は他校と重複する可能性があるが、学校名と組み合わせることで**一意性を確保**できる",
      "metadata": {}
    },
    {
      "id": "76338b11-8a76-4874-8135-a19bb2828164",
      "cell_type": "markdown",
      "source": "## 外部キー (Foreign Key)",
      "metadata": {}
    },
    {
      "id": "03b5d605-caea-4457-ba48-925805fe4de7",
      "cell_type": "markdown",
      "source": "- **定義**: **他のテーブルの主キーを参照する** (References the Primary Key of Another Table / 引用另一张表的主键) 列\n- **目的**: テーブル間の**リレーションシップ（関係性）** を定義する",
      "metadata": {}
    },
    {
      "id": "31df2def-6e42-48b7-afac-9e8be257e755",
      "cell_type": "markdown",
      "source": "## 参照一貫性 (Referential Integrity)",
      "metadata": {}
    },
    {
      "id": "7966be62-10a2-4573-bfe7-120f04b91e86",
      "cell_type": "markdown",
      "source": "- **定義**: 外部キーが参照している先のレコードが、**矛盾なく存在している状態**\n- **別名**: 参照整合性 (Reference Integrity / 参照完整性)",
      "metadata": {}
    },
    {
      "id": "ebd78638-7fce-408e-94b9-fb5fb846ba71",
      "cell_type": "markdown",
      "source": "---",
      "metadata": {}
    },
    {
      "id": "4e07bf77-dc7a-46f9-9ac4-88fdc51f49ed",
      "cell_type": "markdown",
      "source": "## E-R図 (Entity-Relationship Diagram / 实体-关系图)",
      "metadata": {}
    },
    {
      "id": "8f226151-87ea-4c8a-8206-841485d60987",
      "cell_type": "markdown",
      "source": "- **定義**: データの関係性を **「エンティティ（実体）」** と **「リレーションシップ（関連）」** の2概念で表した**設計図**\n- **目的**: 関係データベースを作成するための設計図として使用する",
      "metadata": {}
    },
    {
      "id": "164f09d4-2aca-473b-b4f8-ebb241113c4c",
      "cell_type": "markdown",
      "source": "### E-R図の構成",
      "metadata": {}
    },
    {
      "id": "3afb6209-2e1f-4cfd-8054-d263f82d82c4",
      "cell_type": "markdown",
      "source": "| 要素 | 英語 | 中国語 | 説明 | 例 |\n|------|------|--------|------|----|\n| **エンティティ** (Entity) | Entity | 实体 | 管理対象。**名詞**で表せるもの | 校長, 学校, 学生 |\n| **リレーションシップ** (Relationship) | Relationship | 联系 | 実体間の関係。**動詞**で表せるもの | 所属する, 受講する |",
      "metadata": {}
    },
    {
      "id": "18fe5b29-5ad4-4ac4-860d-2c05dd10dbe7",
      "cell_type": "markdown",
      "source": "## 多重度 (Multiplicity / 多重度)",
      "metadata": {}
    },
    {
      "id": "2f3e0e1e-0fb4-4b1a-85ab-1ac10978ab74",
      "cell_type": "markdown",
      "source": "- **定義**: エンティティ間の**数の関係**を表す度合い\n- **表記**: 最小値..最大値\n- **重要表記**:\n  - 1: 1つ\n  - *: 任意の整数（0以上）\n  - 0..1: 0 または 1\n  - 1..*: 1以上 (**頻出**)",
      "metadata": {}
    },
    {
      "id": "9da97e24-f9de-451d-af81-5eb13628c3dc",
      "cell_type": "markdown",
      "source": "### リレーションシップの種類 ",
      "metadata": {}
    },
    {
      "id": "a2a0817b-ffe3-4f1b-b5cf-ec7fe124688e",
      "cell_type": "markdown",
      "source": "| 関係の種類 | 多重度の例 | 英語 | 中国语 | 具体例 |\n|------------|------------|------|--------|--------|\n| **1 対 1** (One-to-One) | 1 : 1 | 1:1 Relationship | 一对一关系 | 1学校 対 1校長 |\n| **1 対 多** (One-to-Many) | 1 : 1..* | 1:N Relationship | 一对多关系 | 1学校 対 多学生 |\n| **多 対 多** (Many-to-Many) | 1..* : 1..* | M:N Relationship | 多对多关系 | 多学生 対 多科目 |",
      "metadata": {}
    },
    {
      "id": "0a187dec-aa94-423c-9d14-ad13e23a0d11",
      "cell_type": "markdown",
      "source": "## 正規化 (Normalization / 规范化)",
      "metadata": {}
    },
    {
      "id": "0b4b6f0c-5efe-443e-872a-1becae93960b",
      "cell_type": "markdown",
      "source": "### 正規化の目的",
      "metadata": {}
    },
    {
      "id": "894c7ff3-dea2-4b88-bee4-3331fa498a99",
      "cell_type": "markdown",
      "source": "- **定義**: データの**重複** (Duplication) と、更新時の**矛盾** (Inconsistency) を防ぐためにテーブルを分割すること\n- **試験頻出**: **「正規化の目的は、データが重複したり、データ更新の際に矛盾が生じたりしないようにすること」**",
      "metadata": {}
    },
    {
      "id": "46ff01d2-02ba-449c-b14a-ff9b1ddb2e5a",
      "cell_type": "markdown",
      "source": "### 非正規形 (Unnormalized Form / 非规范化形式)",
      "metadata": {}
    },
    {
      "id": "9e667408-b41b-43a9-8db2-757c2fb121c1",
      "cell_type": "markdown",
      "source": "- **特徴**: 属性に**繰り返し**（繰返し）がある状態\n- **問題点**: データ重複により、更新漏れや削除時の情報消失が発生する",
      "metadata": {}
    },
    {
      "id": "56235fb9-7cac-4bf8-b002-5967cbdd5527",
      "cell_type": "markdown",
      "source": "## 関数従属 (Functional Dependency / 函数依赖) ",
      "metadata": {}
    },
    {
      "id": "1cfd7859-08de-4c92-bd12-9401a116e5f9",
      "cell_type": "markdown",
      "source": "- **定義**: ある属性（列）の値が決まると、**他の属性の値が一意に決まる**関係\n- **表記**: →(矢印)\n- **例**: 学生番号 → 学生名(学生番号が決まれば学生名が一意に決まる)",
      "metadata": {}
    },
    {
      "id": "cbb6f0b6-65d8-4252-a819-c3b02c9c43a7",
      "cell_type": "markdown",
      "source": "### 関数従属の3類型",
      "metadata": {}
    },
    {
      "id": "f774073f-67ba-43e8-b850-1904e802302d",
      "cell_type": "markdown",
      "source": "| 類型 | 英語 | 中国語 | 説明 | 例 |\n|------|------|--------|------|----|\n| **完全関数従属** | Full Functional Dependency | 完全函数依赖 | 属性が**主キー全体**に関数従属する | 学生番号 → 学生名(主キーが学生番号のみの場合) |\n| **部分関数従属** | Partial Functional Dependency | 部分函数依赖 | 属性が**複合主キーの一部**に関数従属する | 学生番号 → 学生名(主キーが(学生番号, 試験ID)の場合) |\n| **推移的関数従属** | Transitive Functional Dependency | 传递函数依赖 | 属性が**主キー以外の属性**に関数従属する | 教員番号 → 教員名(主キーは学生番号など) |",
      "metadata": {}
    },
    {
      "id": "fb20fc84-b626-46a4-b1f6-50eb610f10fd",
      "cell_type": "markdown",
      "source": "## 正規化の過程 (Normalization Process / 规范化过程)",
      "metadata": {}
    },
    {
      "id": "501d5fc1-a362-4f01-b284-3a06acd3fc61",
      "cell_type": "markdown",
      "source": "### 第1正規形 (1NF)",
      "metadata": {}
    },
    {
      "id": "6c790311-1163-4c28-9761-835d1b0d2f7d",
      "cell_type": "markdown",
      "source": "- **条件**: **属性の繰り返しをなくす**\n- **方法**: 繰り返されている部分を別のレコード（行）として追加する\n- **結果**: 主キーが複合主キー (学生番号, 試験ID) になることが多い",
      "metadata": {}
    },
    {
      "id": "ff53a059-2957-4031-b4af-d1b1de3aa077",
      "cell_type": "markdown",
      "source": "### 第2正規形 (2NF)",
      "metadata": {}
    },
    {
      "id": "de3fdf48-5805-4d5c-bc35-9bdeb8b976c5",
      "cell_type": "markdown",
      "source": "- **条件**: **部分関数従属をなくす**\n- **方法**: 部分関数従属している属性（例: 学生名）を、元の複合主キーの一部（例: 学生番号）を主キーとする新しいテーブルに**分割する**\n- **目的**: データ重複を排除する",
      "metadata": {}
    },
    {
      "id": "5b37700a-1d70-4fc4-9661-9129ebc80541",
      "cell_type": "markdown",
      "source": "### 第3正規形 (3NF)",
      "metadata": {}
    },
    {
      "id": "f50d6e8c-1211-4310-981f-91aa6f0570bc",
      "cell_type": "markdown",
      "source": "- **条件**: **推移的関数従属をなくす**\n- **方法**: 推移的関数従属している属性（例: 教員名）を、その決定項（例: 教員番号）を主キーとする新しいテーブルに**分割する**\n- **目的**: 更新矛盾を排除する",
      "metadata": {}
    },
    {
      "id": "505de888-0f98-4f6b-8af1-4d8046a7c2a7",
      "cell_type": "markdown",
      "source": "---",
      "metadata": {}
    },
    {
      "id": "057c6ebe-ab04-44d3-bbeb-711eb7661236",
      "cell_type": "markdown",
      "source": "## データベース管理システム (DBMS)",
      "metadata": {}
    },
    {
      "id": "34150c71-1228-4f45-b2b2-dddf1b103624",
      "cell_type": "markdown",
      "source": "### DBMS",
      "metadata": {}
    },
    {
      "id": "817e07e1-b45a-4149-ac8f-d8f9469f550e",
      "cell_type": "markdown",
      "source": "- **定義**: **DataBase Management System** の略\n- **役割**: アプリケーションソフトウェアの要求に応じて、データベースを操作する**仲介ソフトウェア** (Middleware / 中间件)\n- **必要性**: アプリケーションが直接データベースを操作するのではなく、DBMSを介して操作することで、データの**一貫性** (Consistency / 一致性) と**セキュリティ** (Security / 安全性) を保つ",
      "metadata": {}
    },
    {
      "id": "8291ebaf-45e1-431c-883e-7de102ea2505",
      "cell_type": "markdown",
      "source": "### データ操作の流れ (Data Operation Flow)",
      "metadata": {}
    },
    {
      "id": "524e7476-4fc4-4b22-a83f-18c6c474a9bc",
      "cell_type": "markdown",
      "source": "1. **ユーザ** (User) → (操作) → **アプリケーション** (Application)\n2. **アプリケーション** → (操作) → **DBMS**\n3. **DBMS** → (操作) → **データベース** (Database)",
      "metadata": {}
    },
    {
      "id": "d3afbaac-f982-4ae6-a750-c472ec5379a0",
      "cell_type": "markdown",
      "source": "## 基本のデータ操作 (基本6操作)",
      "metadata": {}
    },
    {
      "id": "e84279c4-7e76-4de7-a090-8154cffb03da",
      "cell_type": "markdown",
      "source": "DBMSが提供する、データに対する基本的な6つの操作。**関係代数** (Relational Algebra / 关系代数) に基づく。",
      "metadata": {}
    },
    {
      "id": "abae0016-ef28-43f9-a2f3-3f864a16df36",
      "cell_type": "markdown",
      "source": "| 操作 | 英語 | 中国語 | 説明 | SQLでの例 |\n|------|------|--------|------|----------|\n| **選択** (Selection) | Selection | 选择 | テーブルから**特定の行（レコード）** のみを取り出す | WHERE句 |\n| **射影** (Projection) | Projection | 投影 | テーブルから**特定の列（カラム）** のみを取り出す | SELECT句 |\n| **結合** (Join) | Join | 连接 | **複数のテーブル**を1つにまとめる | FROM TableA, TableB WHERE ... |\n| **挿入** (Insertion) | Insertion | 插入 | テーブルに**新しい行を追加**する | INSERT文 |\n| **更新** (Update) | Update | 更新 | 既存の行内のデータを**変更**する | UPDATE文 |\n| **削除** (Deletion) | Deletion | 删除 | テーブルから行を**削除**する | DELETE文 |",
      "metadata": {}
    },
    {
      "id": "34908a0f-9179-4d91-8d8c-44111b71149b",
      "cell_type": "markdown",
      "source": "## SQL (Structured Query Language)",
      "metadata": {}
    },
    {
      "id": "72e0821a-2719-48f6-b3a8-64428944156c",
      "cell_type": "markdown",
      "source": "- **定義**: **S**tructured **Q**uery **L**anguage の略\n- **役割**: **関係データベースを操作するための標準的な言語** (Standard Language for Operating RDBMS)\n- **操作の流れ**: アプリケーション → (SQL文) → RDBMS → (結果) → アプリケーション",
      "metadata": {}
    },
    {
      "id": "04d604a9-cafd-4d27-a84b-3b2cc4a9e383",
      "cell_type": "markdown",
      "source": "### WHERE句と演算子 (条件指定)",
      "metadata": {}
    },
    {
      "id": "efad8d14-3288-481f-b861-5c32b5c47c19",
      "cell_type": "markdown",
      "source": "- **役割**: **選択**を行う。条件に合致する行のみを取り出す",
      "metadata": {}
    },
    {
      "id": "7fe85684-97aa-4931-bbdb-c3c081fba3c8",
      "cell_type": "markdown",
      "source": "#### 比較演算子 (Comparison Operators)",
      "metadata": {}
    },
    {
      "id": "215449d4-fbc6-47c7-a06c-9fd31d9983be",
      "cell_type": "markdown",
      "source": "| 演算子 | 意味 | 英語 | 中国語 | 例 |\n|--------|------|------|--------|----|\n| = | 等しい | Equal to | 等于 | 学生名 = '鈴木愛子' |\n| >= | 以上 | Greater than or equal | 大于等于 | 学生番号 >= 2 |\n| <= | 以下 | Less than or equal | 小于等于 | 年齢 <= 20 |\n| > | より大きい | Greater than | 大于 | 点数 > 80 |\n| < | より小さい | Less than | 小于 | 点数 < 30 |\n| <> | 等しくない | Not equal to | 不等于 | 学科 <> '情報' |",
      "metadata": {}
    },
    {
      "id": "096c92e3-1f68-4dfd-8df0-207e74a1979f",
      "cell_type": "markdown",
      "source": "#### 論理演算子 (Logical Operators)",
      "metadata": {}
    },
    {
      "id": "f737ba2d-ba46-4c8b-99a1-4980fa133f2b",
      "cell_type": "markdown",
      "source": "| 演算子 | 意味 | 英語 | 中国語 | 例 |\n|--------|------|------|--------|----|\n| AND | かつ | AND | 并且 | 学生番号>=2 AND 学生名='鈴木' |\n| OR | または | OR | 或者 | 学生番号>=2 OR 学生名='鈴木' |\n| NOT | 〜ではない | NOT | 非 | NOT (学生名='鈴木') |",
      "metadata": {}
    },
    {
      "id": "f726bd6a-a83a-4eda-aedc-52458116f173",
      "cell_type": "markdown",
      "source": "### 集計関数 (Aggregate Functions / 聚合関数)",
      "metadata": {}
    },
    {
      "id": "bc59688c-6bbc-47c9-bafe-d0e6f2531d72",
      "cell_type": "markdown",
      "source": "| 関数 | 機能 | 英語 | 中国語 | 例 |\n|------|------|------|--------|----|\n| SUM(列名) | 合計を求める | Sum | 求和 | SUM(点数) |\n| AVG(列名) | 平均を求める | Average | 求平均 | AVG(点数) |\n| MIN(列名) | 最小値を求める | Minimum | 求最小值 | MIN(点数) |\n| MAX(列名) | 最大値を求める | Maximum | 求最大值 | MAX(点数) |\n| COUNT(*) | 行数を数える | Count | 计数 | COUNT(*) |",
      "metadata": {}
    },
    {
      "id": "b0005060-6302-4cdc-8539-38ac91991836",
      "cell_type": "markdown",
      "source": "## データのグループ化 (GROUP BY句)",
      "metadata": {}
    },
    {
      "id": "77027684-640a-41a6-bb70-e460a5c808a1",
      "cell_type": "markdown",
      "source": "- **定義**: SELECT文にGROUP BY句を指定することで、データを**グループ化** (Grouping) する\n- **機能**: **列の値が同じレコードを1つにまとめる**ことができる\n- **用途**: 各グループごとの**合計** (SUM)、**平均** (AVG) などを求める際に使用する",
      "metadata": {}
    },
    {
      "id": "7c446c08-0bbb-4b73-8dfb-c634eac176b9",
      "cell_type": "markdown",
      "source": "## WHERE句とGROUP BY句の併用",
      "metadata": {}
    },
    {
      "id": "81090f18-8c96-4b20-9422-d865755042d8",
      "cell_type": "markdown",
      "source": "WHERE句とGROUP BY句を同時に使う場合、**必ず以下の順序で記述する**\n1. WHERE句 (まず条件でフィルタリング)\n2. GROUP BY句 (その後でグループ化)",
      "metadata": {}
    },
    {
      "id": "8afd2fce-b946-4d2d-9096-195f3300622f",
      "cell_type": "markdown",
      "source": "### HAVING句の目的とWHERE句との違い",
      "metadata": {}
    },
    {
      "id": "86964565-69d9-49fa-8bfa-578c49b18f61",
      "cell_type": "markdown",
      "source": "| 句 | 適用タイミング | 英語 | 中国語 | 対象 |\n|----|----------------|------|--------|------|\n| **WHERE句** | **グループ化する前** | Before Grouping | 分组前 | 元のテーブルの**行（レコード）** |\n| **HAVING句** | **グループ化した後** | After Grouping | 分组后 | グループ化でできた**グループ** |",
      "metadata": {}
    },
    {
      "id": "34e3135f-0883-48a1-b0a1-58751f675b4b",
      "cell_type": "markdown",
      "source": "## データの並べ替え (ORDER BY句)",
      "metadata": {}
    },
    {
      "id": "f3914580-28d0-4487-96e2-018329d7e006",
      "cell_type": "markdown",
      "source": "| 指定 | 英語 | 中国語 | 意味 |\n|------|------|--------|------|\n| **ASC** | Ascending Order | 升序 (从小到大) | **昇順**（小さい値から順） |\n| **DESC** | Descending Order | 降序 (从大到小) | **降順**（大きい値から順） |",
      "metadata": {}
    },
    {
      "id": "685d6d75-cd59-41f3-a929-dbe635c13327",
      "cell_type": "markdown",
      "source": "## ビュー (View)",
      "metadata": {}
    },
    {
      "id": "e5a657bb-21b5-45ec-92e8-15b9b4cbd91d",
      "cell_type": "markdown",
      "source": "- **定義**: **仮想的な表** (Virtual Table / 虚拟表)。CREATE VIEW文で作成される\n- **別名**: **導出表** (Derived Table / 导出表)\n- **対義語**: **実表** (Base Table / 基表) - 実際にデータが保存されている物理的な表",
      "metadata": {}
    },
    {
      "id": "ef6ecaa9-7072-4ec3-a933-02e90e1551e4",
      "cell_type": "markdown",
      "source": "## インデックス (Index / 索引)",
      "metadata": {}
    },
    {
      "id": "919b2913-6f52-4552-841b-c7f4b1c0ce32",
      "cell_type": "markdown",
      "source": "- **定義**: データベースの**検索を高速化**するための機能\n- **仕組み**: 本の**索引**と同じ。特定の列の値と、その値を持つレコードの**物理的な位置**へのポインタを対にして保持する",
      "metadata": {}
    },
    {
      "id": "e9582c36-b177-4cc1-ae35-e5588bf2cac3",
      "cell_type": "markdown",
      "source": "### インデックスのトレードオフ (Trade-off)",
      "metadata": {}
    },
    {
      "id": "86868085-4b67-41ca-a3fd-a3a628c4a0c5",
      "cell_type": "markdown",
      "source": "| メリット (Advantage) | デメリット (Disadvantage) |\n|----------------------|--------------------------|\n| **検索速度が向上** (SELECTが速い) | **更新処理が遅くなる** (INSERT, UPDATE, DELETEが遅い) |\n| 目的のデータを素早く見つけられる | データ更新のたびに、インデックスも更新する必要がある |",
      "metadata": {}
    },
    {
      "id": "c83b01db-e355-4bb9-a92f-2084f078c5d5",
      "cell_type": "markdown",
      "source": "## ストアドプロシージャ (Stored Procedure / 存储过程)",
      "metadata": {}
    },
    {
      "id": "ab093142-b7c4-4306-80f3-e5459ae9ea8f",
      "cell_type": "markdown",
      "source": "- **定義**: データベースに対する**複数の命令を1つにまとめ**、データベース管理システム (DBMS) 内に**保存したプログラム**",
      "metadata": {}
    },
    {
      "id": "2245b542-0420-4cb8-ab09-1cc4918b9e35",
      "cell_type": "markdown",
      "source": "- **ネットワーク負荷の軽減**: クライアントが複数回的指令を送信する代わりに、ストアドプロシージャ名を1回呼び出すだけで済む\n- **処理の共通化**: 複雑で頻繁に使用する処理をサーバ側に保存し、様々なクライアントから利用できる",
      "metadata": {}
    },
    {
      "id": "38bbe783-afbc-4ab4-b750-fcc692f2a2b9",
      "cell_type": "markdown",
      "source": "---",
      "metadata": {}
    },
    {
      "id": "baa5b0ba-dd73-4f20-adf4-577f19598b4d",
      "cell_type": "markdown",
      "source": "## トランザクション管理 (Transaction Management)",
      "metadata": {}
    },
    {
      "id": "3ba650a8-4403-4176-a8b3-0163f6b252c9",
      "cell_type": "markdown",
      "source": "### トランザクションとは",
      "metadata": {}
    },
    {
      "id": "e94559a6-d399-4f68-a6e8-683f150e3982",
      "cell_type": "markdown",
      "source": "- **定義**: **関連する複数の処理のまとまり** (A collection of related multiple processes / 相关联的多个处理的集合)\n- **ユーザ視点**: ユーザから見た**1つの処理単位**\n- **具体例 (銀行振込)**:\n  - 太郎の口座から1万円を出金する (Withdraw 10,000 yen from Taro's account)\n  - 花子の口座に1万円を入金する (Deposit 10,000 yen into Hanako's account)\n  - ユーザ（太郎）にとっては、この**2つの処理が両方成功**して初めて「振り込み」という**1つの処理**が完了したことになる",
      "metadata": {}
    },
    {
      "id": "4939841a-23f4-4462-a1fd-df966b28ec39",
      "cell_type": "markdown",
      "source": "## ACID特性 (ACID Properties)",
      "metadata": {}
    },
    {
      "id": "968f5c54-6f10-428a-b8ee-d93085ac84f6",
      "cell_type": "markdown",
      "source": "| 性質 | 英語 | 中国語 | 説明 |\n|------|------|--------|------|\n| **原子性**| Atomicity | 原子性 | トランザクション内の処理が **「すべて実行される」** か、**「すべて取り消される」** かのどちらかになる性質。<br>（全部执行 or 全部取消） |\n| **一貫性**| Consistency | 一致性 | トランザクションの**前後**でデータベースに矛盾がないこと | \n| **独立性**| Isolation | 隔离性 | 複数のトランザクションを同時実行しても、**互いの処理結果が干渉しない**こと |\n| **耐久性**| Durability | 持久性 | トランザクションが完了した後、**ハードウェア障害が発生しても**結果が失われないこと | ",
      "metadata": {}
    },
    {
      "id": "c176729e-df93-4deb-8151-2979c42b2140",
      "cell_type": "markdown",
      "source": "## 障害回復 (Failure Recovery)",
      "metadata": {}
    },
    {
      "id": "de9da022-351d-4c0a-9039-485a9f68e534",
      "cell_type": "markdown",
      "source": "- **定義**: 壊れたデータやハードウェアを直すこと\n- **別名**: **リカバリ** (Recovery / 恢复)",
      "metadata": {}
    },
    {
      "id": "3483aab5-d599-4ecc-b97a-d46113101546",
      "cell_type": "markdown",
      "source": "| ファイル | 英語 | 中国語 | 説明 |\n|----------|------|--------|------|\n| **バックアップファイル** (Backup File) | Backup File | 备份文件 | データベース全体を**定期的**（例: 毎週末）に保存したファイル |\n| **ログファイル** (Log File) | Log File | 日志文件 | トランザクション実行**前後の状態**を記録したファイル<br>• **更新前ログファイル**: トランザクション直前の状態<br>• **更新後ログファイル**: トランザクション完了後の状態<br>（別名: ジャーナルファイル） |",
      "metadata": {}
    },
    {
      "id": "6231958e-d964-423c-aa56-daca16f316a8",
      "cell_type": "markdown",
      "source": "## 障害回復の手法 (Recovery Methods)",
      "metadata": {}
    },
    {
      "id": "7eea0b1f-8e1c-4f66-8113-c6b972e25830",
      "cell_type": "markdown",
      "source": "### ロールバック (Rollback / 回滚)",
      "metadata": {}
    },
    {
      "id": "f8cca0b0-996a-4065-9848-b2b57067066f",
      "cell_type": "markdown",
      "source": "- **目的**: トランザクション**実行中**に障害が発生した場合の回復\n- **復元先**: トランザクション**開始直前**の状態に戻す\n- **使用ファイル**: **更新前ログファイル** (Before-Update Log File)\n- **具体例**: 出金処理後の入金処理中に障害発生 → 出金処理を取り消し、全額を太郎の口座に戻す",
      "metadata": {}
    },
    {
      "id": "c22a1fdb-7a55-46b1-9bde-7dbdd1c5df7c",
      "cell_type": "markdown",
      "source": "### ロールフォワード (Rollforward / 前滚)",
      "metadata": {}
    },
    {
      "id": "38dad3f4-f21a-4c37-95eb-47c9fba68e62",
      "cell_type": "markdown",
      "source": "- **目的**: トランザクション**完了後**に障害（例: ハードディスク破損）が発生した場合の回復\n- **復元先**: トランザクション**完了直後**の状態に戻す\n- **使用ファイル**: **バックアップファイル** (Backup File) + **更新後ログファイル** (After-Update Log File)\n- **手順**:\n  1. バックアップファイルでデータベースを復元（この時点では古い状態）\n  2. バックアップ取得後から障害発生までに実行されたトランザクションを、更新後ログファイルを使って**再実行**し、最新の状態にまで**追いかける**",
      "metadata": {}
    },
    {
      "id": "a7e23cfa-6168-4030-bd88-21e789b3fe28",
      "cell_type": "markdown",
      "source": "## 障害回復手法の比較",
      "metadata": {}
    },
    {
      "id": "6b9dcc5b-6d1c-4829-af6e-bcd375892fef",
      "cell_type": "markdown",
      "source": "| 手法 | 適用タイミング | 使用ファイル | 復元先 |\n|------|----------------|-------------|--------|\n| **ロールバック** | トランザクション**実行中**の障害 | 更新前ログファイル | トランザクション**開始直前**の状態 |\n| **ロールフォワード** | トランザクション**完了後**の障害 | バックアップファイル + 更新後ログファイル | トランザクション**完了直後**の状態 |",
      "metadata": {}
    },
    {
      "id": "c8ff00a7-41bc-412b-88fb-51b41f1efbf3",
      "cell_type": "markdown",
      "source": "---",
      "metadata": {}
    },
    {
      "id": "ba789f83-0bf2-4880-8f02-1a14e3f728df",
      "cell_type": "markdown",
      "source": "## 排他制御",
      "metadata": {}
    },
    {
      "id": "a4fbb375-9ae4-487d-9703-3314b78dfca2",
      "cell_type": "markdown",
      "source": "- **排他制御**: 複数の人が**同じデータを同時に更新**しようとした場合に、データに**矛盾が生じないようにする**機能\n- **重要性**: DBMSにおいて**最も重要な機能**の一つ。基本情報技術者試験でも**非常によく出題**される",
      "metadata": {}
    },
    {
      "id": "c1a5b065-5b02-4994-a5ab-25136000f44a",
      "cell_type": "code",
      "source": "",
      "metadata": {
        "trusted": true
      },
      "outputs": [],
      "execution_count": null
    },
    {
      "id": "3b69c9d0-d25b-4fec-9fb1-308e02f49b97",
      "cell_type": "markdown",
      "source": "## ロック ",
      "metadata": {}
    },
    {
      "id": "08774168-4fd5-42c7-817d-555fa02b8457",
      "cell_type": "markdown",
      "source": "### 専有ロック (Exclusive Lock / 独占锁)",
      "metadata": {}
    },
    {
      "id": "ec6f4230-1e39-48d7-8419-2d32741bf701",
      "cell_type": "markdown",
      "source": "- **目的**: **データベースを更新する**際に使用する\n- **動作**:\n  - ロックをかけたトランザクション: データの**読み書きが可能**\n  - 他のトランザクション: データの**読み出しも書き込みも一切できない**\n- **別名**: **書き込みロック** (Write Lock / 写锁)",
      "metadata": {}
    },
    {
      "id": "0219d7d2-6614-4607-8128-e23b5a86ad9d",
      "cell_type": "markdown",
      "source": "### 共有ロック (Shared Lock / 共享锁)",
      "metadata": {}
    },
    {
      "id": "66398061-05b2-4d28-b2f2-17f9412019cb",
      "cell_type": "markdown",
      "source": "- **目的**: **データを読み出すことだけが目的**の場合に使用する\n- **動作**:\n  - ロックをかけたトランザクション: データの**読み出しのみ可能**（書き込み不可）\n  - 他のトランザクション: データの**読み出しは可能**（書き込み不可）\n- **別名**: **読み取りロック** (Read Lock / 读锁)",
      "metadata": {}
    },
    {
      "id": "11f76fe8-1d34-4f6b-8531-72ac132d2709",
      "cell_type": "markdown",
      "source": "## ロックの両立性 (Lock Compatibility)",
      "metadata": {}
    },
    {
      "id": "afc6240d-ec2e-42ce-a670-506693ec3eea",
      "cell_type": "markdown",
      "source": "- **定義**: **複数のトランザクションが、同じデータに対していくつかのロックを同時にかけることができる特性**\n- **具体例**: 複数のトランザクションが**共有ロック**を同時にかけることができる",
      "metadata": {}
    },
    {
      "id": "759107dd-c5d4-4546-93a2-540f84ce3bc5",
      "cell_type": "markdown",
      "source": "## ロックの両立性マトリックス",
      "metadata": {}
    },
    {
      "id": "01635c94-6968-4118-b1e0-a6fe84dc5100",
      "cell_type": "markdown",
      "source": "| | 共有ロック | 専有ロック |\n|------|------------|------------|\n| **共有ロック** | ○ (可能) | × (不可能) |\n| **専有ロック** | × (不可能) | × (不可能) |",
      "metadata": {}
    },
    {
      "id": "ec04f537-9ec3-49b7-942c-f22578ec471f",
      "cell_type": "markdown",
      "source": "## デッドロック (Deadlock)",
      "metadata": {}
    },
    {
      "id": "ca205959-2f78-41c1-8d08-d93d89d244cf",
      "cell_type": "markdown",
      "source": "- **定義**: 複数のトランザクションが互いに相手のロック解放を待ち続ける状態\n- **別名**: **相互待ち** (Mutual Waiting)\n- **対策**: \n  - ロックの取得順序を統一する\n  - タイムアウト機構を設ける\n  - デッドロック検出とロールバック",
      "metadata": {}
    },
    {
      "id": "b163059f-3cbe-494b-9975-e5762bc29f20",
      "cell_type": "markdown",
      "source": "## ロックの粒度 (Lock Granularity)",
      "metadata": {}
    },
    {
      "id": "e33ff023-da18-46a0-b505-e51abed928c9",
      "cell_type": "markdown",
      "source": "- **定義**: ロックの**対象となるデータの単位**\n- **選択可能な単位の例**:\n  - データベース単位 (Database Level)\n  - テーブル単位 (Table Level)\n  - レコード単位 (Record Level)",
      "metadata": {}
    },
    {
      "id": "012b48ca-8292-4c47-b288-cb108c39dfee",
      "cell_type": "markdown",
      "source": "### 粒度の大小とトレードオフ (Trade-off)",
      "metadata": {}
    },
    {
      "id": "587305b5-738a-40ca-9eb3-a53b3dc0f9ca",
      "cell_type": "markdown",
      "source": "| 粒度 | 競合 (Contention) | 管理コスト (Management Cost) | CPU/メモリ負荷 (CPU/Memory Load) |\n|------|------------------|-----------------------------|---------------------------------|\n| **小さくする** (例: レコード単位) | **起きにくい** (他のTxが利用できるデータが多くなる) | **複雑** | **増える** |\n| **大きくする** (例: テーブル単位) | **起きやすい** (他のTxが利用できるデータが少なくなる) | **単純** | **減る** |",
      "metadata": {}
    }
  ]
}