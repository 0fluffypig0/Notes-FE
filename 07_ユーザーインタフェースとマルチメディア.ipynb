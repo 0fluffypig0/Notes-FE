{
  "metadata": {
    "kernelspec": {
      "name": "xpython",
      "display_name": "Python 3.13 (XPython)",
      "language": "python"
    },
    "language_info": {
      "file_extension": ".py",
      "mimetype": "text/x-python",
      "name": "python",
      "version": "3.13.1"
    }
  },
  "nbformat_minor": 5,
  "nbformat": 4,
  "cells": [
    {
      "id": "588d2d42-ec76-489a-a466-a80e9d4ede40",
      "cell_type": "markdown",
      "source": "---",
      "metadata": {}
    },
    {
      "id": "6b4ed158-e767-4cca-8cda-fb3263cdc78c",
      "cell_type": "markdown",
      "source": "# ユーザーインタフェースとマルチメディア",
      "metadata": {}
    },
    {
      "id": "d54ba5d3-ff31-412e-bc65-8eba583eea2e",
      "cell_type": "markdown",
      "source": "---",
      "metadata": {}
    },
    {
      "id": "d8998abe-4dcb-4fde-bd2c-60d4804976e1",
      "cell_type": "markdown",
      "source": "- 優れた機能を持つシステムでも、UIが適切に設計されていないと**使いづらいシステム** (Hard-to-use System) になってしまう。\n- そのため、現代のシステム開発ではUIの設計と開発に**多くの時間が割かれている** (A lot of time is devoted to...)。",
      "metadata": {}
    },
    {
      "id": "439799bf-8937-41d6-bd5e-d836002b5bb6",
      "cell_type": "markdown",
      "source": "| 類 | 説明 | 英語 | 中国語 |\n|------|------|------|--------|\n| **CUI** | コンピュータの操作を、**文字** (Character) で行うユーザーインタフェース。 | Character User Interface | 字符用户界面 |\n| **GUI** | コンピュータの操作を、**ウィンドウ** (Window) や**アイコン** (Icon) などの**視覚的な要素** (Visual Elements) で行うユーザーインタフェース。例: Windows, Macのデスクトップ。 | Graphical User Interface | 图形用户界面 |\n",
      "metadata": {}
    },
    {
      "id": "3863acce-f7ea-4d42-a3d5-59fd31f1ecb0",
      "cell_type": "markdown",
      "source": "### ラジオボタン (Radio Button / 单选按钮)",
      "metadata": {}
    },
    {
      "id": "61b57017-69f8-44e2-8089-04d415953d90",
      "cell_type": "markdown",
      "source": "- **機能**: 選択肢から**一項目だけ** (Only one item) を選択できる。\n- **見た目**: 通常、**丸い形** (Round shape) のボタンで表される。\n- **特徴**: 複数の選択肢の中から**排他的** (Exclusive) に1つを選ぶ場合に使用する。",
      "metadata": {}
    },
    {
      "id": "59a47d59-e530-4a8f-8453-4b7e1e24a312",
      "cell_type": "markdown",
      "source": "### チェックボックス (Checkbox / 复选框)",
      "metadata": {}
    },
    {
      "id": "e7589a6d-6c5d-4586-8238-f7fd4ce9f0ce",
      "cell_type": "markdown",
      "source": "- **機能**: 選択肢から**複数の項目** (Multiple items) を選択できる。\n- **見た目**: 通常、ラジオボタンと区別するために**四角い形** (Square shape) のボタンで表される。\n- **特徴**: 複数の選択肢を**同時に選択可能** (Can be selected simultaneously) な場合に使用する。",
      "metadata": {}
    },
    {
      "id": "2fda367c-55e2-438c-ae2d-74873735808e",
      "cell_type": "markdown",
      "source": "### プルダウンメニュー (Pull-down Menu / 下拉菜单)",
      "metadata": {}
    },
    {
      "id": "78b22b95-6048-4f56-949c-1983038c70a7",
      "cell_type": "markdown",
      "source": "- **機能**: 選択肢を**一覧表示** (List) し、その中から**1つの項目だけ**を選択できる。\n- **特徴**:\n  - ラジオボタンは最初から全ての選択肢が表示されているが、プルダウンメニューは**ボタンを押す** (Press a button) まで選択肢が非表示。\n  - 画面スペースを**節約** (Save) できる。",
      "metadata": {}
    },
    {
      "id": "73183a29-d4e2-4319-99e3-3904433018f9",
      "cell_type": "markdown",
      "source": "### コンボボックス (Combo Box / 组合框)",
      "metadata": {}
    },
    {
      "id": "2d34dcc7-2bb1-4c09-a120-2663fda1682c",
      "cell_type": "markdown",
      "source": "- **機能**: **プルダウンメニュー + テキストボックス** (Pull-down menu + Text box)。\n- **構成**: あらかじめ用意された選択肢から選ぶことに加えて、**手入力** (Manual input) が可能。\n- **特徴**: テキストボックス部分で**自由な入力** (Free input) ができるため、選択肢に無い項目を指定できる柔軟性がある。",
      "metadata": {}
    },
    {
      "id": "a5f53393-98ae-43f2-9766-f2e1b0511fdc",
      "cell_type": "markdown",
      "source": "---",
      "metadata": {}
    },
    {
      "id": "b497be68-b91e-4b23-9daf-b5beb09b11cd",
      "cell_type": "markdown",
      "source": "## ユーザビリティ (Usability / 可用性)",
      "metadata": {}
    },
    {
      "id": "a120dfdc-328b-4487-b390-08d703d9df8b",
      "cell_type": "markdown",
      "source": "- **定義**: ユーザインタフェースの **「使いやすさ」**。\n- **重要性**: 設計の良し悪しで使いやすさが大きく変わる。例: 選択肢が10,000個もあるプルダウンメニューは使いにくい。\n- **JIS規格での定義**: 以下の3要素で評価される:\n  - **効果 (Effectiveness / 有效性)**: ユーザが特定の目標を達成する際の**正確性および完全性**\n  - **効率 (Efficiency / 效率)**: 達成された結果に関連して**費やした資源**（時間や労力）\n  - **満足度 (Satisfaction / 满意度)**: ユーザの**身体的、認知的、感情的な**受け止め方（ニーズと期待が満たされている程度）",
      "metadata": {}
    },
    {
      "id": "b9f83843-09b9-4c0d-9973-b93db433729c",
      "cell_type": "markdown",
      "source": "## ユーザビリティ評価手法 (Usability Evaluation Methods)",
      "metadata": {}
    },
    {
      "id": "fd7f1d78-fb31-43dc-aafa-8897c0e9e7e6",
      "cell_type": "markdown",
      "source": "| 評価方法 | 説明 | 英語 | 中国語 |\n|----------|------|------|--------|\n| **インタビュー法** | 実際の利用者に会って話を聞き、**満足度**などの情報を収集する | Interview Method | 访谈法 |\n| **ヒューリスティック評価** | **ユーザビリティの専門家**がその知識と経験に基づいて評価を行う（「発見的」評価）。100%正確とは限らない | Heuristic Evaluation | 启发式评估 |\n| **ユーザビリティテスト** | 利用者に実際に製品を使ってもらい、その様子を**観察**することで評価する。別名「ユーザテスト」 | Usability Testing | 可用性测试 |\n| **ログデータ分析法** | アクセスログや操作ログなどの**ログデータ**を分析し、ユーザの利用傾向から使いやすさを評価する | Log Data Analysis | 日志数据分析 |",
      "metadata": {}
    },
    {
      "id": "aa752661-ee16-46aa-9f86-dc65376721c2",
      "cell_type": "markdown",
      "source": "## ユーザビリティ向上のための機能 (Functions to Improve Usability)",
      "metadata": {}
    },
    {
      "id": "eacdedc4-f723-41d5-8c3c-f9dd648471c1",
      "cell_type": "markdown",
      "source": "### 入力チェック (Input Validation / 输入检查)",
      "metadata": {}
    },
    {
      "id": "81310fcb-213c-47c2-a9e8-b5c70e771f7f",
      "cell_type": "markdown",
      "source": "| 手法 | 説明 | 英語 | 中国語 |\n|------|------|------|--------|\n| **論理チェック** | データが**論理的**に正しいか検査。例: 注文日が未来の日付ではないか | Logic Check | 逻辑检查 |\n| **重複チェック** | データが**重複**していないか検査。例: 伝票番号が一意であるか | Duplication Check | 重复检查 | \n| **フォーマットチェック** | データが**正しい形式**か検査。例: メールアドレスに@があるか | Format Check | 格式检查 | \n| **シーケンスチェック** | データが**正しい順序**で並んでいるか検査。例: 伝票番号が昇順か | Sequence Check | 顺序检查 | ",
      "metadata": {}
    },
    {
      "id": "c9acf667-0a31-4296-ab51-7cb4d7d5b1a6",
      "cell_type": "markdown",
      "source": "### その他の機能 (Other Functions)",
      "metadata": {}
    },
    {
      "id": "506842a1-7392-48b3-8445-240ff04e8f2f",
      "cell_type": "markdown",
      "source": "| 機能 | 説明 | 英語 | 中国語 |\n|------|------|------|--------|\n| **Undo機能** | 直前の操作を取り消して元の状態に戻せる機能 | Undo Function | 撤销功能 |\n| **マクロ機能** | **一連の定型的操作**を記録・再生し、操作数を減らす機能 | Macro Function | 宏功能 |\n| **ショートカットキー** | 複数キーの同時押しで**効率的**に操作できる機能 | Shortcut Key | 快捷键 |",
      "metadata": {}
    },
    {
      "id": "51908420-e205-4776-9f06-ceda006eefff",
      "cell_type": "markdown",
      "source": "## 関連する設計概念 (Related Design Concepts)",
      "metadata": {}
    },
    {
      "id": "2da2ca54-c2b6-4590-8285-bdf08626cf4d",
      "cell_type": "markdown",
      "source": "| 概念 | 説明 | 英語 | 中国語 | 違い |\n|------|------|------|--------|------|\n| **ユニバーサルデザイン** | 年齢・能力・文化などにかかわらず、**できるだけ多くの人**が利用できる設計。「すべての人のためのデザイン」 | Universal Design | 通用设计 | **対象がより広い** |\n| **バリアフリーデザイン** | **高齢者や障害者**の生活上の障壁（バリア）を取り除く設計 | Barrier-Free Design | 无障碍设计 | ユニバーサルデザインの一部 |\n| **Webアクセシビリティ** | 年齢や身体的条件にかかわらず、すべての人がWebサイトを**利用できる度合い** | Web Accessibility | 网页可访问性 | Webに特化した概念 |\n",
      "metadata": {}
    },
    {
      "id": "6f2ab41d-e242-4d88-8dab-efd96cf14878",
      "cell_type": "markdown",
      "source": "---",
      "metadata": {}
    },
    {
      "id": "c1ba5c38-07a6-4904-8d50-97f7f8399819",
      "cell_type": "markdown",
      "source": "## マルチメディアの定義 (Definition of Multimedia)",
      "metadata": {}
    },
    {
      "id": "00ff9e9b-1241-4474-a92b-c757b9652460",
      "cell_type": "markdown",
      "source": "- **定義**: 文字、音声、静止画、動画など、**複数の形態のメディア**を統合的に扱う技術。\n- **語源**:\n  - マルチ (Multi): 「複数」の意味\n  - メディア (Media): 「媒体」（ものとものの間で媒介するもの）の意味",
      "metadata": {}
    },
    {
      "id": "5ec80ad8-c9d0-4cb5-83f0-6155d9ae171e",
      "cell_type": "markdown",
      "source": "## 文字 (Text)",
      "metadata": {}
    },
    {
      "id": "d5a394f6-d476-4ba4-b71a-63df2973338d",
      "cell_type": "markdown",
      "source": "### フォントの種類 (Types of Fonts)",
      "metadata": {}
    },
    {
      "id": "359d1135-be94-4f8c-93a7-d824ebc4679a",
      "cell_type": "markdown",
      "source": "| フォント | 英語 | 中国語 | 原理 | 長所 | 短所 | 用途 |\n|---------|------|--------|------|------|------|------|\n| **ビットマップフォント** | Bitmap Font | 位图字体 | 文字の形を**正方形のドット（点）の集合**で表現 | 表示速度が**速い** | **拡大するとギザギザ（ジャギー）が目立つ** | サイズ固定の環境 |\n| **アウトラインフォント** | Outline Font | 轮廓字体 | 文字の形を**座標値や方程式**（なめらかな曲線のデータ）で保持 | **拡大縮小してもギザギザが目立たず美しい** | 表示前に**ラスタライズ**処理が必要で、表示が**やや遅い** | DTP、大きな文字表示が必要な場合 |\n",
      "metadata": {}
    },
    {
      "id": "228d539c-bdc1-4795-b41b-7b37b904dbde",
      "cell_type": "markdown",
      "source": "### ラスタライズ (Rasterize / 光栅化)",
      "metadata": {}
    },
    {
      "id": "6bb72006-291b-4bd5-beb1-2f44de3ff54e",
      "cell_type": "markdown",
      "source": "- **定義**: アウトラインフォントなど、ベクター形式のデータを、画面表示や印刷用の**ビットマップ（ドットの集合）に変換する処理**。\n- **重要性**: アウトラインフォントは最終的にビットマップに変換されて初めて表示される。この処理に時間がかかるため、ビットマップフォントより表示速度が劣る。",
      "metadata": {}
    },
    {
      "id": "0bbb4c72-e7a5-45d9-b443-47bce4fba61c",
      "cell_type": "markdown",
      "source": "## 音声 (Audio)",
      "metadata": {}
    },
    {
      "id": "93ba7ee4-003b-4900-9871-8967142163ab",
      "cell_type": "markdown",
      "source": "- **コンピュータ**: **デジタルデータ**しか扱えない\n- **人間の耳**: **アナログ信号**（音波）しか認識できない\n- **結論**: コンピュータで音声を扱うには、**アナログ信号とデジタルデータの相互変換**が不可欠",
      "metadata": {}
    },
    {
      "id": "827dce9a-e320-47c0-b2c3-1863b9a463dd",
      "cell_type": "markdown",
      "source": "### PCM (Pulse Code Modulation / 脉冲编码调制)",
      "metadata": {}
    },
    {
      "id": "39e84398-f461-42d8-b144-dd2df1fd7412",
      "cell_type": "markdown",
      "source": "| 処理 | 英語 | 中国語 | 説明 |\n|------|------|--------|------|\n| **① 標本化 (Sampling)** | Sampling | 采样 | アナログ信号を**一定の時間間隔**で区切る。**サンプリング**とも呼ぶ |\n| **② 量子化 (Quantization)** | Quantization | 量化 | 区切られた各区間のアナログ信号の振幅に**数値（デジタル値）を割り当てる** |\n| **③ 符号化 (Encoding)** | Encoding | 编码 | 量子化で割り当てられた数値を**2進数のビット列に変換する**。これでコンピュータが処理可能な形式になる |\n",
      "metadata": {}
    },
    {
      "id": "42ff4a9a-0916-4485-a113-d341b561f8ae",
      "cell_type": "markdown",
      "source": "## 静止画 (Still Image)",
      "metadata": {}
    },
    {
      "id": "e34588ea-da41-416d-9b64-71b0fad6d46d",
      "cell_type": "markdown",
      "source": "| 用語 | 英語 | 中国語 | 説明 |\n|------|------|--------|------|\n| **クリッピング** | Clipping | 裁剪 | 画像の**一部を切り抜く**こと。3DCGでは、ウィンドウの枠内の画像だけを取り出す処理 |\n| **アンチエイリアシング** | Anti-aliasing | 抗锯齿 | 画像処理で生じる線や輪郭の**ギザギザ（ジャギー）を目立たなくする**滑らか化手法 |\n| **テクスチャマッピング** | Texture Mapping | 纹理映射 | 3DCGで、物体の表面に**模様などの画像を貼り付けて**質感や詳細な表現を付加する手法 |\n",
      "metadata": {}
    },
    {
      "id": "3d2d37fe-12d4-4a2a-9514-37ea09c1563a",
      "cell_type": "markdown",
      "source": "## 動画",
      "metadata": {}
    },
    {
      "id": "00a177cf-96a6-44d3-9c85-cd8a8694ea44",
      "cell_type": "markdown",
      "source": "- **定義**: **動きのある映像** (Moving Images / 动态影像)\n- **原理**: **パラパラ漫画** (Flip Book / 翻页漫画) と同じ原理。大量の静止画を高速で切り替えることで、画像が動いているように見せる\n- **フレームレート (Frame Rate / 帧率)**: 1秒間に表示する静止画の枚数\n- **一般的な値**: **60枚/秒** (60 frames per second / 60帧每秒)。この値が高いほど、動きが滑らかになる",
      "metadata": {}
    },
    {
      "id": "2b6f37ae-0b68-42b7-b37b-ae21e74750ad",
      "cell_type": "markdown",
      "source": "## 動画圧縮の基本概念",
      "metadata": {}
    },
    {
      "id": "a3bc2325-2ee5-46b2-8684-2bc27ec2999a",
      "cell_type": "markdown",
      "source": "- **フレーム間予測**: 連続するフレーム間の類似性を利用して、変化した部分のみを記録する\n- **空間的冗長性の削除**: 1フレーム内の類似した領域を圧縮する\n- **時間的冗長性の削除**: 連続するフレーム間の類似部分を圧縮する",
      "metadata": {}
    },
    {
      "id": "47176e33-dbdb-4fc5-913b-fd8822b41808",
      "cell_type": "markdown",
      "source": "## 動画品質の評価指標",
      "metadata": {}
    },
    {
      "id": "62bc53a3-1bb9-4ebb-8d07-60ced73ed816",
      "cell_type": "markdown",
      "source": "| 指標 | 説明 | 英語 | 中国語 |\n|------|------|------|--------|\n| **ビットレート** | 1秒間のデータ量。値が高いほど高画質だがファイルサイズも大きくなる | Bitrate | 比特率 |\n| **解像度** | 動画の縦横の画素数。例: 1920×1080（フルHD） | Resolution | 分辨率 |\n| **フレームレート** | 1秒間のフレーム数。値が高いほど動きが滑らかになる | Frame Rate | 帧率 |",
      "metadata": {}
    }
  ]
}