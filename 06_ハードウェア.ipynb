{
  "metadata": {
    "kernelspec": {
      "name": "xpython",
      "display_name": "Python 3.13 (XPython)",
      "language": "python"
    },
    "language_info": {
      "file_extension": ".py",
      "mimetype": "text/x-python",
      "name": "python",
      "version": "3.13.1"
    }
  },
  "nbformat_minor": 5,
  "nbformat": 4,
  "cells": [
    {
      "id": "3f858353-052e-4e4e-9da8-65f55d8a5057",
      "cell_type": "markdown",
      "source": "---",
      "metadata": {}
    },
    {
      "id": "5788851a-9c60-4053-826b-88f88cde19ac",
      "cell_type": "markdown",
      "source": "# ハードウェア",
      "metadata": {}
    },
    {
      "id": "58ac1791-14f2-4697-84a6-ff05cb1572ed",
      "cell_type": "markdown",
      "source": "---",
      "metadata": {}
    },
    {
      "id": "49c43d0d-37a2-4e23-a1ea-574ab8e2a2c8",
      "cell_type": "markdown",
      "source": "## 半導体",
      "metadata": {}
    },
    {
      "id": "6f0f3f78-78e9-423e-8f1c-49d555b6865a",
      "cell_type": "markdown",
      "source": "- **定義**: 電気を通す「**導体 (Conductor / 导体)**」と、電気を通さない「**絶縁体 (Insulator / 绝缘体)**」との中間の性質を持つ物質。\n- **性質**: 温度変化や不純物の添加によって、その**電気抵抗が変化**する。",
      "metadata": {}
    },
    {
      "id": "553598d0-9220-4a10-9597-f3d90f37620b",
      "cell_type": "markdown",
      "source": "### RAMとROMの根本的な違い",
      "metadata": {}
    },
    {
      "id": "e55a3ef7-fcc3-440b-be2c-5eb7217a5067",
      "cell_type": "markdown",
      "source": "| 特性 | **RAM** | **ROM** |\n|------|---------|---------|\n| **日本語名** | **ランダムアクセスメモリ** | **リードオンリメモリ** |\n| **中国語注釈** | **随机存取存储器** | **只读存储器** |\n| **揮発性** | **揮発性 (Volatile)**<br>（電源OFF→データ消滅） | **不揮発性 (Non-Volatile)**<br>（電源OFF→データ保持） |\n| **主な用途** | **主記憶装置 (メインメモリ)** | **補助記憶装置 (SSD, USBメモリ)** |\n| **書き換え** | **自由に読み書き可能** | 基本的に読み取り専用だが、フラッシュメモリは書き換え可能 |",
      "metadata": {}
    },
    {
      "id": "b7945623-ad0d-4b4c-8670-09f195d8423b",
      "cell_type": "markdown",
      "source": "## RAMの詳細 (Details of RAM)",
      "metadata": {}
    },
    {
      "id": "0155104f-f483-4bf5-9fe5-6004b8b8de9a",
      "cell_type": "markdown",
      "source": "### DRAM (Dynamic RAM / 动态随机存取存储器)",
      "metadata": {}
    },
    {
      "id": "e832e030-3765-4862-be98-976e0b0a3b00",
      "cell_type": "markdown",
      "source": "- **特徴**: **リフレッシュ (Refresh / 刷新)** と呼ばれる、**電荷の再書き込み**を絶えず行う必要がある。\n- **理由**: 記憶セルに蓄えられた**電荷が時間とともに漏れていく**ため、データを保持するために補充が必要。\n- **長所**: 構造が単純で**集積化しやすく**、**大容量・安価**に製造できる。\n- **短所**: リフレッシュのオーバーヘッドがあり、SRAMより**低速**。\n- **用途**: **主記憶装置 (メインメモリ)** の主要な構成部品。",
      "metadata": {}
    },
    {
      "id": "65649369-46ca-4c9c-b6f7-d6c245739931",
      "cell_type": "markdown",
      "source": "#### SDRAM (Synchronous DRAM / 同步动态随机存取存储器)",
      "metadata": {}
    },
    {
      "id": "cfc7846f-aa65-49cc-9de1-abe836c98484",
      "cell_type": "markdown",
      "source": "- **特徴**: **システムバスのクロック信号**に**同期**して動作するDRAM。\n- **メリット**: 非同期式のDRAMより**高速なデータ転送**が可能。",
      "metadata": {}
    },
    {
      "id": "be3999ff-704a-4cb5-a34c-03ae52533834",
      "cell_type": "markdown",
      "source": "### SRAM (Static RAM / 静态随机存取存储器)",
      "metadata": {}
    },
    {
      "id": "8a995232-38e7-4c42-8e94-b9e09ddc50f5",
      "cell_type": "markdown",
      "source": "- **特徴**: **リフレッシュが不要**。電源が入っている限りデータを保持し続ける。\n- **長所**: アクセス速度が**非常に高速**。\n- **短所**: 構造が複雑で集積度が低く、**高価**。容量も小さい。\n- **用途**: **キャッシュメモリ** (CPUと主記憶の間の超高速メモリ)。",
      "metadata": {}
    },
    {
      "id": "ebe5e229-845d-414d-957c-af4328a64914",
      "cell_type": "markdown",
      "source": "### DRAMとSRAMの比較表",
      "metadata": {}
    },
    {
      "id": "6be067de-5d8d-41c5-b293-ef3a5ea71a0a",
      "cell_type": "markdown",
      "source": "| 項目 | **DRAM** | **SRAM** |\n|------|----------|----------|\n| **速度** | 比較的**低速** | **超高速** |\n| **コスト** | **安価** | **高価** |\n| **集積度** | **高く**、大容量化に向く | **低く**、小容量 |\n| **リフレッシュ** | **必要** | **不要** |\n| **主要用途** | **主記憶 (メインメモリ)** | **キャッシュメモリ** |",
      "metadata": {}
    },
    {
      "id": "261074f0-8318-460c-82c1-27a52553c699",
      "cell_type": "markdown",
      "source": "### フラッシュメモリ (Flash Memory / 闪存)",
      "metadata": {}
    },
    {
      "id": "6b561b3f-d109-4d14-9d30-1a26252c6dfc",
      "cell_type": "markdown",
      "source": "- **特徴**: **電気的に**データの**消去・書き換え**が可能な不揮発性メモリ。\n- **用途**: **SSD (Solid State Drive)**, **USBメモリ**, スマートフォンのストレージ, SDカードなど。\n- **データ操作の単位**:\n  - **読み書き**: **ページ (Page)** 単位\n  - **消去**: **ブロック (Block)** 単位 (ページより大きな単位)",
      "metadata": {}
    },
    {
      "id": "5c8addce-b867-4c27-ae9a-88fb1e6eeee1",
      "cell_type": "markdown",
      "source": "---",
      "metadata": {}
    },
    {
      "id": "1efb196e-3369-419e-b67f-c7f4233498b2",
      "cell_type": "markdown",
      "source": "## メモリセル (Memory Cell / 存储单元)",
      "metadata": {}
    },
    {
      "id": "8ea21866-a671-4c10-92d8-f25f624ae544",
      "cell_type": "markdown",
      "source": "- **定義**: 半導体メモリにおいて、情報「0」または「1」を保存する**最小単位**の構成要素。",
      "metadata": {}
    },
    {
      "id": "be60ebe8-d365-490d-bc10-8422e73d6bfb",
      "cell_type": "markdown",
      "source": "## チャタリング (Chattering / 抖动)",
      "metadata": {}
    },
    {
      "id": "66c01f87-0f2a-4c3d-940b-83753f2c9473",
      "cell_type": "markdown",
      "source": "- **定義**: 機械式スイッチ（Mechanical Switch / 机械式开关）のオン／オフが切り替わる短い間に、**意図しない**（Unintended / 非预期的）オン／オフが何度も繰り返される現象。\n- **例**: マウスを一度しかクリックしていないのに、ダブルクリックと認識されてしまう現象。",
      "metadata": {}
    },
    {
      "id": "73661d21-e468-41e9-9e2d-4c2938c91101",
      "cell_type": "markdown",
      "source": "## 7セグメントLED (7-segment LED / 七段LED数码管)",
      "metadata": {}
    },
    {
      "id": "554ae1cc-05f9-48c6-a459-259238230dd5",
      "cell_type": "markdown",
      "source": "- **定義**: 8個のLEDを組み合わせて数字を表現するディスプレイ（Display / 显示器）。7つのLEDセグメントで数字を表し、1つのLEDで小数点を表す。\n- **分類**:\n  - **アノードコモン型** (Anode Common Type / 共阳极型): ポートから出力される電圧が**低い**（Low / 低）ときにLEDが光る。\n  - **カソードコモン型** (Cathode Common Type / 共阴极型): ポートから出力される電圧が**高い**（High / 高）ときにLEDが光る。",
      "metadata": {}
    }
  ]
}